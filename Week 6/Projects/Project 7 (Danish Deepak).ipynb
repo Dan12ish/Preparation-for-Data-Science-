{
 "cells": [
  {
   "cell_type": "markdown",
   "metadata": {},
   "source": [
    "Danish Deepak\n",
    "\n",
    "# Project 7 - Covid Analysis\n",
    "\n",
    "• How many people are totally vaccinated in India in May 2021?\n",
    "\n",
    "• How many people are vaccinated in Albania on 2022-01-12?"
   ]
  },
  {
   "cell_type": "code",
   "execution_count": 1,
   "metadata": {
    "executionInfo": {
     "elapsed": 1123,
     "status": "ok",
     "timestamp": 1664123260457,
     "user": {
      "displayName": "Danish Deepak",
      "userId": "06932712960541358697"
     },
     "user_tz": -330
    },
    "id": "c1HQMi1yd0g_"
   },
   "outputs": [],
   "source": [
    "import pandas as pd"
   ]
  },
  {
   "cell_type": "code",
   "execution_count": 22,
   "metadata": {
    "colab": {
     "base_uri": "https://localhost:8080/"
    },
    "executionInfo": {
     "elapsed": 444,
     "status": "ok",
     "timestamp": 1664124721694,
     "user": {
      "displayName": "Danish Deepak",
      "userId": "06932712960541358697"
     },
     "user_tz": -330
    },
    "id": "XYgX6cxhedG6",
    "outputId": "a32e8a48-7a0b-4e7a-c9b6-c49ce569e31e"
   },
   "outputs": [
    {
     "name": "stdout",
     "output_type": "stream",
     "text": [
      "       country iso_code        date  total_vaccinations  people_vaccinated  \\\n",
      "0  Afghanistan      AFG  2021-02-22                 0.0                0.0   \n",
      "\n",
      "   people_fully_vaccinated  daily_vaccinations_raw  daily_vaccinations  \\\n",
      "0                      NaN                     NaN                 NaN   \n",
      "\n",
      "   total_vaccinations_per_hundred  people_vaccinated_per_hundred  \\\n",
      "0                             0.0                            0.0   \n",
      "\n",
      "   people_fully_vaccinated_per_hundred  daily_vaccinations_per_million  \\\n",
      "0                                  NaN                             NaN   \n",
      "\n",
      "                                            vaccines  \\\n",
      "0  Johnson&Johnson, Oxford/AstraZeneca, Pfizer/Bi...   \n",
      "\n",
      "                 source_name            source_website  \n",
      "0  World Health Organization  https://covid19.who.int/  \n"
     ]
    }
   ],
   "source": [
    "df=pd.read_csv('/content/drive/MyDrive/Colab Notebooks/country_vaccinations.csv')\n",
    "print(df.head(1))"
   ]
  },
  {
   "cell_type": "code",
   "execution_count": 23,
   "metadata": {
    "colab": {
     "base_uri": "https://localhost:8080/"
    },
    "executionInfo": {
     "elapsed": 506,
     "status": "ok",
     "timestamp": 1664124729546,
     "user": {
      "displayName": "Danish Deepak",
      "userId": "06932712960541358697"
     },
     "user_tz": -330
    },
    "id": "-1B0rZ1ZiOGT",
    "outputId": "ffe3f240-f93a-4206-fdf3-18c6a6898d4c"
   },
   "outputs": [
    {
     "data": {
      "text/plain": [
       "0"
      ]
     },
     "execution_count": 23,
     "metadata": {},
     "output_type": "execute_result"
    }
   ],
   "source": [
    "df['people_fully_vaccinated']=df['people_fully_vaccinated'].fillna(0)\n",
    "df['people_fully_vaccinated'].isna().sum()"
   ]
  },
  {
   "cell_type": "code",
   "execution_count": 28,
   "metadata": {
    "colab": {
     "base_uri": "https://localhost:8080/"
    },
    "executionInfo": {
     "elapsed": 430,
     "status": "ok",
     "timestamp": 1664125065227,
     "user": {
      "displayName": "Danish Deepak",
      "userId": "06932712960541358697"
     },
     "user_tz": -330
    },
    "id": "HeZJGvcxlMki",
    "outputId": "0d52105d-ef9e-4748-cf03-e750684059f6"
   },
   "outputs": [
    {
     "data": {
      "text/plain": [
       "0"
      ]
     },
     "execution_count": 28,
     "metadata": {},
     "output_type": "execute_result"
    }
   ],
   "source": [
    "df['people_vaccinated']=df['people_vaccinated'].fillna(0)\n",
    "df['people_vaccinated'].isna().sum()"
   ]
  },
  {
   "cell_type": "code",
   "execution_count": 29,
   "metadata": {
    "colab": {
     "base_uri": "https://localhost:8080/"
    },
    "executionInfo": {
     "elapsed": 410,
     "status": "ok",
     "timestamp": 1664125068672,
     "user": {
      "displayName": "Danish Deepak",
      "userId": "06932712960541358697"
     },
     "user_tz": -330
    },
    "id": "a1Wgufhfe67D",
    "outputId": "9d0309e2-3608-4270-f9c9-564b2ce4b18b"
   },
   "outputs": [
    {
     "data": {
      "text/plain": [
       "(86512, 15)"
      ]
     },
     "execution_count": 29,
     "metadata": {},
     "output_type": "execute_result"
    }
   ],
   "source": [
    "data=df.values\n",
    "data.shape"
   ]
  },
  {
   "cell_type": "markdown",
   "metadata": {
    "id": "L7fANHBHgOMv"
   },
   "source": [
    "**1) How many people are totally vaccinated in india in may 2021**"
   ]
  },
  {
   "cell_type": "code",
   "execution_count": 30,
   "metadata": {
    "colab": {
     "base_uri": "https://localhost:8080/"
    },
    "executionInfo": {
     "elapsed": 706,
     "status": "ok",
     "timestamp": 1664125072108,
     "user": {
      "displayName": "Danish Deepak",
      "userId": "06932712960541358697"
     },
     "user_tz": -330
    },
    "id": "8FYDt6KrgZS3",
    "outputId": "9739bdff-e37e-46b2-fb4a-670723ca17f2"
   },
   "outputs": [
    {
     "name": "stdout",
     "output_type": "stream",
     "text": [
      "1134570993.0\n"
     ]
    }
   ],
   "source": [
    "total=0\n",
    "for i in data:\n",
    "  if (i[0]=='India'):\n",
    "    if ('2021-05' in i[2]):\n",
    "      total+=i[5]\n",
    "\n",
    "print(total)"
   ]
  },
  {
   "cell_type": "markdown",
   "metadata": {
    "id": "qzEVRxUPkV_d"
   },
   "source": [
    "**2) How many people are vaccinated in albania on 2022-01-12?**"
   ]
  },
  {
   "cell_type": "code",
   "execution_count": 33,
   "metadata": {
    "colab": {
     "base_uri": "https://localhost:8080/"
    },
    "executionInfo": {
     "elapsed": 455,
     "status": "ok",
     "timestamp": 1664125155749,
     "user": {
      "displayName": "Danish Deepak",
      "userId": "06932712960541358697"
     },
     "user_tz": -330
    },
    "id": "lcVGyK8fkhH6",
    "outputId": "503db9e5-468b-462f-a45e-8069f8645667"
   },
   "outputs": [
    {
     "name": "stdout",
     "output_type": "stream",
     "text": [
      "0.0\n"
     ]
    }
   ],
   "source": [
    "total=0\n",
    "for i in data:\n",
    "  if (i[0]=='Albania'):\n",
    "    if ('2022-01-12' in i[2]):\n",
    "      total+=i[4]\n",
    "\n",
    "print(total)"
   ]
  }
 ],
 "metadata": {
  "colab": {
   "authorship_tag": "ABX9TyPEG6+R87vNr2XpY5CoTGyj",
   "collapsed_sections": [],
   "mount_file_id": "1lp9at4JEa0q_F4GoFyZLjPwUDy6MJ-Lm",
   "provenance": []
  },
  "kernelspec": {
   "display_name": "Python 3 (ipykernel)",
   "language": "python",
   "name": "python3"
  },
  "language_info": {
   "codemirror_mode": {
    "name": "ipython",
    "version": 3
   },
   "file_extension": ".py",
   "mimetype": "text/x-python",
   "name": "python",
   "nbconvert_exporter": "python",
   "pygments_lexer": "ipython3",
   "version": "3.9.13"
  }
 },
 "nbformat": 4,
 "nbformat_minor": 1
}
