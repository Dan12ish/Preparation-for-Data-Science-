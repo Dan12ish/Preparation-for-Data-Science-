{
 "cells": [
  {
   "cell_type": "markdown",
   "metadata": {},
   "source": [
    "Danish Deepak\n",
    "\n",
    "# Project 6 - Covid Analysis\n",
    "\n",
    "• Add Month Column in the dataset from Date Column (Jan-Dec)"
   ]
  },
  {
   "cell_type": "code",
   "execution_count": 1,
   "metadata": {
    "executionInfo": {
     "elapsed": 441,
     "status": "ok",
     "timestamp": 1664121944003,
     "user": {
      "displayName": "Danish Deepak",
      "userId": "06932712960541358697"
     },
     "user_tz": -330
    },
    "id": "5FOcSIYZY09O"
   },
   "outputs": [],
   "source": [
    "import pandas as pd"
   ]
  },
  {
   "cell_type": "code",
   "execution_count": 2,
   "metadata": {
    "colab": {
     "base_uri": "https://localhost:8080/"
    },
    "executionInfo": {
     "elapsed": 2149,
     "status": "ok",
     "timestamp": 1664121981784,
     "user": {
      "displayName": "Danish Deepak",
      "userId": "06932712960541358697"
     },
     "user_tz": -330
    },
    "id": "TQyEtywPZb5n",
    "outputId": "8a645e45-1fcc-404b-a9ae-5752fc7dc3d4"
   },
   "outputs": [
    {
     "name": "stdout",
     "output_type": "stream",
     "text": [
      "       country iso_code        date  total_vaccinations  people_vaccinated  \\\n",
      "0  Afghanistan      AFG  2021-02-22                 0.0                0.0   \n",
      "\n",
      "   people_fully_vaccinated  daily_vaccinations_raw  daily_vaccinations  \\\n",
      "0                      NaN                     NaN                 NaN   \n",
      "\n",
      "   total_vaccinations_per_hundred  people_vaccinated_per_hundred  \\\n",
      "0                             0.0                            0.0   \n",
      "\n",
      "   people_fully_vaccinated_per_hundred  daily_vaccinations_per_million  \\\n",
      "0                                  NaN                             NaN   \n",
      "\n",
      "                                            vaccines  \\\n",
      "0  Johnson&Johnson, Oxford/AstraZeneca, Pfizer/Bi...   \n",
      "\n",
      "                 source_name            source_website  \n",
      "0  World Health Organization  https://covid19.who.int/  \n"
     ]
    }
   ],
   "source": [
    "df=pd.read_csv('/content/drive/MyDrive/Colab Notebooks/country_vaccinations.csv')\n",
    "print(df.head(1))"
   ]
  },
  {
   "cell_type": "markdown",
   "metadata": {
    "id": "lkCU2nShZsII"
   },
   "source": [
    "**1) Add month (Jan to Dec) in the dataset from data column**"
   ]
  },
  {
   "cell_type": "code",
   "execution_count": 7,
   "metadata": {
    "colab": {
     "base_uri": "https://localhost:8080/"
    },
    "executionInfo": {
     "elapsed": 407,
     "status": "ok",
     "timestamp": 1664122956303,
     "user": {
      "displayName": "Danish Deepak",
      "userId": "06932712960541358697"
     },
     "user_tz": -330
    },
    "id": "ofJbWTyzZ2-i",
    "outputId": "c5f13c42-c08f-43ae-eaf1-e3b7a8cf1741"
   },
   "outputs": [
    {
     "name": "stdout",
     "output_type": "stream",
     "text": [
      "       country iso_code        date  total_vaccinations  people_vaccinated  \\\n",
      "0  Afghanistan      AFG  2021-02-22                 0.0                0.0   \n",
      "1  Afghanistan      AFG  2021-02-23                 NaN                NaN   \n",
      "2  Afghanistan      AFG  2021-02-24                 NaN                NaN   \n",
      "3  Afghanistan      AFG  2021-02-25                 NaN                NaN   \n",
      "4  Afghanistan      AFG  2021-02-26                 NaN                NaN   \n",
      "\n",
      "   people_fully_vaccinated  daily_vaccinations_raw  daily_vaccinations  \\\n",
      "0                      NaN                     NaN                 NaN   \n",
      "1                      NaN                     NaN              1367.0   \n",
      "2                      NaN                     NaN              1367.0   \n",
      "3                      NaN                     NaN              1367.0   \n",
      "4                      NaN                     NaN              1367.0   \n",
      "\n",
      "   total_vaccinations_per_hundred  people_vaccinated_per_hundred  \\\n",
      "0                             0.0                            0.0   \n",
      "1                             NaN                            NaN   \n",
      "2                             NaN                            NaN   \n",
      "3                             NaN                            NaN   \n",
      "4                             NaN                            NaN   \n",
      "\n",
      "   people_fully_vaccinated_per_hundred  daily_vaccinations_per_million  \\\n",
      "0                                  NaN                             NaN   \n",
      "1                                  NaN                            34.0   \n",
      "2                                  NaN                            34.0   \n",
      "3                                  NaN                            34.0   \n",
      "4                                  NaN                            34.0   \n",
      "\n",
      "                                            vaccines  \\\n",
      "0  Johnson&Johnson, Oxford/AstraZeneca, Pfizer/Bi...   \n",
      "1  Johnson&Johnson, Oxford/AstraZeneca, Pfizer/Bi...   \n",
      "2  Johnson&Johnson, Oxford/AstraZeneca, Pfizer/Bi...   \n",
      "3  Johnson&Johnson, Oxford/AstraZeneca, Pfizer/Bi...   \n",
      "4  Johnson&Johnson, Oxford/AstraZeneca, Pfizer/Bi...   \n",
      "\n",
      "                 source_name            source_website     Month  \n",
      "0  World Health Organization  https://covid19.who.int/  February  \n",
      "1  World Health Organization  https://covid19.who.int/  February  \n",
      "2  World Health Organization  https://covid19.who.int/  February  \n",
      "3  World Health Organization  https://covid19.who.int/  February  \n",
      "4  World Health Organization  https://covid19.who.int/  February  \n"
     ]
    }
   ],
   "source": [
    "lst=[]\n",
    "for i in df['date']:\n",
    "  if (i.split('-')[1]== '01'):\n",
    "    lst.append('January')\n",
    "  elif (i.split('-')[1]== '02'):\n",
    "    lst.append('February')\n",
    "  elif (i.split('-')[1]== '03'):\n",
    "    lst.append('March')\n",
    "  elif (i.split('-')[1]== '04'):\n",
    "    lst.append('April')\n",
    "  elif (i.split('-')[1]== '05'):\n",
    "    lst.append('May')\n",
    "  elif (i.split('-')[1]== '06'):\n",
    "    lst.append('June')\n",
    "  elif (i.split('-')[1]== '07'):\n",
    "    lst.append('July')\n",
    "  elif (i.split('-')[1]== '08'):\n",
    "    lst.append('August')\n",
    "  elif (i.split('-')[1]== '09'):\n",
    "    lst.append('September')\n",
    "  elif (i.split('-')[1]== '10'):\n",
    "    lst.append('October')\n",
    "  elif (i.split('-')[1]== '11'):\n",
    "    lst.append('November')\n",
    "  elif (i.split('-')[1]== '12'):\n",
    "    lst.append('December')\n",
    "\n",
    "df['Month']=lst\n",
    "print(df.head())"
   ]
  }
 ],
 "metadata": {
  "colab": {
   "authorship_tag": "ABX9TyNA9Umo+sg2sRXwfYwrA0mr",
   "collapsed_sections": [],
   "mount_file_id": "1Sm4giSN1oyzZa6wLp5256Fp2ON9makKK",
   "provenance": []
  },
  "kernelspec": {
   "display_name": "Python 3 (ipykernel)",
   "language": "python",
   "name": "python3"
  },
  "language_info": {
   "codemirror_mode": {
    "name": "ipython",
    "version": 3
   },
   "file_extension": ".py",
   "mimetype": "text/x-python",
   "name": "python",
   "nbconvert_exporter": "python",
   "pygments_lexer": "ipython3",
   "version": "3.9.13"
  }
 },
 "nbformat": 4,
 "nbformat_minor": 1
}
