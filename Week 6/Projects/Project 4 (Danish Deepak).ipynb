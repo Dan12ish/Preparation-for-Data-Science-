{
 "cells": [
  {
   "cell_type": "markdown",
   "metadata": {},
   "source": [
    "Danish Deepak\n",
    "\n",
    "# Project 4 - Covid Analysis\n",
    "\n",
    "• Deal with null values and fill null values with 0"
   ]
  },
  {
   "cell_type": "code",
   "execution_count": 2,
   "metadata": {
    "executionInfo": {
     "elapsed": 1703,
     "status": "ok",
     "timestamp": 1664119804624,
     "user": {
      "displayName": "Danish Deepak",
      "userId": "06932712960541358697"
     },
     "user_tz": -330
    },
    "id": "lG6Hz3EuOMNc"
   },
   "outputs": [],
   "source": [
    "import pandas as pd\n",
    "\n",
    "df=pd.read_csv('/content/drive/MyDrive/Colab Notebooks/country_vaccinations.csv')"
   ]
  },
  {
   "cell_type": "markdown",
   "metadata": {
    "id": "RSA3HkhAQB-O"
   },
   "source": [
    "**1) Dealing with null values**"
   ]
  },
  {
   "cell_type": "code",
   "execution_count": 11,
   "metadata": {
    "colab": {
     "base_uri": "https://localhost:8080/"
    },
    "executionInfo": {
     "elapsed": 422,
     "status": "ok",
     "timestamp": 1664120249391,
     "user": {
      "displayName": "Danish Deepak",
      "userId": "06932712960541358697"
     },
     "user_tz": -330
    },
    "id": "lvTkzsn3RCyd",
    "outputId": "8a7b8fef-cf8e-4f38-fe67-204e44bdb191"
   },
   "outputs": [
    {
     "name": "stdout",
     "output_type": "stream",
     "text": [
      "Total rows:  86512\n",
      "country                                    0\n",
      "iso_code                                   0\n",
      "date                                       0\n",
      "total_vaccinations                     42905\n",
      "people_vaccinated                      45218\n",
      "people_fully_vaccinated                47710\n",
      "daily_vaccinations_raw                 51150\n",
      "daily_vaccinations                       299\n",
      "total_vaccinations_per_hundred         42905\n",
      "people_vaccinated_per_hundred          45218\n",
      "people_fully_vaccinated_per_hundred    47710\n",
      "daily_vaccinations_per_million           299\n",
      "vaccines                                   0\n",
      "source_name                                0\n",
      "source_website                             0\n",
      "dtype: int64\n"
     ]
    }
   ],
   "source": [
    "print('Total rows: ', len(df))\n",
    "print(df.isna().sum())"
   ]
  },
  {
   "cell_type": "markdown",
   "metadata": {
    "id": "7M0YGYsfQHI4"
   },
   "source": [
    "**2) Fill Null Values with 0**"
   ]
  },
  {
   "cell_type": "code",
   "execution_count": 17,
   "metadata": {
    "executionInfo": {
     "elapsed": 420,
     "status": "ok",
     "timestamp": 1664120829674,
     "user": {
      "displayName": "Danish Deepak",
      "userId": "06932712960541358697"
     },
     "user_tz": -330
    },
    "id": "mD69PD5HSTLI"
   },
   "outputs": [],
   "source": [
    "df['total_vaccinations']=df['total_vaccinations'].fillna(0)\n",
    "df['people_vaccinated']=df['people_vaccinated'].fillna(0)\n",
    "df['people_fully_vaccinated']=df['people_fully_vaccinated'].fillna(0)\n",
    "df['daily_vaccinations_raw']=df['daily_vaccinations_raw'].fillna(0)\n",
    "df['daily_vaccinations']=df['daily_vaccinations'].fillna(0)\n",
    "df['total_vaccinations_per_hundred']=df['total_vaccinations_per_hundred'].fillna(0)\n",
    "df['people_vaccinated_per_hundred']=df['people_vaccinated_per_hundred'].fillna(0)\n",
    "df['people_fully_vaccinated_per_hundred']=df['people_fully_vaccinated_per_hundred'].fillna(0)\n",
    "df['daily_vaccinations_per_million']=df['daily_vaccinations_per_million'].fillna(0)"
   ]
  },
  {
   "cell_type": "code",
   "execution_count": 18,
   "metadata": {
    "colab": {
     "base_uri": "https://localhost:8080/"
    },
    "executionInfo": {
     "elapsed": 428,
     "status": "ok",
     "timestamp": 1664120851711,
     "user": {
      "displayName": "Danish Deepak",
      "userId": "06932712960541358697"
     },
     "user_tz": -330
    },
    "id": "_s894V0FVM8Z",
    "outputId": "302d3bda-ea24-4458-d6d2-9114482bd7b3"
   },
   "outputs": [
    {
     "name": "stdout",
     "output_type": "stream",
     "text": [
      "country                                0\n",
      "iso_code                               0\n",
      "date                                   0\n",
      "total_vaccinations                     0\n",
      "people_vaccinated                      0\n",
      "people_fully_vaccinated                0\n",
      "daily_vaccinations_raw                 0\n",
      "daily_vaccinations                     0\n",
      "total_vaccinations_per_hundred         0\n",
      "people_vaccinated_per_hundred          0\n",
      "people_fully_vaccinated_per_hundred    0\n",
      "daily_vaccinations_per_million         0\n",
      "vaccines                               0\n",
      "source_name                            0\n",
      "source_website                         0\n",
      "dtype: int64\n"
     ]
    }
   ],
   "source": [
    "print(df.isna().sum())"
   ]
  }
 ],
 "metadata": {
  "colab": {
   "authorship_tag": "ABX9TyPPmiv2iOzAbKAYgGIyerLS",
   "collapsed_sections": [],
   "mount_file_id": "1-Wa0stG0WRnUyHuqgWzaWyIYwFTH6SO8",
   "provenance": []
  },
  "kernelspec": {
   "display_name": "Python 3 (ipykernel)",
   "language": "python",
   "name": "python3"
  },
  "language_info": {
   "codemirror_mode": {
    "name": "ipython",
    "version": 3
   },
   "file_extension": ".py",
   "mimetype": "text/x-python",
   "name": "python",
   "nbconvert_exporter": "python",
   "pygments_lexer": "ipython3",
   "version": "3.9.13"
  }
 },
 "nbformat": 4,
 "nbformat_minor": 1
}
