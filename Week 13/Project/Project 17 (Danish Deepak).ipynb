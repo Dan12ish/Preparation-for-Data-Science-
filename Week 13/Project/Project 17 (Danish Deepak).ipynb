{
 "cells": [
  {
   "cell_type": "markdown",
   "id": "5bf7b460",
   "metadata": {},
   "source": [
    "Danish Deepak\n",
    "\n",
    "## Project 17 : Predict adaptibility of online education"
   ]
  },
  {
   "cell_type": "code",
   "execution_count": 1,
   "id": "ebcf688c",
   "metadata": {},
   "outputs": [],
   "source": [
    "# Importing all the necessary libraries\n",
    "import pandas as pd\n",
    "import matplotlib.pyplot as plt\n",
    "%matplotlib inline\n",
    "import seaborn as sns\n",
    "from sklearn.preprocessing import StandardScaler, LabelEncoder\n",
    "from sklearn.model_selection import train_test_split\n",
    "from sklearn.svm import SVC\n",
    "from sklearn.ensemble import RandomForestClassifier\n",
    "from sklearn.neighbors import KNeighborsClassifier\n",
    "from sklearn.tree import DecisionTreeClassifier\n",
    "from sklearn.metrics import confusion_matrix, accuracy_score\n",
    "import warnings\n",
    "warnings.filterwarnings('ignore')"
   ]
  },
  {
   "cell_type": "code",
   "execution_count": 2,
   "id": "c8997853",
   "metadata": {},
   "outputs": [
    {
     "data": {
      "text/html": [
       "<div>\n",
       "<style scoped>\n",
       "    .dataframe tbody tr th:only-of-type {\n",
       "        vertical-align: middle;\n",
       "    }\n",
       "\n",
       "    .dataframe tbody tr th {\n",
       "        vertical-align: top;\n",
       "    }\n",
       "\n",
       "    .dataframe thead th {\n",
       "        text-align: right;\n",
       "    }\n",
       "</style>\n",
       "<table border=\"1\" class=\"dataframe\">\n",
       "  <thead>\n",
       "    <tr style=\"text-align: right;\">\n",
       "      <th></th>\n",
       "      <th>Gender</th>\n",
       "      <th>Age</th>\n",
       "      <th>Education Level</th>\n",
       "      <th>Institution Type</th>\n",
       "      <th>IT Student</th>\n",
       "      <th>Location</th>\n",
       "      <th>Load-shedding</th>\n",
       "      <th>Financial Condition</th>\n",
       "      <th>Internet Type</th>\n",
       "      <th>Network Type</th>\n",
       "      <th>Class Duration</th>\n",
       "      <th>Self Lms</th>\n",
       "      <th>Device</th>\n",
       "      <th>Adaptivity Level</th>\n",
       "    </tr>\n",
       "  </thead>\n",
       "  <tbody>\n",
       "    <tr>\n",
       "      <th>0</th>\n",
       "      <td>Boy</td>\n",
       "      <td>21-25</td>\n",
       "      <td>University</td>\n",
       "      <td>Non Government</td>\n",
       "      <td>No</td>\n",
       "      <td>Yes</td>\n",
       "      <td>Low</td>\n",
       "      <td>Mid</td>\n",
       "      <td>Wifi</td>\n",
       "      <td>4G</td>\n",
       "      <td>3-6</td>\n",
       "      <td>No</td>\n",
       "      <td>Tab</td>\n",
       "      <td>Moderate</td>\n",
       "    </tr>\n",
       "    <tr>\n",
       "      <th>1</th>\n",
       "      <td>Girl</td>\n",
       "      <td>21-25</td>\n",
       "      <td>University</td>\n",
       "      <td>Non Government</td>\n",
       "      <td>No</td>\n",
       "      <td>Yes</td>\n",
       "      <td>High</td>\n",
       "      <td>Mid</td>\n",
       "      <td>Mobile Data</td>\n",
       "      <td>4G</td>\n",
       "      <td>1-3</td>\n",
       "      <td>Yes</td>\n",
       "      <td>Mobile</td>\n",
       "      <td>Moderate</td>\n",
       "    </tr>\n",
       "    <tr>\n",
       "      <th>2</th>\n",
       "      <td>Girl</td>\n",
       "      <td>16-20</td>\n",
       "      <td>College</td>\n",
       "      <td>Government</td>\n",
       "      <td>No</td>\n",
       "      <td>Yes</td>\n",
       "      <td>Low</td>\n",
       "      <td>Mid</td>\n",
       "      <td>Wifi</td>\n",
       "      <td>4G</td>\n",
       "      <td>1-3</td>\n",
       "      <td>No</td>\n",
       "      <td>Mobile</td>\n",
       "      <td>Moderate</td>\n",
       "    </tr>\n",
       "    <tr>\n",
       "      <th>3</th>\n",
       "      <td>Girl</td>\n",
       "      <td>11-15</td>\n",
       "      <td>School</td>\n",
       "      <td>Non Government</td>\n",
       "      <td>No</td>\n",
       "      <td>Yes</td>\n",
       "      <td>Low</td>\n",
       "      <td>Mid</td>\n",
       "      <td>Mobile Data</td>\n",
       "      <td>4G</td>\n",
       "      <td>1-3</td>\n",
       "      <td>No</td>\n",
       "      <td>Mobile</td>\n",
       "      <td>Moderate</td>\n",
       "    </tr>\n",
       "    <tr>\n",
       "      <th>4</th>\n",
       "      <td>Girl</td>\n",
       "      <td>16-20</td>\n",
       "      <td>School</td>\n",
       "      <td>Non Government</td>\n",
       "      <td>No</td>\n",
       "      <td>Yes</td>\n",
       "      <td>Low</td>\n",
       "      <td>Poor</td>\n",
       "      <td>Mobile Data</td>\n",
       "      <td>3G</td>\n",
       "      <td>0</td>\n",
       "      <td>No</td>\n",
       "      <td>Mobile</td>\n",
       "      <td>Low</td>\n",
       "    </tr>\n",
       "  </tbody>\n",
       "</table>\n",
       "</div>"
      ],
      "text/plain": [
       "  Gender    Age Education Level Institution Type IT Student Location  \\\n",
       "0    Boy  21-25      University   Non Government         No      Yes   \n",
       "1   Girl  21-25      University   Non Government         No      Yes   \n",
       "2   Girl  16-20         College       Government         No      Yes   \n",
       "3   Girl  11-15          School   Non Government         No      Yes   \n",
       "4   Girl  16-20          School   Non Government         No      Yes   \n",
       "\n",
       "  Load-shedding Financial Condition Internet Type Network Type Class Duration  \\\n",
       "0           Low                 Mid          Wifi           4G            3-6   \n",
       "1          High                 Mid   Mobile Data           4G            1-3   \n",
       "2           Low                 Mid          Wifi           4G            1-3   \n",
       "3           Low                 Mid   Mobile Data           4G            1-3   \n",
       "4           Low                Poor   Mobile Data           3G              0   \n",
       "\n",
       "  Self Lms  Device Adaptivity Level  \n",
       "0       No     Tab         Moderate  \n",
       "1      Yes  Mobile         Moderate  \n",
       "2       No  Mobile         Moderate  \n",
       "3       No  Mobile         Moderate  \n",
       "4       No  Mobile              Low  "
      ]
     },
     "execution_count": 2,
     "metadata": {},
     "output_type": "execute_result"
    }
   ],
   "source": [
    "# Importing the dataset \n",
    "df = pd.read_csv('students_adaptability_level_online_education.csv')\n",
    "df.head()"
   ]
  },
  {
   "cell_type": "markdown",
   "id": "58192262",
   "metadata": {},
   "source": [
    "### 1) Data Exploration"
   ]
  },
  {
   "cell_type": "code",
   "execution_count": 3,
   "id": "f9dd89ee",
   "metadata": {},
   "outputs": [
    {
     "name": "stdout",
     "output_type": "stream",
     "text": [
      "<class 'pandas.core.frame.DataFrame'>\n",
      "RangeIndex: 1205 entries, 0 to 1204\n",
      "Data columns (total 14 columns):\n",
      " #   Column               Non-Null Count  Dtype \n",
      "---  ------               --------------  ----- \n",
      " 0   Gender               1205 non-null   object\n",
      " 1   Age                  1205 non-null   object\n",
      " 2   Education Level      1205 non-null   object\n",
      " 3   Institution Type     1205 non-null   object\n",
      " 4   IT Student           1205 non-null   object\n",
      " 5   Location             1205 non-null   object\n",
      " 6   Load-shedding        1205 non-null   object\n",
      " 7   Financial Condition  1205 non-null   object\n",
      " 8   Internet Type        1205 non-null   object\n",
      " 9   Network Type         1205 non-null   object\n",
      " 10  Class Duration       1205 non-null   object\n",
      " 11  Self Lms             1205 non-null   object\n",
      " 12  Device               1205 non-null   object\n",
      " 13  Adaptivity Level     1205 non-null   object\n",
      "dtypes: object(14)\n",
      "memory usage: 131.9+ KB\n"
     ]
    }
   ],
   "source": [
    "# Checking the dtypes and null values in every column\n",
    "df.info()"
   ]
  },
  {
   "cell_type": "code",
   "execution_count": 4,
   "id": "21d8de75",
   "metadata": {},
   "outputs": [],
   "source": [
    "# All the columns consists data of dtype object\n",
    "# There are 1205 rows and no columns has any null values"
   ]
  },
  {
   "cell_type": "code",
   "execution_count": 5,
   "id": "aa61e93b",
   "metadata": {},
   "outputs": [
    {
     "data": {
      "text/html": [
       "<div>\n",
       "<style scoped>\n",
       "    .dataframe tbody tr th:only-of-type {\n",
       "        vertical-align: middle;\n",
       "    }\n",
       "\n",
       "    .dataframe tbody tr th {\n",
       "        vertical-align: top;\n",
       "    }\n",
       "\n",
       "    .dataframe thead th {\n",
       "        text-align: right;\n",
       "    }\n",
       "</style>\n",
       "<table border=\"1\" class=\"dataframe\">\n",
       "  <thead>\n",
       "    <tr style=\"text-align: right;\">\n",
       "      <th></th>\n",
       "      <th>Gender</th>\n",
       "      <th>Age</th>\n",
       "      <th>Education Level</th>\n",
       "      <th>Institution Type</th>\n",
       "      <th>IT Student</th>\n",
       "      <th>Location</th>\n",
       "      <th>Load-shedding</th>\n",
       "      <th>Financial Condition</th>\n",
       "      <th>Internet Type</th>\n",
       "      <th>Network Type</th>\n",
       "      <th>Class Duration</th>\n",
       "      <th>Self Lms</th>\n",
       "      <th>Device</th>\n",
       "      <th>Adaptivity Level</th>\n",
       "    </tr>\n",
       "  </thead>\n",
       "  <tbody>\n",
       "    <tr>\n",
       "      <th>count</th>\n",
       "      <td>1205</td>\n",
       "      <td>1205</td>\n",
       "      <td>1205</td>\n",
       "      <td>1205</td>\n",
       "      <td>1205</td>\n",
       "      <td>1205</td>\n",
       "      <td>1205</td>\n",
       "      <td>1205</td>\n",
       "      <td>1205</td>\n",
       "      <td>1205</td>\n",
       "      <td>1205</td>\n",
       "      <td>1205</td>\n",
       "      <td>1205</td>\n",
       "      <td>1205</td>\n",
       "    </tr>\n",
       "    <tr>\n",
       "      <th>unique</th>\n",
       "      <td>2</td>\n",
       "      <td>6</td>\n",
       "      <td>3</td>\n",
       "      <td>2</td>\n",
       "      <td>2</td>\n",
       "      <td>2</td>\n",
       "      <td>2</td>\n",
       "      <td>3</td>\n",
       "      <td>2</td>\n",
       "      <td>3</td>\n",
       "      <td>3</td>\n",
       "      <td>2</td>\n",
       "      <td>3</td>\n",
       "      <td>3</td>\n",
       "    </tr>\n",
       "    <tr>\n",
       "      <th>top</th>\n",
       "      <td>Boy</td>\n",
       "      <td>21-25</td>\n",
       "      <td>School</td>\n",
       "      <td>Non Government</td>\n",
       "      <td>No</td>\n",
       "      <td>Yes</td>\n",
       "      <td>Low</td>\n",
       "      <td>Mid</td>\n",
       "      <td>Mobile Data</td>\n",
       "      <td>4G</td>\n",
       "      <td>1-3</td>\n",
       "      <td>No</td>\n",
       "      <td>Mobile</td>\n",
       "      <td>Moderate</td>\n",
       "    </tr>\n",
       "    <tr>\n",
       "      <th>freq</th>\n",
       "      <td>663</td>\n",
       "      <td>374</td>\n",
       "      <td>530</td>\n",
       "      <td>823</td>\n",
       "      <td>901</td>\n",
       "      <td>935</td>\n",
       "      <td>1004</td>\n",
       "      <td>878</td>\n",
       "      <td>695</td>\n",
       "      <td>775</td>\n",
       "      <td>840</td>\n",
       "      <td>995</td>\n",
       "      <td>1013</td>\n",
       "      <td>625</td>\n",
       "    </tr>\n",
       "  </tbody>\n",
       "</table>\n",
       "</div>"
      ],
      "text/plain": [
       "       Gender    Age Education Level Institution Type IT Student Location  \\\n",
       "count    1205   1205            1205             1205       1205     1205   \n",
       "unique      2      6               3                2          2        2   \n",
       "top       Boy  21-25          School   Non Government         No      Yes   \n",
       "freq      663    374             530              823        901      935   \n",
       "\n",
       "       Load-shedding Financial Condition Internet Type Network Type  \\\n",
       "count           1205                1205          1205         1205   \n",
       "unique             2                   3             2            3   \n",
       "top              Low                 Mid   Mobile Data           4G   \n",
       "freq            1004                 878           695          775   \n",
       "\n",
       "       Class Duration Self Lms  Device Adaptivity Level  \n",
       "count            1205     1205    1205             1205  \n",
       "unique              3        2       3                3  \n",
       "top               1-3       No  Mobile         Moderate  \n",
       "freq              840      995    1013              625  "
      ]
     },
     "execution_count": 5,
     "metadata": {},
     "output_type": "execute_result"
    }
   ],
   "source": [
    "# Basic statistical analysis\n",
    "df.describe()"
   ]
  },
  {
   "cell_type": "code",
   "execution_count": 6,
   "id": "27ceaae1",
   "metadata": {},
   "outputs": [],
   "source": [
    "# Each column has very less amount of unique values so lets look into them next"
   ]
  },
  {
   "cell_type": "code",
   "execution_count": 7,
   "id": "82042abd",
   "metadata": {},
   "outputs": [
    {
     "name": "stdout",
     "output_type": "stream",
     "text": [
      "Gender : ['Boy' 'Girl']\n",
      "--------------------------------------------------\n",
      "Age : ['21-25' '16-20' '11-15' '26-30' '6-10' '1-5']\n",
      "--------------------------------------------------\n",
      "Education Level : ['University' 'College' 'School']\n",
      "--------------------------------------------------\n",
      "Institution Type : ['Non Government' 'Government']\n",
      "--------------------------------------------------\n",
      "IT Student : ['No' 'Yes']\n",
      "--------------------------------------------------\n",
      "Location : ['Yes' 'No']\n",
      "--------------------------------------------------\n",
      "Load-shedding : ['Low' 'High']\n",
      "--------------------------------------------------\n",
      "Financial Condition : ['Mid' 'Poor' 'Rich']\n",
      "--------------------------------------------------\n",
      "Internet Type : ['Wifi' 'Mobile Data']\n",
      "--------------------------------------------------\n",
      "Network Type : ['4G' '3G' '2G']\n",
      "--------------------------------------------------\n",
      "Class Duration : ['3-6' '1-3' '0']\n",
      "--------------------------------------------------\n",
      "Self Lms : ['No' 'Yes']\n",
      "--------------------------------------------------\n",
      "Device : ['Tab' 'Mobile' 'Computer']\n",
      "--------------------------------------------------\n",
      "Adaptivity Level : ['Moderate' 'Low' 'High']\n",
      "--------------------------------------------------\n"
     ]
    }
   ],
   "source": [
    "for i in df.columns:\n",
    "    print(f'{i} : {df[i].unique()}')\n",
    "    print('-'*50)"
   ]
  },
  {
   "cell_type": "code",
   "execution_count": 8,
   "id": "97da76a7",
   "metadata": {},
   "outputs": [],
   "source": [
    "# There are no mispelled values in any of the columns so lets move ahead"
   ]
  },
  {
   "cell_type": "markdown",
   "id": "71f07493",
   "metadata": {},
   "source": [
    "### 2) Data Visualization"
   ]
  },
  {
   "cell_type": "code",
   "execution_count": 9,
   "id": "08a07996",
   "metadata": {},
   "outputs": [
    {
     "data": {
      "image/png": "[encoded data removed]",
      "text/plain": [
       "<Figure size 1200x1600 with 14 Axes>"
      ]
     },
     "metadata": {},
     "output_type": "display_data"
    }
   ],
   "source": [
    "#Visualizing the distribution of each feature\n",
    "fig, ax = plt.subplots(7, 2, figsize = (12,16))\n",
    "ax = ax.flatten()\n",
    "\n",
    "for i, column in enumerate(df.columns):\n",
    "    sns.countplot(x = column, data = df, ax = ax[i])\n",
    "\n",
    "plt.tight_layout()"
   ]
  },
  {
   "cell_type": "markdown",
   "id": "5dd15e4e",
   "metadata": {},
   "source": [
    "### 3) Data Transformation"
   ]
  },
  {
   "cell_type": "code",
   "execution_count": 10,
   "id": "4baade70",
   "metadata": {},
   "outputs": [
    {
     "data": {
      "text/html": [
       "<div>\n",
       "<style scoped>\n",
       "    .dataframe tbody tr th:only-of-type {\n",
       "        vertical-align: middle;\n",
       "    }\n",
       "\n",
       "    .dataframe tbody tr th {\n",
       "        vertical-align: top;\n",
       "    }\n",
       "\n",
       "    .dataframe thead th {\n",
       "        text-align: right;\n",
       "    }\n",
       "</style>\n",
       "<table border=\"1\" class=\"dataframe\">\n",
       "  <thead>\n",
       "    <tr style=\"text-align: right;\">\n",
       "      <th></th>\n",
       "      <th>Gender</th>\n",
       "      <th>Age</th>\n",
       "      <th>Education Level</th>\n",
       "      <th>Institution Type</th>\n",
       "      <th>IT Student</th>\n",
       "      <th>Location</th>\n",
       "      <th>Load-shedding</th>\n",
       "      <th>Financial Condition</th>\n",
       "      <th>Internet Type</th>\n",
       "      <th>Network Type</th>\n",
       "      <th>Class Duration</th>\n",
       "      <th>Self Lms</th>\n",
       "      <th>Device</th>\n",
       "    </tr>\n",
       "  </thead>\n",
       "  <tbody>\n",
       "    <tr>\n",
       "      <th>0</th>\n",
       "      <td>0</td>\n",
       "      <td>3</td>\n",
       "      <td>2</td>\n",
       "      <td>1</td>\n",
       "      <td>0</td>\n",
       "      <td>1</td>\n",
       "      <td>1</td>\n",
       "      <td>0</td>\n",
       "      <td>1</td>\n",
       "      <td>2</td>\n",
       "      <td>2</td>\n",
       "      <td>0</td>\n",
       "      <td>2</td>\n",
       "    </tr>\n",
       "    <tr>\n",
       "      <th>1</th>\n",
       "      <td>1</td>\n",
       "      <td>3</td>\n",
       "      <td>2</td>\n",
       "      <td>1</td>\n",
       "      <td>0</td>\n",
       "      <td>1</td>\n",
       "      <td>0</td>\n",
       "      <td>0</td>\n",
       "      <td>0</td>\n",
       "      <td>2</td>\n",
       "      <td>1</td>\n",
       "      <td>1</td>\n",
       "      <td>1</td>\n",
       "    </tr>\n",
       "    <tr>\n",
       "      <th>2</th>\n",
       "      <td>1</td>\n",
       "      <td>2</td>\n",
       "      <td>0</td>\n",
       "      <td>0</td>\n",
       "      <td>0</td>\n",
       "      <td>1</td>\n",
       "      <td>1</td>\n",
       "      <td>0</td>\n",
       "      <td>1</td>\n",
       "      <td>2</td>\n",
       "      <td>1</td>\n",
       "      <td>0</td>\n",
       "      <td>1</td>\n",
       "    </tr>\n",
       "    <tr>\n",
       "      <th>3</th>\n",
       "      <td>1</td>\n",
       "      <td>1</td>\n",
       "      <td>1</td>\n",
       "      <td>1</td>\n",
       "      <td>0</td>\n",
       "      <td>1</td>\n",
       "      <td>1</td>\n",
       "      <td>0</td>\n",
       "      <td>0</td>\n",
       "      <td>2</td>\n",
       "      <td>1</td>\n",
       "      <td>0</td>\n",
       "      <td>1</td>\n",
       "    </tr>\n",
       "    <tr>\n",
       "      <th>4</th>\n",
       "      <td>1</td>\n",
       "      <td>2</td>\n",
       "      <td>1</td>\n",
       "      <td>1</td>\n",
       "      <td>0</td>\n",
       "      <td>1</td>\n",
       "      <td>1</td>\n",
       "      <td>1</td>\n",
       "      <td>0</td>\n",
       "      <td>1</td>\n",
       "      <td>0</td>\n",
       "      <td>0</td>\n",
       "      <td>1</td>\n",
       "    </tr>\n",
       "  </tbody>\n",
       "</table>\n",
       "</div>"
      ],
      "text/plain": [
       "   Gender  Age  Education Level  Institution Type  IT Student  Location  \\\n",
       "0       0    3                2                 1           0         1   \n",
       "1       1    3                2                 1           0         1   \n",
       "2       1    2                0                 0           0         1   \n",
       "3       1    1                1                 1           0         1   \n",
       "4       1    2                1                 1           0         1   \n",
       "\n",
       "   Load-shedding  Financial Condition  Internet Type  Network Type  \\\n",
       "0              1                    0              1             2   \n",
       "1              0                    0              0             2   \n",
       "2              1                    0              1             2   \n",
       "3              1                    0              0             2   \n",
       "4              1                    1              0             1   \n",
       "\n",
       "   Class Duration  Self Lms  Device  \n",
       "0               2         0       2  \n",
       "1               1         1       1  \n",
       "2               1         0       1  \n",
       "3               1         0       1  \n",
       "4               0         0       1  "
      ]
     },
     "execution_count": 10,
     "metadata": {},
     "output_type": "execute_result"
    }
   ],
   "source": [
    "# label encoding\n",
    "le = LabelEncoder()\n",
    "df_encoded = df.drop('Adaptivity Level', axis = 1).copy()\n",
    "for column in df_encoded.columns:\n",
    "    df_encoded[column] = le.fit_transform(df_encoded[column])\n",
    "\n",
    "df_encoded.head()"
   ]
  },
  {
   "cell_type": "code",
   "execution_count": 11,
   "id": "74bd4d20",
   "metadata": {},
   "outputs": [
    {
     "data": {
      "text/html": [
       "<div>\n",
       "<style scoped>\n",
       "    .dataframe tbody tr th:only-of-type {\n",
       "        vertical-align: middle;\n",
       "    }\n",
       "\n",
       "    .dataframe tbody tr th {\n",
       "        vertical-align: top;\n",
       "    }\n",
       "\n",
       "    .dataframe thead th {\n",
       "        text-align: right;\n",
       "    }\n",
       "</style>\n",
       "<table border=\"1\" class=\"dataframe\">\n",
       "  <thead>\n",
       "    <tr style=\"text-align: right;\">\n",
       "      <th></th>\n",
       "      <th>Gender</th>\n",
       "      <th>Age</th>\n",
       "      <th>Education Level</th>\n",
       "      <th>Institution Type</th>\n",
       "      <th>IT Student</th>\n",
       "      <th>Location</th>\n",
       "      <th>Load-shedding</th>\n",
       "      <th>Financial Condition</th>\n",
       "      <th>Internet Type</th>\n",
       "      <th>Network Type</th>\n",
       "      <th>Class Duration</th>\n",
       "      <th>Self Lms</th>\n",
       "      <th>Device</th>\n",
       "    </tr>\n",
       "  </thead>\n",
       "  <tbody>\n",
       "    <tr>\n",
       "      <th>0</th>\n",
       "      <td>-0.904155</td>\n",
       "      <td>0.725027</td>\n",
       "      <td>1.112419</td>\n",
       "      <td>0.681290</td>\n",
       "      <td>-0.580864</td>\n",
       "      <td>0.537373</td>\n",
       "      <td>0.447436</td>\n",
       "      <td>-0.565091</td>\n",
       "      <td>1.167367</td>\n",
       "      <td>0.723409</td>\n",
       "      <td>1.737449</td>\n",
       "      <td>-0.459408</td>\n",
       "      <td>2.890610</td>\n",
       "    </tr>\n",
       "    <tr>\n",
       "      <th>1</th>\n",
       "      <td>1.106005</td>\n",
       "      <td>0.725027</td>\n",
       "      <td>1.112419</td>\n",
       "      <td>0.681290</td>\n",
       "      <td>-0.580864</td>\n",
       "      <td>0.537373</td>\n",
       "      <td>-2.234955</td>\n",
       "      <td>-0.565091</td>\n",
       "      <td>-0.856629</td>\n",
       "      <td>0.723409</td>\n",
       "      <td>-0.086267</td>\n",
       "      <td>2.176717</td>\n",
       "      <td>0.285386</td>\n",
       "    </tr>\n",
       "    <tr>\n",
       "      <th>2</th>\n",
       "      <td>1.106005</td>\n",
       "      <td>-0.101517</td>\n",
       "      <td>-1.657136</td>\n",
       "      <td>-1.467805</td>\n",
       "      <td>-0.580864</td>\n",
       "      <td>0.537373</td>\n",
       "      <td>0.447436</td>\n",
       "      <td>-0.565091</td>\n",
       "      <td>1.167367</td>\n",
       "      <td>0.723409</td>\n",
       "      <td>-0.086267</td>\n",
       "      <td>-0.459408</td>\n",
       "      <td>0.285386</td>\n",
       "    </tr>\n",
       "    <tr>\n",
       "      <th>3</th>\n",
       "      <td>1.106005</td>\n",
       "      <td>-0.928062</td>\n",
       "      <td>-0.272359</td>\n",
       "      <td>0.681290</td>\n",
       "      <td>-0.580864</td>\n",
       "      <td>0.537373</td>\n",
       "      <td>0.447436</td>\n",
       "      <td>-0.565091</td>\n",
       "      <td>-0.856629</td>\n",
       "      <td>0.723409</td>\n",
       "      <td>-0.086267</td>\n",
       "      <td>-0.459408</td>\n",
       "      <td>0.285386</td>\n",
       "    </tr>\n",
       "    <tr>\n",
       "      <th>4</th>\n",
       "      <td>1.106005</td>\n",
       "      <td>-0.101517</td>\n",
       "      <td>-0.272359</td>\n",
       "      <td>0.681290</td>\n",
       "      <td>-0.580864</td>\n",
       "      <td>0.537373</td>\n",
       "      <td>0.447436</td>\n",
       "      <td>1.087664</td>\n",
       "      <td>-0.856629</td>\n",
       "      <td>-1.218034</td>\n",
       "      <td>-1.909983</td>\n",
       "      <td>-0.459408</td>\n",
       "      <td>0.285386</td>\n",
       "    </tr>\n",
       "  </tbody>\n",
       "</table>\n",
       "</div>"
      ],
      "text/plain": [
       "     Gender       Age  Education Level  Institution Type  IT Student  \\\n",
       "0 -0.904155  0.725027         1.112419          0.681290   -0.580864   \n",
       "1  1.106005  0.725027         1.112419          0.681290   -0.580864   \n",
       "2  1.106005 -0.101517        -1.657136         -1.467805   -0.580864   \n",
       "3  1.106005 -0.928062        -0.272359          0.681290   -0.580864   \n",
       "4  1.106005 -0.101517        -0.272359          0.681290   -0.580864   \n",
       "\n",
       "   Location  Load-shedding  Financial Condition  Internet Type  Network Type  \\\n",
       "0  0.537373       0.447436            -0.565091       1.167367      0.723409   \n",
       "1  0.537373      -2.234955            -0.565091      -0.856629      0.723409   \n",
       "2  0.537373       0.447436            -0.565091       1.167367      0.723409   \n",
       "3  0.537373       0.447436            -0.565091      -0.856629      0.723409   \n",
       "4  0.537373       0.447436             1.087664      -0.856629     -1.218034   \n",
       "\n",
       "   Class Duration  Self Lms    Device  \n",
       "0        1.737449 -0.459408  2.890610  \n",
       "1       -0.086267  2.176717  0.285386  \n",
       "2       -0.086267 -0.459408  0.285386  \n",
       "3       -0.086267 -0.459408  0.285386  \n",
       "4       -1.909983 -0.459408  0.285386  "
      ]
     },
     "execution_count": 11,
     "metadata": {},
     "output_type": "execute_result"
    }
   ],
   "source": [
    "# Scaler transformation\n",
    "scaler = StandardScaler()\n",
    "df_scaled = scaler.fit_transform(df_encoded)\n",
    "\n",
    "df_scaled = pd.DataFrame(df_scaled, columns = df_encoded.columns)\n",
    "\n",
    "df_scaled.head()"
   ]
  },
  {
   "cell_type": "markdown",
   "id": "680feb98",
   "metadata": {},
   "source": [
    "### 4) Applying multiple classification ML algorithms"
   ]
  },
  {
   "cell_type": "code",
   "execution_count": 12,
   "id": "a71b7889",
   "metadata": {},
   "outputs": [],
   "source": [
    "# Splitting the data into training and testing sets\n",
    "X = df_scaled\n",
    "y = df['Adaptivity Level']\n",
    "\n",
    "X_train,X_test,y_train,y_test = train_test_split(X , y, test_size = 0.3, random_state = 2)"
   ]
  },
  {
   "cell_type": "code",
   "execution_count": 13,
   "id": "5dfc603f",
   "metadata": {},
   "outputs": [],
   "source": [
    "# Initializing the ML Algorithms\n",
    "\n",
    "svc = SVC()\n",
    "rf  = RandomForestClassifier()\n",
    "knn = KNeighborsClassifier()\n",
    "dt  = DecisionTreeClassifier()"
   ]
  },
  {
   "cell_type": "code",
   "execution_count": 14,
   "id": "937a2e86",
   "metadata": {},
   "outputs": [
    {
     "data": {
      "text/plain": [
       "DecisionTreeClassifier()"
      ]
     },
     "execution_count": 14,
     "metadata": {},
     "output_type": "execute_result"
    }
   ],
   "source": [
    "# Training the models\n",
    "\n",
    "svc.fit(X_train,y_train)\n",
    "rf.fit(X_train,y_train)\n",
    "knn.fit(X_train,y_train)\n",
    "dt.fit(X_train,y_train)"
   ]
  },
  {
   "cell_type": "code",
   "execution_count": 15,
   "id": "b0f6f8ba",
   "metadata": {},
   "outputs": [],
   "source": [
    "# Predicting the test sets\n",
    "\n",
    "svc_pred = svc.predict(X_test)\n",
    "rf_pred = rf.predict(X_test)\n",
    "knn_pred = knn.predict(X_test)\n",
    "dt_pred = dt.predict(X_test)"
   ]
  },
  {
   "cell_type": "markdown",
   "id": "744e2840",
   "metadata": {},
   "source": [
    "### 5) Calculating the results for each model"
   ]
  },
  {
   "cell_type": "code",
   "execution_count": 16,
   "id": "bb478392",
   "metadata": {},
   "outputs": [
    {
     "name": "stdout",
     "output_type": "stream",
     "text": [
      "Confusion Matrix and accuracy score for SVC\n",
      "\n",
      "Confusion Matrix: \n",
      "[[ 18   5  13]\n",
      " [  0 117  21]\n",
      " [  4  25 159]]\n",
      "\n",
      "Accuracy:  0.8121546961325967\n"
     ]
    }
   ],
   "source": [
    "print('Confusion Matrix and accuracy score for SVC')\n",
    "print('')\n",
    "print('Confusion Matrix: ')\n",
    "print(confusion_matrix(y_test, svc_pred))\n",
    "print('')\n",
    "print('Accuracy: ', accuracy_score(y_test, svc_pred))"
   ]
  },
  {
   "cell_type": "code",
   "execution_count": 17,
   "id": "e8bc4cc6",
   "metadata": {},
   "outputs": [
    {
     "name": "stdout",
     "output_type": "stream",
     "text": [
      "Confusion Matrix and accuracy score for RF\n",
      "\n",
      "Confusion Matrix: \n",
      "[[ 22   5   9]\n",
      " [  0 132   6]\n",
      " [  1  17 170]]\n",
      "\n",
      "Accuracy:  0.8950276243093923\n"
     ]
    }
   ],
   "source": [
    "print('Confusion Matrix and accuracy score for RF')\n",
    "print('')\n",
    "print('Confusion Matrix: ')\n",
    "print(confusion_matrix(y_test, rf_pred))\n",
    "print('')\n",
    "print('Accuracy: ', accuracy_score(y_test, rf_pred))"
   ]
  },
  {
   "cell_type": "code",
   "execution_count": 18,
   "id": "e3229fde",
   "metadata": {},
   "outputs": [
    {
     "name": "stdout",
     "output_type": "stream",
     "text": [
      "Confusion Matrix and accuracy score for KNN\n",
      "\n",
      "Confusion Matrix: \n",
      "[[ 16   5  15]\n",
      " [  1 116  21]\n",
      " [ 11  31 146]]\n",
      "\n",
      "Accuracy:  0.7679558011049724\n"
     ]
    }
   ],
   "source": [
    "print('Confusion Matrix and accuracy score for KNN')\n",
    "print('')\n",
    "print('Confusion Matrix: ')\n",
    "print(confusion_matrix(y_test, knn_pred))\n",
    "print('')\n",
    "print('Accuracy: ', accuracy_score(y_test, knn_pred))"
   ]
  },
  {
   "cell_type": "code",
   "execution_count": 19,
   "id": "93500e7d",
   "metadata": {},
   "outputs": [
    {
     "name": "stdout",
     "output_type": "stream",
     "text": [
      "Confusion Matrix and accuracy score for DT\n",
      "\n",
      "Confusion Matrix: \n",
      "[[ 24   5   7]\n",
      " [  3 129   6]\n",
      " [  6  18 164]]\n",
      "\n",
      "Accuracy:  0.8756906077348067\n"
     ]
    }
   ],
   "source": [
    "print('Confusion Matrix and accuracy score for DT')\n",
    "print('')\n",
    "print('Confusion Matrix: ')\n",
    "print(confusion_matrix(y_test, dt_pred))\n",
    "print('')\n",
    "print('Accuracy: ', accuracy_score(y_test, dt_pred))"
   ]
  },
  {
   "cell_type": "code",
   "execution_count": 20,
   "id": "98a51680",
   "metadata": {},
   "outputs": [],
   "source": [
    "# So I get the best accuracy with the Randome forest classifier"
   ]
  },
  {
   "cell_type": "code",
   "execution_count": 21,
   "id": "993129b8",
   "metadata": {},
   "outputs": [
    {
     "data": {
      "image/png": "[encoded data removed]",
      "text/plain": [
       "<Figure size 800x600 with 2 Axes>"
      ]
     },
     "metadata": {},
     "output_type": "display_data"
    },
    {
     "name": "stdout",
     "output_type": "stream",
     "text": [
      "ACCURACY:  0.8950276243093923\n"
     ]
    }
   ],
   "source": [
    "cm = confusion_matrix(y_test, rf_pred)\n",
    "\n",
    "# Create a heatmap for the confusion matrix\n",
    "plt.figure(figsize=(8, 6))\n",
    "sns.heatmap(cm, annot=True,fmt='d', cmap='Blues')\n",
    "plt.title('Random Forest - Confusion Matrix')\n",
    "plt.xlabel('Predicted Labels')\n",
    "plt.ylabel('True Labels')\n",
    "plt.show()\n",
    "\n",
    "print('ACCURACY: ',accuracy_score(y_test, rf_pred))"
   ]
  }
 ],
 "metadata": {
  "kernelspec": {
   "display_name": "Python 3 (ipykernel)",
   "language": "python",
   "name": "python3"
  },
  "language_info": {
   "codemirror_mode": {
    "name": "ipython",
    "version": 3
   },
   "file_extension": ".py",
   "mimetype": "text/x-python",
   "name": "python",
   "nbconvert_exporter": "python",
   "pygments_lexer": "ipython3",
   "version": "3.9.13"
  }
 },
 "nbformat": 4,
 "nbformat_minor": 5
}
