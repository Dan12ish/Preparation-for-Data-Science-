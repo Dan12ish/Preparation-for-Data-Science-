{
 "cells": [
  {
   "cell_type": "markdown",
   "metadata": {},
   "source": [
    "Danish Deepak\n",
    "\n",
    "# Project 1 - Data Analysis COVID\n",
    "\n",
    "Get the output for the following questions:\n",
    "\n",
    "• Find number of unique countries \n",
    "\n",
    "• Check the null values in the dataset"
   ]
  },
  {
   "cell_type": "code",
   "execution_count": 10,
   "metadata": {
    "colab": {
     "base_uri": "https://localhost:8080/"
    },
    "executionInfo": {
     "elapsed": 432,
     "status": "ok",
     "timestamp": 1664116132428,
     "user": {
      "displayName": "Danish Deepak",
      "userId": "06932712960541358697"
     },
     "user_tz": -330
    },
    "id": "nyXLieM6BMqG",
    "outputId": "c31ef2f2-7130-4efd-d363-f1b9e2d5de2c"
   },
   "outputs": [
    {
     "name": "stdout",
     "output_type": "stream",
     "text": [
      "  Country/Region  Confirmed  Deaths  Recovered  Active  New cases  New deaths  \\\n",
      "0    Afghanistan      36263    1269      25198    9796        106          10   \n",
      "\n",
      "   New recovered  Deaths / 100 Cases  Recovered / 100 Cases  \\\n",
      "0             18                 3.5                  69.49   \n",
      "\n",
      "   Deaths / 100 Recovered  Confirmed last week  1 week change  \\\n",
      "0                    5.04                35526            737   \n",
      "\n",
      "   1 week % increase             WHO Region  \n",
      "0               2.07  Eastern Mediterranean  \n",
      "(187, 15)\n"
     ]
    }
   ],
   "source": [
    "import pandas as pd\n",
    "import numpy as np\n",
    "\n",
    "df=pd.read_csv('/content/drive/MyDrive/Colab Notebooks/country_wise_latest.csv')\n",
    "print(df.head(1))\n",
    "print(df.shape)"
   ]
  },
  {
   "cell_type": "markdown",
   "metadata": {
    "id": "b5qgyU95BDCf"
   },
   "source": [
    "**1) Find Number of Unique Countries**"
   ]
  },
  {
   "cell_type": "code",
   "execution_count": 2,
   "metadata": {
    "colab": {
     "base_uri": "https://localhost:8080/"
    },
    "executionInfo": {
     "elapsed": 411,
     "status": "ok",
     "timestamp": 1664115866883,
     "user": {
      "displayName": "Danish Deepak",
      "userId": "06932712960541358697"
     },
     "user_tz": -330
    },
    "id": "bh3mzsRHByVl",
    "outputId": "af2b6d2a-0a84-4a53-d88b-df27838df627"
   },
   "outputs": [
    {
     "name": "stdout",
     "output_type": "stream",
     "text": [
      "187\n"
     ]
    }
   ],
   "source": [
    "print(len(df.groupby('Country/Region')))"
   ]
  },
  {
   "cell_type": "markdown",
   "metadata": {
    "id": "cyF3brTuCbjg"
   },
   "source": [
    "**2) Check the null values in the dataset**"
   ]
  },
  {
   "cell_type": "code",
   "execution_count": 12,
   "metadata": {
    "colab": {
     "base_uri": "https://localhost:8080/"
    },
    "executionInfo": {
     "elapsed": 405,
     "status": "ok",
     "timestamp": 1664116173915,
     "user": {
      "displayName": "Danish Deepak",
      "userId": "06932712960541358697"
     },
     "user_tz": -330
    },
    "id": "1PfwTTOWCiTO",
    "outputId": "9e3ff6a2-58c0-4719-a489-5e58faad8371"
   },
   "outputs": [
    {
     "name": "stdout",
     "output_type": "stream",
     "text": [
      "Country/Region            187\n",
      "Confirmed                 187\n",
      "Deaths                    187\n",
      "Recovered                 187\n",
      "Active                    187\n",
      "New cases                 187\n",
      "New deaths                187\n",
      "New recovered             187\n",
      "Deaths / 100 Cases        187\n",
      "Recovered / 100 Cases     187\n",
      "Deaths / 100 Recovered    187\n",
      "Confirmed last week       187\n",
      "1 week change             187\n",
      "1 week % increase         187\n",
      "WHO Region                187\n",
      "dtype: int64\n"
     ]
    }
   ],
   "source": [
    "print(df.notna().sum())"
   ]
  }
 ],
 "metadata": {
  "colab": {
   "authorship_tag": "ABX9TyPFciTULWyGGjz1de/5Ovne",
   "collapsed_sections": [],
   "mount_file_id": "1EhH-0hIo5skdmNdilqpbT54l3DyOSJNd",
   "provenance": []
  },
  "kernelspec": {
   "display_name": "Python 3 (ipykernel)",
   "language": "python",
   "name": "python3"
  },
  "language_info": {
   "codemirror_mode": {
    "name": "ipython",
    "version": 3
   },
   "file_extension": ".py",
   "mimetype": "text/x-python",
   "name": "python",
   "nbconvert_exporter": "python",
   "pygments_lexer": "ipython3",
   "version": "3.9.13"
  }
 },
 "nbformat": 4,
 "nbformat_minor": 1
}
