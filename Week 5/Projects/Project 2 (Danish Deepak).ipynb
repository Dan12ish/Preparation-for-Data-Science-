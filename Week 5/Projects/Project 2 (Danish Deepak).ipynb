{
 "cells": [
  {
   "cell_type": "markdown",
   "metadata": {},
   "source": [
    "Danish Deepak\n",
    "\n",
    "# Project 2 - Covid Analysis\n",
    "\n",
    "Get the output for the following questions:\n",
    "\n",
    "• Which Country is having maximum confirmed cases?\n",
    "\n",
    "• Which Country is having maximum deaths?"
   ]
  },
  {
   "cell_type": "code",
   "execution_count": 1,
   "metadata": {
    "colab": {
     "base_uri": "https://localhost:8080/"
    },
    "executionInfo": {
     "elapsed": 1556,
     "status": "ok",
     "timestamp": 1664116483304,
     "user": {
      "displayName": "Danish Deepak",
      "userId": "06932712960541358697"
     },
     "user_tz": -330
    },
    "id": "PD0asnP1DkHi",
    "outputId": "be0e27b3-8ed6-44b0-8fdf-4d22aaa9e2b1"
   },
   "outputs": [
    {
     "name": "stdout",
     "output_type": "stream",
     "text": [
      "  Country/Region  Confirmed  Deaths  Recovered  Active  New cases  New deaths  \\\n",
      "0    Afghanistan      36263    1269      25198    9796        106          10   \n",
      "\n",
      "   New recovered  Deaths / 100 Cases  Recovered / 100 Cases  \\\n",
      "0             18                 3.5                  69.49   \n",
      "\n",
      "   Deaths / 100 Recovered  Confirmed last week  1 week change  \\\n",
      "0                    5.04                35526            737   \n",
      "\n",
      "   1 week % increase             WHO Region  \n",
      "0               2.07  Eastern Mediterranean  \n"
     ]
    }
   ],
   "source": [
    "import pandas as pd\n",
    "\n",
    "df=pd.read_csv('/content/drive/MyDrive/Colab Notebooks/country_wise_latest.csv')\n",
    "print(df.head(1))"
   ]
  },
  {
   "cell_type": "markdown",
   "metadata": {
    "id": "D_Al239vEnKO"
   },
   "source": [
    "**1) Which country has the maximum confirmed cases**"
   ]
  },
  {
   "cell_type": "code",
   "execution_count": 2,
   "metadata": {
    "colab": {
     "base_uri": "https://localhost:8080/"
    },
    "executionInfo": {
     "elapsed": 689,
     "status": "ok",
     "timestamp": 1664116596107,
     "user": {
      "displayName": "Danish Deepak",
      "userId": "06932712960541358697"
     },
     "user_tz": -330
    },
    "id": "DIkkWcDyEwur",
    "outputId": "2dc9ad69-5772-4d0a-aa90-d950833d16dd"
   },
   "outputs": [
    {
     "name": "stdout",
     "output_type": "stream",
     "text": [
      "    Country/Region  Confirmed  Deaths  Recovered   Active  New cases  \\\n",
      "173             US    4290259  148011    1325804  2816444      56336   \n",
      "\n",
      "     New deaths  New recovered  Deaths / 100 Cases  Recovered / 100 Cases  \\\n",
      "173        1076          27941                3.45                   30.9   \n",
      "\n",
      "     Deaths / 100 Recovered  Confirmed last week  1 week change  \\\n",
      "173                   11.16              3834677         455582   \n",
      "\n",
      "     1 week % increase WHO Region  \n",
      "173              11.88   Americas  \n"
     ]
    }
   ],
   "source": [
    "df_pr=df.sort_values(by='Confirmed', ascending=False)\n",
    "print(df_pr.head(1))"
   ]
  },
  {
   "cell_type": "markdown",
   "metadata": {
    "id": "MddCjgZrFVKS"
   },
   "source": [
    "**2) Which country is having maximum deaths**"
   ]
  },
  {
   "cell_type": "code",
   "execution_count": 22,
   "metadata": {
    "colab": {
     "base_uri": "https://localhost:8080/"
    },
    "executionInfo": {
     "elapsed": 13,
     "status": "ok",
     "timestamp": 1664117991221,
     "user": {
      "displayName": "Danish Deepak",
      "userId": "06932712960541358697"
     },
     "user_tz": -330
    },
    "id": "w0D6taUGHJHS",
    "outputId": "f5d3ff4d-89eb-4c51-f3a2-ef8bd15ca42a"
   },
   "outputs": [
    {
     "name": "stdout",
     "output_type": "stream",
     "text": [
      "    Country/Region  Confirmed  Deaths  Recovered   Active  New cases  \\\n",
      "173             US    4290259  148011    1325804  2816444      56336   \n",
      "\n",
      "     New deaths  New recovered  Deaths / 100 Cases  Recovered / 100 Cases  \\\n",
      "173        1076          27941                3.45                   30.9   \n",
      "\n",
      "     Deaths / 100 Recovered  Confirmed last week  1 week change  \\\n",
      "173                   11.16              3834677         455582   \n",
      "\n",
      "     1 week % increase WHO Region  \n",
      "173              11.88   Americas  \n"
     ]
    }
   ],
   "source": [
    "df_pr=df.sort_values(by='Deaths', ascending= False)\n",
    "print(df_pr.head(1))"
   ]
  }
 ],
 "metadata": {
  "colab": {
   "authorship_tag": "ABX9TyMJLcHVVqwVE1JX34qOkJ2h",
   "collapsed_sections": [],
   "mount_file_id": "1Bawx8Wo9-5z2b2cxWWC7RjIXw9LZFbm0",
   "provenance": []
  },
  "kernelspec": {
   "display_name": "Python 3 (ipykernel)",
   "language": "python",
   "name": "python3"
  },
  "language_info": {
   "codemirror_mode": {
    "name": "ipython",
    "version": 3
   },
   "file_extension": ".py",
   "mimetype": "text/x-python",
   "name": "python",
   "nbconvert_exporter": "python",
   "pygments_lexer": "ipython3",
   "version": "3.9.13"
  }
 },
 "nbformat": 4,
 "nbformat_minor": 1
}
