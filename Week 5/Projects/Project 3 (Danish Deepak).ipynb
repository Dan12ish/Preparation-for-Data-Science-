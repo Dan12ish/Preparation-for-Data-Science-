{
 "cells": [
  {
   "cell_type": "markdown",
   "metadata": {},
   "source": [
    "Danish Deepak\n",
    "\n",
    "# Project 3 - Covid Analysis\n",
    "\n",
    "Get the output for the following questions:\n",
    "\n",
    "• What are the average cases in a country?\n",
    "\n",
    "• What is the total number of deaths as per the dataset?\n",
    "\n",
    "• What is the total number of confirmed cases?"
   ]
  },
  {
   "cell_type": "code",
   "execution_count": 1,
   "metadata": {
    "colab": {
     "base_uri": "https://localhost:8080/"
    },
    "executionInfo": {
     "elapsed": 1417,
     "status": "ok",
     "timestamp": 1664118349992,
     "user": {
      "displayName": "Danish Deepak",
      "userId": "06932712960541358697"
     },
     "user_tz": -330
    },
    "id": "p03XKICPKkrh",
    "outputId": "8a115769-b370-4217-98db-2b8d07b289a8"
   },
   "outputs": [
    {
     "name": "stdout",
     "output_type": "stream",
     "text": [
      "  Country/Region  Confirmed  Deaths  Recovered  Active  New cases  New deaths  \\\n",
      "0    Afghanistan      36263    1269      25198    9796        106          10   \n",
      "\n",
      "   New recovered  Deaths / 100 Cases  Recovered / 100 Cases  \\\n",
      "0             18                 3.5                  69.49   \n",
      "\n",
      "   Deaths / 100 Recovered  Confirmed last week  1 week change  \\\n",
      "0                    5.04                35526            737   \n",
      "\n",
      "   1 week % increase             WHO Region  \n",
      "0               2.07  Eastern Mediterranean  \n"
     ]
    }
   ],
   "source": [
    "import pandas as pd\n",
    "\n",
    "df=pd.read_csv('/content/drive/MyDrive/Colab Notebooks/country_wise_latest.csv')\n",
    "print(df.head(1))"
   ]
  },
  {
   "cell_type": "markdown",
   "metadata": {
    "id": "HKpYdZBzLGDq"
   },
   "source": [
    "**1) What are the average cases in all the country?**\n",
    "\n"
   ]
  },
  {
   "cell_type": "code",
   "execution_count": 6,
   "metadata": {
    "colab": {
     "base_uri": "https://localhost:8080/"
    },
    "executionInfo": {
     "elapsed": 14,
     "status": "ok",
     "timestamp": 1664118800718,
     "user": {
      "displayName": "Danish Deepak",
      "userId": "06932712960541358697"
     },
     "user_tz": -330
    },
    "id": "JLOpGYoKLwwI",
    "outputId": "4c00cae6-4249-4333-b13a-1da7fec82cd2"
   },
   "outputs": [
    {
     "name": "stdout",
     "output_type": "stream",
     "text": [
      "88130\n"
     ]
    }
   ],
   "source": [
    "print(int(df['Confirmed'].sum()/len(df.groupby('Country/Region'))))"
   ]
  },
  {
   "cell_type": "markdown",
   "metadata": {
    "id": "-NTGTIf6LNsb"
   },
   "source": [
    "**2) What are the total number of deaths as per the dataset?**"
   ]
  },
  {
   "cell_type": "code",
   "execution_count": 7,
   "metadata": {
    "colab": {
     "base_uri": "https://localhost:8080/"
    },
    "executionInfo": {
     "elapsed": 15,
     "status": "ok",
     "timestamp": 1664118835940,
     "user": {
      "displayName": "Danish Deepak",
      "userId": "06932712960541358697"
     },
     "user_tz": -330
    },
    "id": "5sKnAB8cNfd-",
    "outputId": "e1f3d397-fc16-4f0c-da87-bbde0552eb22"
   },
   "outputs": [
    {
     "name": "stdout",
     "output_type": "stream",
     "text": [
      "654036\n"
     ]
    }
   ],
   "source": [
    "print(df['Deaths'].sum())"
   ]
  },
  {
   "cell_type": "markdown",
   "metadata": {
    "id": "THfJOWt_LV8N"
   },
   "source": [
    "**3) What are the total number of confirmed cases as per the dataset?**"
   ]
  },
  {
   "cell_type": "code",
   "execution_count": 8,
   "metadata": {
    "colab": {
     "base_uri": "https://localhost:8080/"
    },
    "executionInfo": {
     "elapsed": 574,
     "status": "ok",
     "timestamp": 1664118923489,
     "user": {
      "displayName": "Danish Deepak",
      "userId": "06932712960541358697"
     },
     "user_tz": -330
    },
    "id": "JaheX1UoNqwo",
    "outputId": "de97c3bc-ab4b-4496-a2b8-96324ae181ba"
   },
   "outputs": [
    {
     "name": "stdout",
     "output_type": "stream",
     "text": [
      "16480485\n"
     ]
    }
   ],
   "source": [
    "print(df['Confirmed'].sum())"
   ]
  }
 ],
 "metadata": {
  "colab": {
   "authorship_tag": "ABX9TyPWxBev0M5aRFbO4FWFouVJ",
   "collapsed_sections": [],
   "mount_file_id": "1LzMJ7L-5L1FLrCFH6HmJbmYBrqcEJ1mi",
   "provenance": []
  },
  "kernelspec": {
   "display_name": "Python 3 (ipykernel)",
   "language": "python",
   "name": "python3"
  },
  "language_info": {
   "codemirror_mode": {
    "name": "ipython",
    "version": 3
   },
   "file_extension": ".py",
   "mimetype": "text/x-python",
   "name": "python",
   "nbconvert_exporter": "python",
   "pygments_lexer": "ipython3",
   "version": "3.9.13"
  }
 },
 "nbformat": 4,
 "nbformat_minor": 1
}
