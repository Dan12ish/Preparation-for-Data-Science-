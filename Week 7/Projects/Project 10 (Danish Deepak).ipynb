{
 "cells": [
  {
   "cell_type": "markdown",
   "metadata": {},
   "source": [
    "Danish Deepak\n",
    "\n",
    "# Project 10 - Covid Analysis with Visualizations\n",
    "\n",
    "• Find the number of Total Vaccinations in India in Year 2020, 2021 and 2022.\n",
    "\n",
    "• Compare number of total vaccinations in year 2020 of India and USA.\n",
    "\n",
    "• Compare number of total vaccinations in year 2021 of India and China.\n",
    "\n",
    "• Find the number of Vaccinations in each month in India in the year 2021.\n",
    "\n",
    "• Which month has the most number of total vaccinations in India in 2021."
   ]
  },
  {
   "cell_type": "code",
   "execution_count": 1,
   "metadata": {
    "executionInfo": {
     "elapsed": 1030,
     "status": "ok",
     "timestamp": 1664130321603,
     "user": {
      "displayName": "Danish Deepak",
      "userId": "06932712960541358697"
     },
     "user_tz": -330
    },
    "id": "zTF8XgZQyll1"
   },
   "outputs": [],
   "source": [
    "import pandas as pd\n",
    "from matplotlib import pyplot as plt "
   ]
  },
  {
   "cell_type": "code",
   "execution_count": 2,
   "metadata": {
    "colab": {
     "base_uri": "https://localhost:8080/"
    },
    "executionInfo": {
     "elapsed": 1251,
     "status": "ok",
     "timestamp": 1664130353234,
     "user": {
      "displayName": "Danish Deepak",
      "userId": "06932712960541358697"
     },
     "user_tz": -330
    },
    "id": "LrqmHb_U5ZxO",
    "outputId": "4b684897-4005-475a-bd12-9ace88e7df27"
   },
   "outputs": [
    {
     "name": "stdout",
     "output_type": "stream",
     "text": [
      "       country iso_code        date  total_vaccinations  people_vaccinated  \\\n",
      "0  Afghanistan      AFG  2021-02-22                 0.0                0.0   \n",
      "\n",
      "   people_fully_vaccinated  daily_vaccinations_raw  daily_vaccinations  \\\n",
      "0                      NaN                     NaN                 NaN   \n",
      "\n",
      "   total_vaccinations_per_hundred  people_vaccinated_per_hundred  \\\n",
      "0                             0.0                            0.0   \n",
      "\n",
      "   people_fully_vaccinated_per_hundred  daily_vaccinations_per_million  \\\n",
      "0                                  NaN                             NaN   \n",
      "\n",
      "                                            vaccines  \\\n",
      "0  Johnson&Johnson, Oxford/AstraZeneca, Pfizer/Bi...   \n",
      "\n",
      "                 source_name            source_website  \n",
      "0  World Health Organization  https://covid19.who.int/  \n"
     ]
    }
   ],
   "source": [
    "df=pd.read_csv('/content/drive/MyDrive/Colab Notebooks/country_vaccinations.csv')\n",
    "print(df.head(1))"
   ]
  },
  {
   "cell_type": "code",
   "execution_count": 4,
   "metadata": {
    "executionInfo": {
     "elapsed": 394,
     "status": "ok",
     "timestamp": 1664130765163,
     "user": {
      "displayName": "Danish Deepak",
      "userId": "06932712960541358697"
     },
     "user_tz": -330
    },
    "id": "YvmJ3NgN62Lu"
   },
   "outputs": [],
   "source": [
    "df['total_vaccinations']=df['total_vaccinations'].fillna(0)"
   ]
  },
  {
   "cell_type": "code",
   "execution_count": 23,
   "metadata": {
    "colab": {
     "base_uri": "https://localhost:8080/"
    },
    "executionInfo": {
     "elapsed": 14,
     "status": "ok",
     "timestamp": 1664133760936,
     "user": {
      "displayName": "Danish Deepak",
      "userId": "06932712960541358697"
     },
     "user_tz": -330
    },
    "id": "Jrx5nK5q97C3",
    "outputId": "6145be3e-6971-4b5a-ad4f-7936f5f0272d"
   },
   "outputs": [
    {
     "data": {
      "text/plain": [
       "array(['Afghanistan', 'Albania', 'Algeria', 'Andorra', 'Angola',\n",
       "       'Anguilla', 'Antigua and Barbuda', 'Argentina', 'Armenia', 'Aruba',\n",
       "       'Australia', 'Austria', 'Azerbaijan', 'Bahamas', 'Bahrain',\n",
       "       'Bangladesh', 'Barbados', 'Belarus', 'Belgium', 'Belize', 'Benin',\n",
       "       'Bermuda', 'Bhutan', 'Bolivia', 'Bonaire Sint Eustatius and Saba',\n",
       "       'Bosnia and Herzegovina', 'Botswana', 'Brazil',\n",
       "       'British Virgin Islands', 'Brunei', 'Bulgaria', 'Burkina Faso',\n",
       "       'Burundi', 'Cambodia', 'Cameroon', 'Canada', 'Cape Verde',\n",
       "       'Cayman Islands', 'Central African Republic', 'Chad', 'Chile',\n",
       "       'China', 'Colombia', 'Comoros', 'Congo', 'Cook Islands',\n",
       "       'Costa Rica', \"Cote d'Ivoire\", 'Croatia', 'Cuba', 'Curacao',\n",
       "       'Cyprus', 'Czechia', 'Democratic Republic of Congo', 'Denmark',\n",
       "       'Djibouti', 'Dominica', 'Dominican Republic', 'Ecuador', 'Egypt',\n",
       "       'El Salvador', 'England', 'Equatorial Guinea', 'Estonia',\n",
       "       'Eswatini', 'Ethiopia', 'Faeroe Islands', 'Falkland Islands',\n",
       "       'Fiji', 'Finland', 'France', 'French Polynesia', 'Gabon', 'Gambia',\n",
       "       'Georgia', 'Germany', 'Ghana', 'Gibraltar', 'Greece', 'Greenland',\n",
       "       'Grenada', 'Guatemala', 'Guernsey', 'Guinea', 'Guinea-Bissau',\n",
       "       'Guyana', 'Haiti', 'Honduras', 'Hong Kong', 'Hungary', 'Iceland',\n",
       "       'India', 'Indonesia', 'Iran', 'Iraq', 'Ireland', 'Isle of Man',\n",
       "       'Israel', 'Italy', 'Jamaica', 'Japan', 'Jersey', 'Jordan',\n",
       "       'Kazakhstan', 'Kenya', 'Kiribati', 'Kosovo', 'Kuwait',\n",
       "       'Kyrgyzstan', 'Laos', 'Latvia', 'Lebanon', 'Lesotho', 'Liberia',\n",
       "       'Libya', 'Liechtenstein', 'Lithuania', 'Luxembourg', 'Macao',\n",
       "       'Madagascar', 'Malawi', 'Malaysia', 'Maldives', 'Mali', 'Malta',\n",
       "       'Mauritania', 'Mauritius', 'Mexico', 'Moldova', 'Monaco',\n",
       "       'Mongolia', 'Montenegro', 'Montserrat', 'Morocco', 'Mozambique',\n",
       "       'Myanmar', 'Namibia', 'Nauru', 'Nepal', 'Netherlands',\n",
       "       'New Caledonia', 'New Zealand', 'Nicaragua', 'Niger', 'Nigeria',\n",
       "       'Niue', 'North Macedonia', 'Northern Cyprus', 'Northern Ireland',\n",
       "       'Norway', 'Oman', 'Pakistan', 'Palestine', 'Panama',\n",
       "       'Papua New Guinea', 'Paraguay', 'Peru', 'Philippines', 'Pitcairn',\n",
       "       'Poland', 'Portugal', 'Qatar', 'Romania', 'Russia', 'Rwanda',\n",
       "       'Saint Helena', 'Saint Kitts and Nevis', 'Saint Lucia',\n",
       "       'Saint Vincent and the Grenadines', 'Samoa', 'San Marino',\n",
       "       'Sao Tome and Principe', 'Saudi Arabia', 'Scotland', 'Senegal',\n",
       "       'Serbia', 'Seychelles', 'Sierra Leone', 'Singapore',\n",
       "       'Sint Maarten (Dutch part)', 'Slovakia', 'Slovenia',\n",
       "       'Solomon Islands', 'Somalia', 'South Africa', 'South Korea',\n",
       "       'South Sudan', 'Spain', 'Sri Lanka', 'Sudan', 'Suriname', 'Sweden',\n",
       "       'Switzerland', 'Syria', 'Taiwan', 'Tajikistan', 'Tanzania',\n",
       "       'Thailand', 'Timor', 'Togo', 'Tokelau', 'Tonga',\n",
       "       'Trinidad and Tobago', 'Tunisia', 'Turkey', 'Turkmenistan',\n",
       "       'Turks and Caicos Islands', 'Tuvalu', 'Uganda', 'Ukraine',\n",
       "       'United Arab Emirates', 'United Kingdom', 'United States',\n",
       "       'Uruguay', 'Uzbekistan', 'Vanuatu', 'Venezuela', 'Vietnam',\n",
       "       'Wales', 'Wallis and Futuna', 'Yemen', 'Zambia', 'Zimbabwe'],\n",
       "      dtype=object)"
      ]
     },
     "execution_count": 23,
     "metadata": {},
     "output_type": "execute_result"
    }
   ],
   "source": [
    "df['country'].unique()"
   ]
  },
  {
   "cell_type": "markdown",
   "metadata": {
    "id": "IvB_E0hZ5qE9"
   },
   "source": [
    "**1) Find the number of total vaccinations in india in year 2020, 2021 and 2022.**"
   ]
  },
  {
   "cell_type": "code",
   "execution_count": 13,
   "metadata": {
    "colab": {
     "base_uri": "https://localhost:8080/"
    },
    "executionInfo": {
     "elapsed": 660,
     "status": "ok",
     "timestamp": 1664132528953,
     "user": {
      "displayName": "Danish Deepak",
      "userId": "06932712960541358697"
     },
     "user_tz": -330
    },
    "id": "iTEhwlw955Eb",
    "outputId": "fb0083c0-eead-49d1-88aa-206fd7eb7f46"
   },
   "outputs": [
    {
     "name": "stdout",
     "output_type": "stream",
     "text": [
      "[0, 174118546779.0, 149321759019.0]\n"
     ]
    }
   ],
   "source": [
    "vac=[]\n",
    "year=['2020','2021','2022']\n",
    "\n",
    "for j in year:\n",
    "  total=0\n",
    "  for i in df.values:\n",
    "    if ('India' in i[0] and j in i[2]):\n",
    "      total+=i[3]\n",
    "  vac.append(total)\n",
    "print(vac)"
   ]
  },
  {
   "cell_type": "code",
   "execution_count": 11,
   "metadata": {
    "colab": {
     "base_uri": "https://localhost:8080/",
     "height": 295
    },
    "executionInfo": {
     "elapsed": 648,
     "status": "ok",
     "timestamp": 1664132490501,
     "user": {
      "displayName": "Danish Deepak",
      "userId": "06932712960541358697"
     },
     "user_tz": -330
    },
    "id": "4iaT7atT-aL7",
    "outputId": "7a22c4fa-b75c-4cd3-a9b7-dbda71b7b3bb"
   },
   "outputs": [
    {
     "data": {
      "image/png": "[encoded data removed]",
      "text/plain": [
       "<Figure size 432x288 with 1 Axes>"
      ]
     },
     "metadata": {
      "needs_background": "light"
     },
     "output_type": "display_data"
    }
   ],
   "source": [
    "plt.bar(year, vac, width=.5)\n",
    "\n",
    "plt.xlabel('Year')\n",
    "plt.ylabel('Total Vaccinations')\n",
    "\n",
    "plt.title('Vaccination in India in the year 2020,2021 nd 2022')\n",
    "plt.show()"
   ]
  },
  {
   "cell_type": "markdown",
   "metadata": {
    "id": "-0xTcyLy_GcI"
   },
   "source": [
    "**2) Compare number of total vaccinations in year 2020 of India and Usa**"
   ]
  },
  {
   "cell_type": "code",
   "execution_count": 24,
   "metadata": {
    "colab": {
     "base_uri": "https://localhost:8080/"
    },
    "executionInfo": {
     "elapsed": 405,
     "status": "ok",
     "timestamp": 1664133825646,
     "user": {
      "displayName": "Danish Deepak",
      "userId": "06932712960541358697"
     },
     "user_tz": -330
    },
    "id": "pxGfr2X-_Shc",
    "outputId": "9496ea61-851d-42d6-d9c0-e9d06b017005"
   },
   "outputs": [
    {
     "name": "stdout",
     "output_type": "stream",
     "text": [
      "[0, 41094416.0]\n"
     ]
    }
   ],
   "source": [
    "country=['India', 'United States']\n",
    "vac_1=[]\n",
    "for j in country:\n",
    "  total=0\n",
    "  for i in df.values:\n",
    "    if ('2020' in i[2] and j in i[0]):\n",
    "      total+=i[3]\n",
    "  vac_1.append(total)\n",
    "print(vac_1)"
   ]
  },
  {
   "cell_type": "code",
   "execution_count": 25,
   "metadata": {
    "colab": {
     "base_uri": "https://localhost:8080/",
     "height": 295
    },
    "executionInfo": {
     "elapsed": 472,
     "status": "ok",
     "timestamp": 1664133924595,
     "user": {
      "displayName": "Danish Deepak",
      "userId": "06932712960541358697"
     },
     "user_tz": -330
    },
    "id": "1JvpEqGCG1xg",
    "outputId": "96b6a7ac-2528-4051-dfca-fe18a85a82e4"
   },
   "outputs": [
    {
     "data": {
      "image/png": "[encoded data removed]",
      "text/plain": [
       "<Figure size 432x288 with 1 Axes>"
      ]
     },
     "metadata": {
      "needs_background": "light"
     },
     "output_type": "display_data"
    }
   ],
   "source": [
    "plt.bar(country, vac_1, width=.5)\n",
    "\n",
    "plt.xlabel('Country')\n",
    "plt.ylabel('Total Vaccinations')\n",
    "\n",
    "plt.title('Vaccination comparison of India & USA in the year 2020')\n",
    "plt.show()"
   ]
  },
  {
   "cell_type": "markdown",
   "metadata": {
    "id": "2cz5CRR_HO_G"
   },
   "source": [
    "**3) Compare number of total vaccinations in year 2021 of India and China**"
   ]
  },
  {
   "cell_type": "code",
   "execution_count": 27,
   "metadata": {
    "colab": {
     "base_uri": "https://localhost:8080/"
    },
    "executionInfo": {
     "elapsed": 398,
     "status": "ok",
     "timestamp": 1664134116460,
     "user": {
      "displayName": "Danish Deepak",
      "userId": "06932712960541358697"
     },
     "user_tz": -330
    },
    "id": "-uErvoohHcbS",
    "outputId": "8561471f-332b-45b7-8a51-d1de3c80c398"
   },
   "outputs": [
    {
     "name": "stdout",
     "output_type": "stream",
     "text": [
      "[174118546779.0, 440076944700.0]\n"
     ]
    }
   ],
   "source": [
    "country_1=['India', 'China']\n",
    "vac_2=[]\n",
    "for j in country_1:\n",
    "  total=0\n",
    "  for i in df.values:\n",
    "    if ('2021' in i[2] and j in i[0]):\n",
    "      total+=i[3]\n",
    "  vac_2.append(total)\n",
    "print(vac_2)"
   ]
  },
  {
   "cell_type": "code",
   "execution_count": 29,
   "metadata": {
    "colab": {
     "base_uri": "https://localhost:8080/",
     "height": 295
    },
    "executionInfo": {
     "elapsed": 421,
     "status": "ok",
     "timestamp": 1664134173275,
     "user": {
      "displayName": "Danish Deepak",
      "userId": "06932712960541358697"
     },
     "user_tz": -330
    },
    "id": "TQD4txo1HtoI",
    "outputId": "ad84009d-2ede-4908-cddc-29a459240b31"
   },
   "outputs": [
    {
     "data": {
      "image/png": "[encoded data removed]",
      "text/plain": [
       "<Figure size 432x288 with 1 Axes>"
      ]
     },
     "metadata": {
      "needs_background": "light"
     },
     "output_type": "display_data"
    }
   ],
   "source": [
    "plt.bar(country_1, vac_2, width=.5)\n",
    "\n",
    "plt.xlabel('Country')\n",
    "plt.ylabel('Total Vaccinations')\n",
    "\n",
    "plt.title('Vaccination comparison of India & China in the year 2021')\n",
    "plt.show()"
   ]
  },
  {
   "cell_type": "markdown",
   "metadata": {
    "id": "l5l5mNEeIHis"
   },
   "source": [
    "**4) Find the number of vaccination in each month in india in the year 2021**"
   ]
  },
  {
   "cell_type": "code",
   "execution_count": 40,
   "metadata": {
    "colab": {
     "base_uri": "https://localhost:8080/"
    },
    "executionInfo": {
     "elapsed": 1445,
     "status": "ok",
     "timestamp": 1664135380382,
     "user": {
      "displayName": "Danish Deepak",
      "userId": "06932712960541358697"
     },
     "user_tz": -330
    },
    "id": "aBN1z-fWIUNM",
    "outputId": "7c58abd4-c218-4054-9992-a0f8a8e3fc27"
   },
   "outputs": [
    {
     "name": "stdout",
     "output_type": "stream",
     "text": [
      "[28323206.0, 237762147.0, 1166006861.0, 3038130111.0, 5432545301.0, 7930055407.0, 11129697938.0, 15593466811.0, 23162890858.0, 30299754484.0, 34164994865.0, 41934918790.0]\n"
     ]
    }
   ],
   "source": [
    "vac_3=[]\n",
    "mon=['jan','feb','mar','april','may','jun','jul','aug','sep','oct','nov','dec']\n",
    "for j in range (1,13):\n",
    "  total=0\n",
    "  for i in df.values:\n",
    "    if ('India' in i[0] and '2021-0'+str(j)+'-' in i[2]):\n",
    "      total+=i[3]\n",
    "    elif('India' in i[0] and '2021-'+str(j)+'-' in i[2]):\n",
    "      total+=i[3]\n",
    "  vac_3.append(total)\n",
    "print(vac_3)"
   ]
  },
  {
   "cell_type": "code",
   "execution_count": 41,
   "metadata": {
    "colab": {
     "base_uri": "https://localhost:8080/",
     "height": 295
    },
    "executionInfo": {
     "elapsed": 491,
     "status": "ok",
     "timestamp": 1664135419520,
     "user": {
      "displayName": "Danish Deepak",
      "userId": "06932712960541358697"
     },
     "user_tz": -330
    },
    "id": "FXyDTQWWKtrK",
    "outputId": "eaa032e1-0afc-44c1-e388-97aac2abc8da"
   },
   "outputs": [
    {
     "data": {
      "image/png": "[encoded data removed]",
      "text/plain": [
       "<Figure size 432x288 with 1 Axes>"
      ]
     },
     "metadata": {
      "needs_background": "light"
     },
     "output_type": "display_data"
    }
   ],
   "source": [
    "plt.bar(mon, vac_3, width=.5)\n",
    "\n",
    "plt.xlabel('Month')\n",
    "plt.ylabel('Total Vaccinations')\n",
    "\n",
    "plt.title('Vaccination comparison of India in each month in the year 2021')\n",
    "plt.show()"
   ]
  },
  {
   "cell_type": "markdown",
   "metadata": {
    "id": "0OGuj-UiM6es"
   },
   "source": [
    "**5) Which month has the most number of total vaccinations in india in 2021**"
   ]
  },
  {
   "cell_type": "code",
   "execution_count": 42,
   "metadata": {
    "colab": {
     "base_uri": "https://localhost:8080/",
     "height": 248
    },
    "executionInfo": {
     "elapsed": 28,
     "status": "ok",
     "timestamp": 1664135658792,
     "user": {
      "displayName": "Danish Deepak",
      "userId": "06932712960541358697"
     },
     "user_tz": -330
    },
    "id": "-LALfxSPNKPN",
    "outputId": "69c4dd66-00e5-46ce-9c60-c09679fc9214"
   },
   "outputs": [
    {
     "data": {
      "image/png": "[encoded data removed]",
      "text/plain": [
       "<Figure size 432x288 with 1 Axes>"
      ]
     },
     "metadata": {},
     "output_type": "display_data"
    }
   ],
   "source": [
    "plt.pie(vac_3, labels=mon, autopct='%1.2f%%')\n",
    "plt.show()"
   ]
  }
 ],
 "metadata": {
  "colab": {
   "authorship_tag": "ABX9TyNMB2ss0Af7cekm3bPhd5hg",
   "collapsed_sections": [],
   "mount_file_id": "1uz66zwHkILEMy5jN2uAC-5Yx2Ky-2dbd",
   "provenance": []
  },
  "kernelspec": {
   "display_name": "Python 3 (ipykernel)",
   "language": "python",
   "name": "python3"
  },
  "language_info": {
   "codemirror_mode": {
    "name": "ipython",
    "version": 3
   },
   "file_extension": ".py",
   "mimetype": "text/x-python",
   "name": "python",
   "nbconvert_exporter": "python",
   "pygments_lexer": "ipython3",
   "version": "3.9.13"
  }
 },
 "nbformat": 4,
 "nbformat_minor": 1
}
