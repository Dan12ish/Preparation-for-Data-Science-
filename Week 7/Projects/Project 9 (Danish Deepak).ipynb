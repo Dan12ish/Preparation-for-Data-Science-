{
 "cells": [
  {
   "cell_type": "markdown",
   "metadata": {},
   "source": [
    "Danish Deepak\n",
    "\n",
    "# Project 9 - Covid Analysis\n",
    "\n",
    "• Find Monthly number of total vaccination from Jan to Dec in 2021"
   ]
  },
  {
   "cell_type": "code",
   "execution_count": 5,
   "metadata": {
    "executionInfo": {
     "elapsed": 445,
     "status": "ok",
     "timestamp": 1664136074405,
     "user": {
      "displayName": "Danish Deepak",
      "userId": "06932712960541358697"
     },
     "user_tz": -330
    },
    "id": "TzgPiChSo1Yi"
   },
   "outputs": [],
   "source": [
    "import pandas as pd"
   ]
  },
  {
   "cell_type": "code",
   "execution_count": 6,
   "metadata": {
    "colab": {
     "base_uri": "https://localhost:8080/"
    },
    "executionInfo": {
     "elapsed": 584,
     "status": "ok",
     "timestamp": 1664136075487,
     "user": {
      "displayName": "Danish Deepak",
      "userId": "06932712960541358697"
     },
     "user_tz": -330
    },
    "id": "P6T068DzqoBP",
    "outputId": "a72144cc-e99c-4b2b-984f-bcda6e9823c8"
   },
   "outputs": [
    {
     "name": "stdout",
     "output_type": "stream",
     "text": [
      "       country iso_code        date  total_vaccinations  people_vaccinated  \\\n",
      "0  Afghanistan      AFG  2021-02-22                 0.0                0.0   \n",
      "\n",
      "   people_fully_vaccinated  daily_vaccinations_raw  daily_vaccinations  \\\n",
      "0                      NaN                     NaN                 NaN   \n",
      "\n",
      "   total_vaccinations_per_hundred  people_vaccinated_per_hundred  \\\n",
      "0                             0.0                            0.0   \n",
      "\n",
      "   people_fully_vaccinated_per_hundred  daily_vaccinations_per_million  \\\n",
      "0                                  NaN                             NaN   \n",
      "\n",
      "                                            vaccines  \\\n",
      "0  Johnson&Johnson, Oxford/AstraZeneca, Pfizer/Bi...   \n",
      "\n",
      "                 source_name            source_website  \n",
      "0  World Health Organization  https://covid19.who.int/  \n"
     ]
    }
   ],
   "source": [
    "df=pd.read_csv('/content/drive/MyDrive/Colab Notebooks/country_vaccinations.csv')\n",
    "print(df.head(1))"
   ]
  },
  {
   "cell_type": "code",
   "execution_count": 7,
   "metadata": {
    "colab": {
     "base_uri": "https://localhost:8080/"
    },
    "executionInfo": {
     "elapsed": 25,
     "status": "ok",
     "timestamp": 1664136075490,
     "user": {
      "displayName": "Danish Deepak",
      "userId": "06932712960541358697"
     },
     "user_tz": -330
    },
    "id": "tItofcI0qxnE",
    "outputId": "247da168-0ef8-41ce-d94d-a5689407b984"
   },
   "outputs": [
    {
     "data": {
      "text/plain": [
       "0"
      ]
     },
     "execution_count": 7,
     "metadata": {},
     "output_type": "execute_result"
    }
   ],
   "source": [
    "df['total_vaccinations']=df['total_vaccinations'].fillna(0)\n",
    "df['total_vaccinations'].isna().sum()"
   ]
  },
  {
   "cell_type": "markdown",
   "metadata": {
    "id": "j56pQor0rb1t"
   },
   "source": [
    "**1) Find Monthly Number of total vaccination from jan to dec in 2021**"
   ]
  },
  {
   "cell_type": "code",
   "execution_count": 8,
   "metadata": {
    "executionInfo": {
     "elapsed": 17,
     "status": "ok",
     "timestamp": 1664136075491,
     "user": {
      "displayName": "Danish Deepak",
      "userId": "06932712960541358697"
     },
     "user_tz": -330
    },
    "id": "KjF5EJxyrnlR"
   },
   "outputs": [],
   "source": [
    "data=df.values"
   ]
  },
  {
   "cell_type": "code",
   "execution_count": 9,
   "metadata": {
    "colab": {
     "base_uri": "https://localhost:8080/"
    },
    "executionInfo": {
     "elapsed": 860,
     "status": "ok",
     "timestamp": 1664136076336,
     "user": {
      "displayName": "Danish Deepak",
      "userId": "06932712960541358697"
     },
     "user_tz": -330
    },
    "id": "_P6c2Me0ruTZ",
    "outputId": "86f39529-6a6f-44e3-e74d-77219ed9851f"
   },
   "outputs": [
    {
     "name": "stdout",
     "output_type": "stream",
     "text": [
      "[['1', 1368363247], ['2', 4511692243], ['3', 12370498506], ['4', 26638153919], ['5', 46939663406], ['6', 75009721988], ['7', 108476702477], ['8', 141091163032], ['9', 165202298502], ['10', 190039710952], ['11', 208464393532], ['12', 237472470374]]\n",
      "   Month Number  total vaccinations\n",
      "0             1          1368363247\n",
      "1             2          4511692243\n",
      "2             3         12370498506\n",
      "3             4         26638153919\n",
      "4             5         46939663406\n",
      "5             6         75009721988\n",
      "6             7        108476702477\n",
      "7             8        141091163032\n",
      "8             9        165202298502\n",
      "9            10        190039710952\n",
      "10           11        208464393532\n",
      "11           12        237472470374\n"
     ]
    }
   ],
   "source": [
    "lst=[]\n",
    "for i in range (1,13):\n",
    "  month=0\n",
    "  for j in data:\n",
    "    if (('2021-0'+str(i)+'-' in j[2]) or ('2021-'+str(i)+'-' in j[2])):\n",
    "      month+=j[3]\n",
    "  lst.append([str(i), int(month)])\n",
    "df_pr=pd.DataFrame(lst, columns=['Month Number','total vaccinations'])\n",
    "print(lst)\n",
    "print(df_pr)"
   ]
  }
 ],
 "metadata": {
  "colab": {
   "authorship_tag": "ABX9TyMz4zjN24hAEILLRtEsN8W+",
   "collapsed_sections": [],
   "mount_file_id": "1DK7h24js4wqW4pBVXrOsdCvpAwF62sPU",
   "provenance": []
  },
  "kernelspec": {
   "display_name": "Python 3 (ipykernel)",
   "language": "python",
   "name": "python3"
  },
  "language_info": {
   "codemirror_mode": {
    "name": "ipython",
    "version": 3
   },
   "file_extension": ".py",
   "mimetype": "text/x-python",
   "name": "python",
   "nbconvert_exporter": "python",
   "pygments_lexer": "ipython3",
   "version": "3.9.13"
  }
 },
 "nbformat": 4,
 "nbformat_minor": 1
}
