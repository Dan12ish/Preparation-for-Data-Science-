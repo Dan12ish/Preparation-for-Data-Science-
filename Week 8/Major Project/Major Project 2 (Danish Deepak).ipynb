{
 "cells": [
  {
   "cell_type": "markdown",
   "id": "239b5fcb",
   "metadata": {},
   "source": [
    "Danish Deepak\n",
    "\n",
    "## Major project 2 - Data Analysis IPL\n"
   ]
  },
  {
   "cell_type": "markdown",
   "id": "e3b09087",
   "metadata": {},
   "source": [
    "This project consists of analysing the data of IPL matches from 2008 to 2020. IPL is a cricket tournament that is played in the country of India from the month of april to june every year. IPL is one of the most famous cricket tournament in the world. The following project consists of two datasets, 1) Every match data and 2) Every ball delivered data. Using these datasets I shall analyseand answer some of the frequently asked questions when IPL comes to mind.    "
   ]
  },
  {
   "cell_type": "code",
   "execution_count": 1,
   "id": "513d2779",
   "metadata": {},
   "outputs": [],
   "source": [
    "# Importing all the important libraries which will be required to do this project.\n",
    "\n",
    "import pandas as pd\n",
    "import numpy as np\n",
    "import matplotlib.pyplot as plt "
   ]
  },
  {
   "cell_type": "code",
   "execution_count": 153,
   "id": "9087a63c",
   "metadata": {},
   "outputs": [],
   "source": [
    "# Importing both datasets.\n",
    "\n",
    "df_m = pd.read_csv('IPL Matches 2008-2020.csv')\n",
    "df_b = pd.read_csv('IPL Ball-by-Ball 2008-2020.csv')"
   ]
  },
  {
   "cell_type": "markdown",
   "id": "9e6c4945",
   "metadata": {},
   "source": [
    "Exploring the matches dataframe."
   ]
  },
  {
   "cell_type": "code",
   "execution_count": 3,
   "id": "c10b70e5",
   "metadata": {},
   "outputs": [
    {
     "data": {
      "text/html": [
       "<div>\n",
       "<style scoped>\n",
       "    .dataframe tbody tr th:only-of-type {\n",
       "        vertical-align: middle;\n",
       "    }\n",
       "\n",
       "    .dataframe tbody tr th {\n",
       "        vertical-align: top;\n",
       "    }\n",
       "\n",
       "    .dataframe thead th {\n",
       "        text-align: right;\n",
       "    }\n",
       "</style>\n",
       "<table border=\"1\" class=\"dataframe\">\n",
       "  <thead>\n",
       "    <tr style=\"text-align: right;\">\n",
       "      <th></th>\n",
       "      <th>id</th>\n",
       "      <th>city</th>\n",
       "      <th>date</th>\n",
       "      <th>player_of_match</th>\n",
       "      <th>venue</th>\n",
       "      <th>neutral_venue</th>\n",
       "      <th>team1</th>\n",
       "      <th>team2</th>\n",
       "      <th>toss_winner</th>\n",
       "      <th>toss_decision</th>\n",
       "      <th>winner</th>\n",
       "      <th>result</th>\n",
       "      <th>result_margin</th>\n",
       "      <th>eliminator</th>\n",
       "      <th>method</th>\n",
       "      <th>umpire1</th>\n",
       "      <th>umpire2</th>\n",
       "    </tr>\n",
       "  </thead>\n",
       "  <tbody>\n",
       "    <tr>\n",
       "      <th>0</th>\n",
       "      <td>335982</td>\n",
       "      <td>Bangalore</td>\n",
       "      <td>2008-04-18</td>\n",
       "      <td>BB McCullum</td>\n",
       "      <td>M Chinnaswamy Stadium</td>\n",
       "      <td>0</td>\n",
       "      <td>Royal Challengers Bangalore</td>\n",
       "      <td>Kolkata Knight Riders</td>\n",
       "      <td>Royal Challengers Bangalore</td>\n",
       "      <td>field</td>\n",
       "      <td>Kolkata Knight Riders</td>\n",
       "      <td>runs</td>\n",
       "      <td>140.0</td>\n",
       "      <td>N</td>\n",
       "      <td>NaN</td>\n",
       "      <td>Asad Rauf</td>\n",
       "      <td>RE Koertzen</td>\n",
       "    </tr>\n",
       "    <tr>\n",
       "      <th>1</th>\n",
       "      <td>335983</td>\n",
       "      <td>Chandigarh</td>\n",
       "      <td>2008-04-19</td>\n",
       "      <td>MEK Hussey</td>\n",
       "      <td>Punjab Cricket Association Stadium, Mohali</td>\n",
       "      <td>0</td>\n",
       "      <td>Kings XI Punjab</td>\n",
       "      <td>Chennai Super Kings</td>\n",
       "      <td>Chennai Super Kings</td>\n",
       "      <td>bat</td>\n",
       "      <td>Chennai Super Kings</td>\n",
       "      <td>runs</td>\n",
       "      <td>33.0</td>\n",
       "      <td>N</td>\n",
       "      <td>NaN</td>\n",
       "      <td>MR Benson</td>\n",
       "      <td>SL Shastri</td>\n",
       "    </tr>\n",
       "    <tr>\n",
       "      <th>2</th>\n",
       "      <td>335984</td>\n",
       "      <td>Delhi</td>\n",
       "      <td>2008-04-19</td>\n",
       "      <td>MF Maharoof</td>\n",
       "      <td>Feroz Shah Kotla</td>\n",
       "      <td>0</td>\n",
       "      <td>Delhi Daredevils</td>\n",
       "      <td>Rajasthan Royals</td>\n",
       "      <td>Rajasthan Royals</td>\n",
       "      <td>bat</td>\n",
       "      <td>Delhi Daredevils</td>\n",
       "      <td>wickets</td>\n",
       "      <td>9.0</td>\n",
       "      <td>N</td>\n",
       "      <td>NaN</td>\n",
       "      <td>Aleem Dar</td>\n",
       "      <td>GA Pratapkumar</td>\n",
       "    </tr>\n",
       "    <tr>\n",
       "      <th>3</th>\n",
       "      <td>335985</td>\n",
       "      <td>Mumbai</td>\n",
       "      <td>2008-04-20</td>\n",
       "      <td>MV Boucher</td>\n",
       "      <td>Wankhede Stadium</td>\n",
       "      <td>0</td>\n",
       "      <td>Mumbai Indians</td>\n",
       "      <td>Royal Challengers Bangalore</td>\n",
       "      <td>Mumbai Indians</td>\n",
       "      <td>bat</td>\n",
       "      <td>Royal Challengers Bangalore</td>\n",
       "      <td>wickets</td>\n",
       "      <td>5.0</td>\n",
       "      <td>N</td>\n",
       "      <td>NaN</td>\n",
       "      <td>SJ Davis</td>\n",
       "      <td>DJ Harper</td>\n",
       "    </tr>\n",
       "    <tr>\n",
       "      <th>4</th>\n",
       "      <td>335986</td>\n",
       "      <td>Kolkata</td>\n",
       "      <td>2008-04-20</td>\n",
       "      <td>DJ Hussey</td>\n",
       "      <td>Eden Gardens</td>\n",
       "      <td>0</td>\n",
       "      <td>Kolkata Knight Riders</td>\n",
       "      <td>Deccan Chargers</td>\n",
       "      <td>Deccan Chargers</td>\n",
       "      <td>bat</td>\n",
       "      <td>Kolkata Knight Riders</td>\n",
       "      <td>wickets</td>\n",
       "      <td>5.0</td>\n",
       "      <td>N</td>\n",
       "      <td>NaN</td>\n",
       "      <td>BF Bowden</td>\n",
       "      <td>K Hariharan</td>\n",
       "    </tr>\n",
       "  </tbody>\n",
       "</table>\n",
       "</div>"
      ],
      "text/plain": [
       "       id        city        date player_of_match  \\\n",
       "0  335982   Bangalore  2008-04-18     BB McCullum   \n",
       "1  335983  Chandigarh  2008-04-19      MEK Hussey   \n",
       "2  335984       Delhi  2008-04-19     MF Maharoof   \n",
       "3  335985      Mumbai  2008-04-20      MV Boucher   \n",
       "4  335986     Kolkata  2008-04-20       DJ Hussey   \n",
       "\n",
       "                                        venue  neutral_venue  \\\n",
       "0                       M Chinnaswamy Stadium              0   \n",
       "1  Punjab Cricket Association Stadium, Mohali              0   \n",
       "2                            Feroz Shah Kotla              0   \n",
       "3                            Wankhede Stadium              0   \n",
       "4                                Eden Gardens              0   \n",
       "\n",
       "                         team1                        team2  \\\n",
       "0  Royal Challengers Bangalore        Kolkata Knight Riders   \n",
       "1              Kings XI Punjab          Chennai Super Kings   \n",
       "2             Delhi Daredevils             Rajasthan Royals   \n",
       "3               Mumbai Indians  Royal Challengers Bangalore   \n",
       "4        Kolkata Knight Riders              Deccan Chargers   \n",
       "\n",
       "                   toss_winner toss_decision                       winner  \\\n",
       "0  Royal Challengers Bangalore         field        Kolkata Knight Riders   \n",
       "1          Chennai Super Kings           bat          Chennai Super Kings   \n",
       "2             Rajasthan Royals           bat             Delhi Daredevils   \n",
       "3               Mumbai Indians           bat  Royal Challengers Bangalore   \n",
       "4              Deccan Chargers           bat        Kolkata Knight Riders   \n",
       "\n",
       "    result  result_margin eliminator method    umpire1         umpire2  \n",
       "0     runs          140.0          N    NaN  Asad Rauf     RE Koertzen  \n",
       "1     runs           33.0          N    NaN  MR Benson      SL Shastri  \n",
       "2  wickets            9.0          N    NaN  Aleem Dar  GA Pratapkumar  \n",
       "3  wickets            5.0          N    NaN   SJ Davis       DJ Harper  \n",
       "4  wickets            5.0          N    NaN  BF Bowden     K Hariharan  "
      ]
     },
     "execution_count": 3,
     "metadata": {},
     "output_type": "execute_result"
    }
   ],
   "source": [
    "# looking at the dataframe itself\n",
    "df_m.head()"
   ]
  },
  {
   "cell_type": "code",
   "execution_count": 4,
   "id": "cd7b9522",
   "metadata": {},
   "outputs": [
    {
     "name": "stdout",
     "output_type": "stream",
     "text": [
      "<class 'pandas.core.frame.DataFrame'>\n",
      "RangeIndex: 816 entries, 0 to 815\n",
      "Data columns (total 17 columns):\n",
      " #   Column           Non-Null Count  Dtype  \n",
      "---  ------           --------------  -----  \n",
      " 0   id               816 non-null    int64  \n",
      " 1   city             803 non-null    object \n",
      " 2   date             816 non-null    object \n",
      " 3   player_of_match  812 non-null    object \n",
      " 4   venue            816 non-null    object \n",
      " 5   neutral_venue    816 non-null    int64  \n",
      " 6   team1            816 non-null    object \n",
      " 7   team2            816 non-null    object \n",
      " 8   toss_winner      816 non-null    object \n",
      " 9   toss_decision    816 non-null    object \n",
      " 10  winner           812 non-null    object \n",
      " 11  result           812 non-null    object \n",
      " 12  result_margin    799 non-null    float64\n",
      " 13  eliminator       812 non-null    object \n",
      " 14  method           19 non-null     object \n",
      " 15  umpire1          816 non-null    object \n",
      " 16  umpire2          816 non-null    object \n",
      "dtypes: float64(1), int64(2), object(14)\n",
      "memory usage: 108.5+ KB\n"
     ]
    }
   ],
   "source": [
    "# Looking at the data type of each column.\n",
    "df_m.info()"
   ]
  },
  {
   "cell_type": "markdown",
   "id": "15658221",
   "metadata": {},
   "source": [
    "Exploring the Ball by Ball dataframe"
   ]
  },
  {
   "cell_type": "code",
   "execution_count": 5,
   "id": "382e7399",
   "metadata": {},
   "outputs": [
    {
     "data": {
      "text/html": [
       "<div>\n",
       "<style scoped>\n",
       "    .dataframe tbody tr th:only-of-type {\n",
       "        vertical-align: middle;\n",
       "    }\n",
       "\n",
       "    .dataframe tbody tr th {\n",
       "        vertical-align: top;\n",
       "    }\n",
       "\n",
       "    .dataframe thead th {\n",
       "        text-align: right;\n",
       "    }\n",
       "</style>\n",
       "<table border=\"1\" class=\"dataframe\">\n",
       "  <thead>\n",
       "    <tr style=\"text-align: right;\">\n",
       "      <th></th>\n",
       "      <th>id</th>\n",
       "      <th>inning</th>\n",
       "      <th>over</th>\n",
       "      <th>ball</th>\n",
       "      <th>batsman</th>\n",
       "      <th>non_striker</th>\n",
       "      <th>bowler</th>\n",
       "      <th>batsman_runs</th>\n",
       "      <th>extra_runs</th>\n",
       "      <th>total_runs</th>\n",
       "      <th>non_boundary</th>\n",
       "      <th>is_wicket</th>\n",
       "      <th>dismissal_kind</th>\n",
       "      <th>player_dismissed</th>\n",
       "      <th>fielder</th>\n",
       "      <th>extras_type</th>\n",
       "      <th>batting_team</th>\n",
       "      <th>bowling_team</th>\n",
       "    </tr>\n",
       "  </thead>\n",
       "  <tbody>\n",
       "    <tr>\n",
       "      <th>0</th>\n",
       "      <td>335982</td>\n",
       "      <td>1</td>\n",
       "      <td>6</td>\n",
       "      <td>5</td>\n",
       "      <td>RT Ponting</td>\n",
       "      <td>BB McCullum</td>\n",
       "      <td>AA Noffke</td>\n",
       "      <td>1</td>\n",
       "      <td>0</td>\n",
       "      <td>1</td>\n",
       "      <td>0</td>\n",
       "      <td>0</td>\n",
       "      <td>NaN</td>\n",
       "      <td>NaN</td>\n",
       "      <td>NaN</td>\n",
       "      <td>NaN</td>\n",
       "      <td>Kolkata Knight Riders</td>\n",
       "      <td>Royal Challengers Bangalore</td>\n",
       "    </tr>\n",
       "    <tr>\n",
       "      <th>1</th>\n",
       "      <td>335982</td>\n",
       "      <td>1</td>\n",
       "      <td>6</td>\n",
       "      <td>6</td>\n",
       "      <td>BB McCullum</td>\n",
       "      <td>RT Ponting</td>\n",
       "      <td>AA Noffke</td>\n",
       "      <td>1</td>\n",
       "      <td>0</td>\n",
       "      <td>1</td>\n",
       "      <td>0</td>\n",
       "      <td>0</td>\n",
       "      <td>NaN</td>\n",
       "      <td>NaN</td>\n",
       "      <td>NaN</td>\n",
       "      <td>NaN</td>\n",
       "      <td>Kolkata Knight Riders</td>\n",
       "      <td>Royal Challengers Bangalore</td>\n",
       "    </tr>\n",
       "    <tr>\n",
       "      <th>2</th>\n",
       "      <td>335982</td>\n",
       "      <td>1</td>\n",
       "      <td>7</td>\n",
       "      <td>1</td>\n",
       "      <td>BB McCullum</td>\n",
       "      <td>RT Ponting</td>\n",
       "      <td>Z Khan</td>\n",
       "      <td>0</td>\n",
       "      <td>0</td>\n",
       "      <td>0</td>\n",
       "      <td>0</td>\n",
       "      <td>0</td>\n",
       "      <td>NaN</td>\n",
       "      <td>NaN</td>\n",
       "      <td>NaN</td>\n",
       "      <td>NaN</td>\n",
       "      <td>Kolkata Knight Riders</td>\n",
       "      <td>Royal Challengers Bangalore</td>\n",
       "    </tr>\n",
       "    <tr>\n",
       "      <th>3</th>\n",
       "      <td>335982</td>\n",
       "      <td>1</td>\n",
       "      <td>7</td>\n",
       "      <td>2</td>\n",
       "      <td>BB McCullum</td>\n",
       "      <td>RT Ponting</td>\n",
       "      <td>Z Khan</td>\n",
       "      <td>1</td>\n",
       "      <td>0</td>\n",
       "      <td>1</td>\n",
       "      <td>0</td>\n",
       "      <td>0</td>\n",
       "      <td>NaN</td>\n",
       "      <td>NaN</td>\n",
       "      <td>NaN</td>\n",
       "      <td>NaN</td>\n",
       "      <td>Kolkata Knight Riders</td>\n",
       "      <td>Royal Challengers Bangalore</td>\n",
       "    </tr>\n",
       "    <tr>\n",
       "      <th>4</th>\n",
       "      <td>335982</td>\n",
       "      <td>1</td>\n",
       "      <td>7</td>\n",
       "      <td>3</td>\n",
       "      <td>RT Ponting</td>\n",
       "      <td>BB McCullum</td>\n",
       "      <td>Z Khan</td>\n",
       "      <td>1</td>\n",
       "      <td>0</td>\n",
       "      <td>1</td>\n",
       "      <td>0</td>\n",
       "      <td>0</td>\n",
       "      <td>NaN</td>\n",
       "      <td>NaN</td>\n",
       "      <td>NaN</td>\n",
       "      <td>NaN</td>\n",
       "      <td>Kolkata Knight Riders</td>\n",
       "      <td>Royal Challengers Bangalore</td>\n",
       "    </tr>\n",
       "  </tbody>\n",
       "</table>\n",
       "</div>"
      ],
      "text/plain": [
       "       id  inning  over  ball      batsman  non_striker     bowler  \\\n",
       "0  335982       1     6     5   RT Ponting  BB McCullum  AA Noffke   \n",
       "1  335982       1     6     6  BB McCullum   RT Ponting  AA Noffke   \n",
       "2  335982       1     7     1  BB McCullum   RT Ponting     Z Khan   \n",
       "3  335982       1     7     2  BB McCullum   RT Ponting     Z Khan   \n",
       "4  335982       1     7     3   RT Ponting  BB McCullum     Z Khan   \n",
       "\n",
       "   batsman_runs  extra_runs  total_runs  non_boundary  is_wicket  \\\n",
       "0             1           0           1             0          0   \n",
       "1             1           0           1             0          0   \n",
       "2             0           0           0             0          0   \n",
       "3             1           0           1             0          0   \n",
       "4             1           0           1             0          0   \n",
       "\n",
       "  dismissal_kind player_dismissed fielder extras_type           batting_team  \\\n",
       "0            NaN              NaN     NaN         NaN  Kolkata Knight Riders   \n",
       "1            NaN              NaN     NaN         NaN  Kolkata Knight Riders   \n",
       "2            NaN              NaN     NaN         NaN  Kolkata Knight Riders   \n",
       "3            NaN              NaN     NaN         NaN  Kolkata Knight Riders   \n",
       "4            NaN              NaN     NaN         NaN  Kolkata Knight Riders   \n",
       "\n",
       "                  bowling_team  \n",
       "0  Royal Challengers Bangalore  \n",
       "1  Royal Challengers Bangalore  \n",
       "2  Royal Challengers Bangalore  \n",
       "3  Royal Challengers Bangalore  \n",
       "4  Royal Challengers Bangalore  "
      ]
     },
     "execution_count": 5,
     "metadata": {},
     "output_type": "execute_result"
    }
   ],
   "source": [
    "# looking at the dataframe itself.\n",
    "df_b.head()"
   ]
  },
  {
   "cell_type": "code",
   "execution_count": 6,
   "id": "ddce156f",
   "metadata": {},
   "outputs": [
    {
     "name": "stdout",
     "output_type": "stream",
     "text": [
      "<class 'pandas.core.frame.DataFrame'>\n",
      "RangeIndex: 193468 entries, 0 to 193467\n",
      "Data columns (total 18 columns):\n",
      " #   Column            Non-Null Count   Dtype \n",
      "---  ------            --------------   ----- \n",
      " 0   id                193468 non-null  int64 \n",
      " 1   inning            193468 non-null  int64 \n",
      " 2   over              193468 non-null  int64 \n",
      " 3   ball              193468 non-null  int64 \n",
      " 4   batsman           193468 non-null  object\n",
      " 5   non_striker       193468 non-null  object\n",
      " 6   bowler            193468 non-null  object\n",
      " 7   batsman_runs      193468 non-null  int64 \n",
      " 8   extra_runs        193468 non-null  int64 \n",
      " 9   total_runs        193468 non-null  int64 \n",
      " 10  non_boundary      193468 non-null  int64 \n",
      " 11  is_wicket         193468 non-null  int64 \n",
      " 12  dismissal_kind    9495 non-null    object\n",
      " 13  player_dismissed  9495 non-null    object\n",
      " 14  fielder           6784 non-null    object\n",
      " 15  extras_type       10233 non-null   object\n",
      " 16  batting_team      193468 non-null  object\n",
      " 17  bowling_team      193277 non-null  object\n",
      "dtypes: int64(9), object(9)\n",
      "memory usage: 26.6+ MB\n"
     ]
    }
   ],
   "source": [
    "# Looking at the data type of each column\n",
    "df_b.info()"
   ]
  },
  {
   "cell_type": "markdown",
   "id": "c8fcdb4f",
   "metadata": {},
   "source": [
    "### 1. What is the count of matches played in each season?"
   ]
  },
  {
   "cell_type": "code",
   "execution_count": 7,
   "id": "f6b73e64",
   "metadata": {},
   "outputs": [
    {
     "name": "stdout",
     "output_type": "stream",
     "text": [
      "{'2008': 0, '2009': 0, '2010': 0, '2011': 0, '2012': 0, '2013': 0, '2014': 0, '2015': 0, '2016': 0, '2017': 0, '2018': 0, '2019': 0, '2020': 0}\n"
     ]
    }
   ],
   "source": [
    "# finding out the number of seasons in the dataframe\n",
    "\n",
    "seasons = {}\n",
    "\n",
    "for i in df_m['date']:\n",
    "    if i.split('-')[0] not in seasons:\n",
    "        seasons[i.split('-')[0]] = 0\n",
    "\n",
    "print(seasons)"
   ]
  },
  {
   "cell_type": "code",
   "execution_count": 8,
   "id": "eae79093",
   "metadata": {},
   "outputs": [],
   "source": [
    "# finding out the number of matches played in each season \n",
    "\n",
    "for i in seasons.keys():\n",
    "    for j in df_m['date']:\n",
    "        if i in j:\n",
    "            seasons[i]+=1"
   ]
  },
  {
   "cell_type": "code",
   "execution_count": 254,
   "id": "caecbdb4",
   "metadata": {},
   "outputs": [
    {
     "data": {
      "text/plain": [
       "{'2008': 58,\n",
       " '2009': 57,\n",
       " '2010': 60,\n",
       " '2011': 73,\n",
       " '2012': 74,\n",
       " '2013': 76,\n",
       " '2014': 60,\n",
       " '2015': 59,\n",
       " '2016': 60,\n",
       " '2017': 59,\n",
       " '2018': 60,\n",
       " '2019': 60,\n",
       " '2020': 60}"
      ]
     },
     "execution_count": 254,
     "metadata": {},
     "output_type": "execute_result"
    }
   ],
   "source": [
    "seasons"
   ]
  },
  {
   "cell_type": "code",
   "execution_count": 10,
   "id": "817450fd",
   "metadata": {},
   "outputs": [
    {
     "data": {
      "image/png": "[encoded data removed]",
      "text/plain": [
       "<Figure size 1000x500 with 1 Axes>"
      ]
     },
     "metadata": {},
     "output_type": "display_data"
    }
   ],
   "source": [
    "# Visualization of the count of matches in each seasons\n",
    "\n",
    "x = list(seasons.keys())\n",
    "y = list(seasons.values())\n",
    "\n",
    "fig = plt.figure (figsize = (10,5))\n",
    "\n",
    "plt.bar(x,y, color = 'blue', width=0.4)\n",
    "\n",
    "plt.xlabel('Seasons')\n",
    "plt.ylabel('No. of Matches')\n",
    "plt.title('Match count in each season')\n",
    "plt.show()"
   ]
  },
  {
   "cell_type": "markdown",
   "id": "79708906",
   "metadata": {},
   "source": [
    "### 2. How many runs were scored in each season?"
   ]
  },
  {
   "cell_type": "code",
   "execution_count": 12,
   "id": "e4b6af98",
   "metadata": {},
   "outputs": [],
   "source": [
    "# Making a dictionary for all the matches in the dataframe\n",
    "\n",
    "matches = {}\n",
    "\n",
    "for i in df_b['id']:\n",
    "    if i not in matches:\n",
    "        matches[i]=0"
   ]
  },
  {
   "cell_type": "code",
   "execution_count": 13,
   "id": "643f5d1d",
   "metadata": {},
   "outputs": [],
   "source": [
    "# runs for every match\n",
    "\n",
    "for i in matches:\n",
    "    runs = 0\n",
    "    for j in df_b.values:\n",
    "        if i == j[0]:\n",
    "            runs += j[9] \n",
    "    matches[i]=runs"
   ]
  },
  {
   "cell_type": "code",
   "execution_count": 15,
   "id": "ebb30634",
   "metadata": {},
   "outputs": [
    {
     "name": "stdout",
     "output_type": "stream",
     "text": [
      "{'2008': 0, '2009': 0, '2010': 0, '2011': 0, '2012': 0, '2013': 0, '2014': 0, '2015': 0, '2016': 0, '2017': 0, '2018': 0, '2019': 0, '2020': 0}\n"
     ]
    }
   ],
   "source": [
    "#Creating a dictionary for total runs in every seasons\n",
    "\n",
    "season_total_runs = {}\n",
    "\n",
    "for i in seasons.keys():\n",
    "    season_total_runs[i] = 0\n",
    "\n",
    "print(season_total_runs)"
   ]
  },
  {
   "cell_type": "code",
   "execution_count": 16,
   "id": "87c2fa44",
   "metadata": {},
   "outputs": [
    {
     "data": {
      "text/plain": [
       "{'2008': 17937,\n",
       " '2009': 16320,\n",
       " '2010': 18864,\n",
       " '2011': 21154,\n",
       " '2012': 22453,\n",
       " '2013': 22541,\n",
       " '2014': 18909,\n",
       " '2015': 18332,\n",
       " '2016': 18862,\n",
       " '2017': 18769,\n",
       " '2018': 19901,\n",
       " '2019': 19400,\n",
       " '2020': 19352}"
      ]
     },
     "execution_count": 16,
     "metadata": {},
     "output_type": "execute_result"
    }
   ],
   "source": [
    "# finding total runs in every seasons\n",
    "\n",
    "for i in seasons.keys():\n",
    "    runs = 0\n",
    "    for j in df_m.values:\n",
    "        if i in j[2]:\n",
    "            if j[0] in matches.keys():\n",
    "                runs += matches[j[0]]\n",
    "    \n",
    "    season_total_runs[i] = runs\n",
    "\n",
    "season_total_runs"
   ]
  },
  {
   "cell_type": "code",
   "execution_count": 17,
   "id": "9034333f",
   "metadata": {},
   "outputs": [
    {
     "data": {
      "image/png": "[encoded data removed]",
      "text/plain": [
       "<Figure size 1000x500 with 1 Axes>"
      ]
     },
     "metadata": {},
     "output_type": "display_data"
    }
   ],
   "source": [
    "# Visualizations of the total runs in every season\n",
    "\n",
    "x = season_total_runs.keys()\n",
    "y = season_total_runs.values()\n",
    "\n",
    "fig = plt.figure(figsize = (10,5))\n",
    "\n",
    "plt.bar(x,y, color = 'blue', width =0.4)\n",
    "\n",
    "plt.xlabel('Seasons')\n",
    "plt.ylabel('Runs')\n",
    "plt.title('Total runs in every season')\n",
    "\n",
    "plt.show()"
   ]
  },
  {
   "cell_type": "markdown",
   "id": "dbec5823",
   "metadata": {},
   "source": [
    "### 3. What was the run scored per match in every season?"
   ]
  },
  {
   "cell_type": "code",
   "execution_count": 18,
   "id": "7e7470e9",
   "metadata": {},
   "outputs": [],
   "source": [
    "# To find the runs scored per match in every season we need to find the ratio of total runs scored in every season to the \n",
    "# total number of matches in every season."
   ]
  },
  {
   "cell_type": "code",
   "execution_count": 19,
   "id": "a0ea5368",
   "metadata": {},
   "outputs": [
    {
     "data": {
      "text/plain": [
       "{'2008': 309.26,\n",
       " '2009': 286.32,\n",
       " '2010': 314.4,\n",
       " '2011': 289.78,\n",
       " '2012': 303.42,\n",
       " '2013': 296.59,\n",
       " '2014': 315.15,\n",
       " '2015': 310.71,\n",
       " '2016': 314.37,\n",
       " '2017': 318.12,\n",
       " '2018': 331.68,\n",
       " '2019': 323.33,\n",
       " '2020': 322.53}"
      ]
     },
     "execution_count": 19,
     "metadata": {},
     "output_type": "execute_result"
    }
   ],
   "source": [
    "# Creating a dictionary to find the runs scored per match in every season\n",
    "\n",
    "runs_per_match = {}\n",
    "for i in seasons.keys():\n",
    "    runs_per_match[i] = round(float(season_total_runs[i]/seasons[i]),2)\n",
    "\n",
    "runs_per_match"
   ]
  },
  {
   "cell_type": "code",
   "execution_count": 20,
   "id": "de8e66e3",
   "metadata": {},
   "outputs": [
    {
     "data": {
      "image/png": "[encoded data removed]",
      "text/plain": [
       "<Figure size 1000x500 with 1 Axes>"
      ]
     },
     "metadata": {},
     "output_type": "display_data"
    }
   ],
   "source": [
    "# Visualizing the runs scored per match in every season.\n",
    "\n",
    "x = runs_per_match.keys()\n",
    "y = runs_per_match.values()\n",
    "\n",
    "fig = plt.figure(figsize = (10,5))\n",
    "\n",
    "plt.bar(x,y, color = 'blue', width =0.4)\n",
    "\n",
    "plt.xlabel('Seasons')\n",
    "plt.ylabel('Runs per match')\n",
    "plt.title('Runs per match every season')\n",
    "\n",
    "plt.show()"
   ]
  },
  {
   "cell_type": "markdown",
   "id": "c9552901",
   "metadata": {},
   "source": [
    "### 4. Who has umpired the most ?"
   ]
  },
  {
   "cell_type": "code",
   "execution_count": 38,
   "id": "6f51db81",
   "metadata": {},
   "outputs": [],
   "source": [
    "#Finding all the umpires in the dataframe.\n",
    "\n",
    "umpire = {}\n",
    "\n",
    "for j in (-1,-2):\n",
    "    for i in df_m.values:\n",
    "        if i[j] not in umpire:\n",
    "            umpire[i[j]]=0"
   ]
  },
  {
   "cell_type": "code",
   "execution_count": 41,
   "id": "80c6b40d",
   "metadata": {},
   "outputs": [],
   "source": [
    "#Finding the number of matches umpired by each empire.\n",
    "\n",
    "for i in umpire.keys():\n",
    "    c = 0\n",
    "    for k in (-1,-2):\n",
    "        for j in df_m.values:\n",
    "            if i == j[k]:\n",
    "                c += 1\n",
    "    umpire[i] = c"
   ]
  },
  {
   "cell_type": "code",
   "execution_count": 113,
   "id": "e6ba1151",
   "metadata": {},
   "outputs": [
    {
     "data": {
      "text/html": [
       "<div>\n",
       "<style scoped>\n",
       "    .dataframe tbody tr th:only-of-type {\n",
       "        vertical-align: middle;\n",
       "    }\n",
       "\n",
       "    .dataframe tbody tr th {\n",
       "        vertical-align: top;\n",
       "    }\n",
       "\n",
       "    .dataframe thead th {\n",
       "        text-align: right;\n",
       "    }\n",
       "</style>\n",
       "<table border=\"1\" class=\"dataframe\">\n",
       "  <thead>\n",
       "    <tr style=\"text-align: right;\">\n",
       "      <th></th>\n",
       "      <th>Umpire</th>\n",
       "      <th>No. of Matches</th>\n",
       "    </tr>\n",
       "  </thead>\n",
       "  <tbody>\n",
       "    <tr>\n",
       "      <th>19</th>\n",
       "      <td>S Ravi</td>\n",
       "      <td>121</td>\n",
       "    </tr>\n",
       "    <tr>\n",
       "      <th>20</th>\n",
       "      <td>HDPK Dharmasena</td>\n",
       "      <td>94</td>\n",
       "    </tr>\n",
       "    <tr>\n",
       "      <th>31</th>\n",
       "      <td>AK Chaudhary</td>\n",
       "      <td>87</td>\n",
       "    </tr>\n",
       "    <tr>\n",
       "      <th>30</th>\n",
       "      <td>C Shamshuddin</td>\n",
       "      <td>82</td>\n",
       "    </tr>\n",
       "    <tr>\n",
       "      <th>16</th>\n",
       "      <td>M Erasmus</td>\n",
       "      <td>65</td>\n",
       "    </tr>\n",
       "    <tr>\n",
       "      <th>43</th>\n",
       "      <td>Nitin Menon</td>\n",
       "      <td>57</td>\n",
       "    </tr>\n",
       "    <tr>\n",
       "      <th>34</th>\n",
       "      <td>CK Nandan</td>\n",
       "      <td>57</td>\n",
       "    </tr>\n",
       "    <tr>\n",
       "      <th>15</th>\n",
       "      <td>SJA Taufel</td>\n",
       "      <td>55</td>\n",
       "    </tr>\n",
       "    <tr>\n",
       "      <th>47</th>\n",
       "      <td>Asad Rauf</td>\n",
       "      <td>51</td>\n",
       "    </tr>\n",
       "    <tr>\n",
       "      <th>25</th>\n",
       "      <td>VA Kulkarni</td>\n",
       "      <td>50</td>\n",
       "    </tr>\n",
       "    <tr>\n",
       "      <th>27</th>\n",
       "      <td>BNJ Oxenford</td>\n",
       "      <td>48</td>\n",
       "    </tr>\n",
       "    <tr>\n",
       "      <th>38</th>\n",
       "      <td>CB Gaffaney</td>\n",
       "      <td>47</td>\n",
       "    </tr>\n",
       "    <tr>\n",
       "      <th>24</th>\n",
       "      <td>RJ Tucker</td>\n",
       "      <td>46</td>\n",
       "    </tr>\n",
       "    <tr>\n",
       "      <th>11</th>\n",
       "      <td>BR Doctrove</td>\n",
       "      <td>42</td>\n",
       "    </tr>\n",
       "    <tr>\n",
       "      <th>0</th>\n",
       "      <td>RE Koertzen</td>\n",
       "      <td>41</td>\n",
       "    </tr>\n",
       "    <tr>\n",
       "      <th>48</th>\n",
       "      <td>Aleem Dar</td>\n",
       "      <td>38</td>\n",
       "    </tr>\n",
       "    <tr>\n",
       "      <th>35</th>\n",
       "      <td>NJ Llong</td>\n",
       "      <td>37</td>\n",
       "    </tr>\n",
       "    <tr>\n",
       "      <th>49</th>\n",
       "      <td>BF Bowden</td>\n",
       "      <td>37</td>\n",
       "    </tr>\n",
       "    <tr>\n",
       "      <th>54</th>\n",
       "      <td>KN Ananthapadmanabhan</td>\n",
       "      <td>33</td>\n",
       "    </tr>\n",
       "    <tr>\n",
       "      <th>36</th>\n",
       "      <td>RK Illingworth</td>\n",
       "      <td>31</td>\n",
       "    </tr>\n",
       "    <tr>\n",
       "      <th>18</th>\n",
       "      <td>SK Tarapore</td>\n",
       "      <td>31</td>\n",
       "    </tr>\n",
       "    <tr>\n",
       "      <th>28</th>\n",
       "      <td>S Asnani</td>\n",
       "      <td>30</td>\n",
       "    </tr>\n",
       "    <tr>\n",
       "      <th>5</th>\n",
       "      <td>RB Tiffin</td>\n",
       "      <td>30</td>\n",
       "    </tr>\n",
       "    <tr>\n",
       "      <th>53</th>\n",
       "      <td>AY Dandekar</td>\n",
       "      <td>28</td>\n",
       "    </tr>\n",
       "    <tr>\n",
       "      <th>3</th>\n",
       "      <td>DJ Harper</td>\n",
       "      <td>27</td>\n",
       "    </tr>\n",
       "    <tr>\n",
       "      <th>41</th>\n",
       "      <td>VK Sharma</td>\n",
       "      <td>26</td>\n",
       "    </tr>\n",
       "    <tr>\n",
       "      <th>6</th>\n",
       "      <td>AM Saheba</td>\n",
       "      <td>26</td>\n",
       "    </tr>\n",
       "    <tr>\n",
       "      <th>42</th>\n",
       "      <td>A Nand Kishore</td>\n",
       "      <td>25</td>\n",
       "    </tr>\n",
       "    <tr>\n",
       "      <th>22</th>\n",
       "      <td>PR Reiffel</td>\n",
       "      <td>24</td>\n",
       "    </tr>\n",
       "    <tr>\n",
       "      <th>4</th>\n",
       "      <td>K Hariharan</td>\n",
       "      <td>21</td>\n",
       "    </tr>\n",
       "    <tr>\n",
       "      <th>45</th>\n",
       "      <td>YC Barde</td>\n",
       "      <td>19</td>\n",
       "    </tr>\n",
       "    <tr>\n",
       "      <th>26</th>\n",
       "      <td>JD Cloete</td>\n",
       "      <td>17</td>\n",
       "    </tr>\n",
       "    <tr>\n",
       "      <th>21</th>\n",
       "      <td>SS Hazare</td>\n",
       "      <td>17</td>\n",
       "    </tr>\n",
       "    <tr>\n",
       "      <th>12</th>\n",
       "      <td>BG Jerling</td>\n",
       "      <td>17</td>\n",
       "    </tr>\n",
       "    <tr>\n",
       "      <th>29</th>\n",
       "      <td>S Das</td>\n",
       "      <td>15</td>\n",
       "    </tr>\n",
       "    <tr>\n",
       "      <th>32</th>\n",
       "      <td>K Srinath</td>\n",
       "      <td>15</td>\n",
       "    </tr>\n",
       "    <tr>\n",
       "      <th>1</th>\n",
       "      <td>SL Shastri</td>\n",
       "      <td>14</td>\n",
       "    </tr>\n",
       "    <tr>\n",
       "      <th>8</th>\n",
       "      <td>IL Howell</td>\n",
       "      <td>14</td>\n",
       "    </tr>\n",
       "    <tr>\n",
       "      <th>44</th>\n",
       "      <td>A Deshmukh</td>\n",
       "      <td>12</td>\n",
       "    </tr>\n",
       "    <tr>\n",
       "      <th>7</th>\n",
       "      <td>MR Benson</td>\n",
       "      <td>12</td>\n",
       "    </tr>\n",
       "    <tr>\n",
       "      <th>37</th>\n",
       "      <td>PG Pathak</td>\n",
       "      <td>11</td>\n",
       "    </tr>\n",
       "    <tr>\n",
       "      <th>55</th>\n",
       "      <td>UV Gandhe</td>\n",
       "      <td>8</td>\n",
       "    </tr>\n",
       "    <tr>\n",
       "      <th>13</th>\n",
       "      <td>SJ Davis</td>\n",
       "      <td>7</td>\n",
       "    </tr>\n",
       "    <tr>\n",
       "      <th>50</th>\n",
       "      <td>GAV Baxter</td>\n",
       "      <td>7</td>\n",
       "    </tr>\n",
       "    <tr>\n",
       "      <th>51</th>\n",
       "      <td>RM Deshpande</td>\n",
       "      <td>7</td>\n",
       "    </tr>\n",
       "    <tr>\n",
       "      <th>40</th>\n",
       "      <td>SD Fry</td>\n",
       "      <td>6</td>\n",
       "    </tr>\n",
       "    <tr>\n",
       "      <th>23</th>\n",
       "      <td>AL Hill</td>\n",
       "      <td>6</td>\n",
       "    </tr>\n",
       "    <tr>\n",
       "      <th>9</th>\n",
       "      <td>AV Jayaprakash</td>\n",
       "      <td>6</td>\n",
       "    </tr>\n",
       "    <tr>\n",
       "      <th>10</th>\n",
       "      <td>I Shivram</td>\n",
       "      <td>6</td>\n",
       "    </tr>\n",
       "    <tr>\n",
       "      <th>46</th>\n",
       "      <td>IJ Gould</td>\n",
       "      <td>6</td>\n",
       "    </tr>\n",
       "    <tr>\n",
       "      <th>2</th>\n",
       "      <td>GA Pratapkumar</td>\n",
       "      <td>6</td>\n",
       "    </tr>\n",
       "    <tr>\n",
       "      <th>39</th>\n",
       "      <td>K Srinivasan</td>\n",
       "      <td>6</td>\n",
       "    </tr>\n",
       "    <tr>\n",
       "      <th>17</th>\n",
       "      <td>TH Wijewardene</td>\n",
       "      <td>5</td>\n",
       "    </tr>\n",
       "    <tr>\n",
       "      <th>52</th>\n",
       "      <td>K Bharatan</td>\n",
       "      <td>3</td>\n",
       "    </tr>\n",
       "    <tr>\n",
       "      <th>14</th>\n",
       "      <td>SD Ranade</td>\n",
       "      <td>2</td>\n",
       "    </tr>\n",
       "    <tr>\n",
       "      <th>33</th>\n",
       "      <td>Subroto Das</td>\n",
       "      <td>1</td>\n",
       "    </tr>\n",
       "  </tbody>\n",
       "</table>\n",
       "</div>"
      ],
      "text/plain": [
       "                   Umpire  No. of Matches\n",
       "19                 S Ravi             121\n",
       "20        HDPK Dharmasena              94\n",
       "31           AK Chaudhary              87\n",
       "30          C Shamshuddin              82\n",
       "16              M Erasmus              65\n",
       "43            Nitin Menon              57\n",
       "34              CK Nandan              57\n",
       "15             SJA Taufel              55\n",
       "47              Asad Rauf              51\n",
       "25            VA Kulkarni              50\n",
       "27           BNJ Oxenford              48\n",
       "38            CB Gaffaney              47\n",
       "24              RJ Tucker              46\n",
       "11            BR Doctrove              42\n",
       "0             RE Koertzen              41\n",
       "48              Aleem Dar              38\n",
       "35               NJ Llong              37\n",
       "49              BF Bowden              37\n",
       "54  KN Ananthapadmanabhan              33\n",
       "36         RK Illingworth              31\n",
       "18            SK Tarapore              31\n",
       "28               S Asnani              30\n",
       "5               RB Tiffin              30\n",
       "53            AY Dandekar              28\n",
       "3               DJ Harper              27\n",
       "41              VK Sharma              26\n",
       "6               AM Saheba              26\n",
       "42         A Nand Kishore              25\n",
       "22             PR Reiffel              24\n",
       "4             K Hariharan              21\n",
       "45               YC Barde              19\n",
       "26              JD Cloete              17\n",
       "21              SS Hazare              17\n",
       "12             BG Jerling              17\n",
       "29                  S Das              15\n",
       "32              K Srinath              15\n",
       "1              SL Shastri              14\n",
       "8               IL Howell              14\n",
       "44             A Deshmukh              12\n",
       "7               MR Benson              12\n",
       "37              PG Pathak              11\n",
       "55              UV Gandhe               8\n",
       "13               SJ Davis               7\n",
       "50             GAV Baxter               7\n",
       "51           RM Deshpande               7\n",
       "40                 SD Fry               6\n",
       "23                AL Hill               6\n",
       "9          AV Jayaprakash               6\n",
       "10              I Shivram               6\n",
       "46               IJ Gould               6\n",
       "2          GA Pratapkumar               6\n",
       "39           K Srinivasan               6\n",
       "17         TH Wijewardene               5\n",
       "52             K Bharatan               3\n",
       "14              SD Ranade               2\n",
       "33            Subroto Das               1"
      ]
     },
     "execution_count": 113,
     "metadata": {},
     "output_type": "execute_result"
    }
   ],
   "source": [
    "# Finding the umpire who has umpired the most\n",
    "\n",
    "lst_u = umpire.items()\n",
    "df_umpire = pd.DataFrame(lst_u, columns = ['Umpire', 'No. of Matches'])\n",
    "df_umpire.sort_values(by = 'No. of Matches', ascending = False)"
   ]
  },
  {
   "cell_type": "markdown",
   "id": "70eba436",
   "metadata": {},
   "source": [
    "### 5. Which team has won the most tosses ?"
   ]
  },
  {
   "cell_type": "code",
   "execution_count": 107,
   "id": "ffddeb55",
   "metadata": {},
   "outputs": [],
   "source": [
    "# Finding all the teams in the Data frame\n",
    "\n",
    "toss_winner = {}\n",
    "\n",
    "for i in df_m.values:\n",
    "    if i[8] not in toss_winner:\n",
    "        toss_winner[i[8]] = 0"
   ]
  },
  {
   "cell_type": "code",
   "execution_count": 111,
   "id": "86e44b6a",
   "metadata": {},
   "outputs": [],
   "source": [
    "# Finding the number of tosses won by each team\n",
    "\n",
    "for i in toss_winner.keys():\n",
    "    c = 0\n",
    "    for j in df_m.values:\n",
    "        if i == j[8]:\n",
    "            c += 1\n",
    "    toss_winner[i] = c"
   ]
  },
  {
   "cell_type": "code",
   "execution_count": 118,
   "id": "70004065",
   "metadata": {},
   "outputs": [
    {
     "data": {
      "text/html": [
       "<div>\n",
       "<style scoped>\n",
       "    .dataframe tbody tr th:only-of-type {\n",
       "        vertical-align: middle;\n",
       "    }\n",
       "\n",
       "    .dataframe tbody tr th {\n",
       "        vertical-align: top;\n",
       "    }\n",
       "\n",
       "    .dataframe thead th {\n",
       "        text-align: right;\n",
       "    }\n",
       "</style>\n",
       "<table border=\"1\" class=\"dataframe\">\n",
       "  <thead>\n",
       "    <tr style=\"text-align: right;\">\n",
       "      <th></th>\n",
       "      <th>Team</th>\n",
       "      <th>No. of tosses won</th>\n",
       "    </tr>\n",
       "  </thead>\n",
       "  <tbody>\n",
       "    <tr>\n",
       "      <th>3</th>\n",
       "      <td>Mumbai Indians</td>\n",
       "      <td>106</td>\n",
       "    </tr>\n",
       "    <tr>\n",
       "      <th>6</th>\n",
       "      <td>Kolkata Knight Riders</td>\n",
       "      <td>98</td>\n",
       "    </tr>\n",
       "    <tr>\n",
       "      <th>1</th>\n",
       "      <td>Chennai Super Kings</td>\n",
       "      <td>97</td>\n",
       "    </tr>\n",
       "    <tr>\n",
       "      <th>0</th>\n",
       "      <td>Royal Challengers Bangalore</td>\n",
       "      <td>87</td>\n",
       "    </tr>\n",
       "    <tr>\n",
       "      <th>2</th>\n",
       "      <td>Rajasthan Royals</td>\n",
       "      <td>87</td>\n",
       "    </tr>\n",
       "    <tr>\n",
       "      <th>5</th>\n",
       "      <td>Kings XI Punjab</td>\n",
       "      <td>85</td>\n",
       "    </tr>\n",
       "    <tr>\n",
       "      <th>7</th>\n",
       "      <td>Delhi Daredevils</td>\n",
       "      <td>80</td>\n",
       "    </tr>\n",
       "    <tr>\n",
       "      <th>10</th>\n",
       "      <td>Sunrisers Hyderabad</td>\n",
       "      <td>57</td>\n",
       "    </tr>\n",
       "    <tr>\n",
       "      <th>4</th>\n",
       "      <td>Deccan Chargers</td>\n",
       "      <td>43</td>\n",
       "    </tr>\n",
       "    <tr>\n",
       "      <th>9</th>\n",
       "      <td>Pune Warriors</td>\n",
       "      <td>20</td>\n",
       "    </tr>\n",
       "    <tr>\n",
       "      <th>14</th>\n",
       "      <td>Delhi Capitals</td>\n",
       "      <td>20</td>\n",
       "    </tr>\n",
       "    <tr>\n",
       "      <th>11</th>\n",
       "      <td>Gujarat Lions</td>\n",
       "      <td>15</td>\n",
       "    </tr>\n",
       "    <tr>\n",
       "      <th>8</th>\n",
       "      <td>Kochi Tuskers Kerala</td>\n",
       "      <td>8</td>\n",
       "    </tr>\n",
       "    <tr>\n",
       "      <th>12</th>\n",
       "      <td>Rising Pune Supergiants</td>\n",
       "      <td>7</td>\n",
       "    </tr>\n",
       "    <tr>\n",
       "      <th>13</th>\n",
       "      <td>Rising Pune Supergiant</td>\n",
       "      <td>6</td>\n",
       "    </tr>\n",
       "  </tbody>\n",
       "</table>\n",
       "</div>"
      ],
      "text/plain": [
       "                           Team  No. of tosses won\n",
       "3                Mumbai Indians                106\n",
       "6         Kolkata Knight Riders                 98\n",
       "1           Chennai Super Kings                 97\n",
       "0   Royal Challengers Bangalore                 87\n",
       "2              Rajasthan Royals                 87\n",
       "5               Kings XI Punjab                 85\n",
       "7              Delhi Daredevils                 80\n",
       "10          Sunrisers Hyderabad                 57\n",
       "4               Deccan Chargers                 43\n",
       "9                 Pune Warriors                 20\n",
       "14               Delhi Capitals                 20\n",
       "11                Gujarat Lions                 15\n",
       "8          Kochi Tuskers Kerala                  8\n",
       "12      Rising Pune Supergiants                  7\n",
       "13       Rising Pune Supergiant                  6"
      ]
     },
     "execution_count": 118,
     "metadata": {},
     "output_type": "execute_result"
    }
   ],
   "source": [
    "# Finding which team has won the most tosses\n",
    "\n",
    "lst_t = toss_winner.items()\n",
    "df_toss_winner = pd.DataFrame(lst_t, columns = ['Team', 'No. of tosses won'])\n",
    "df_toss_winner.sort_values(by = 'No. of tosses won', ascending = False)"
   ]
  },
  {
   "cell_type": "code",
   "execution_count": 117,
   "id": "6aea666b",
   "metadata": {},
   "outputs": [
    {
     "data": {
      "image/png": "[encoded data removed]",
      "text/plain": [
       "<Figure size 3000x500 with 1 Axes>"
      ]
     },
     "metadata": {},
     "output_type": "display_data"
    }
   ],
   "source": [
    "# Visualizing the no. of tosses won by each team.\n",
    "\n",
    "x = toss_winner.keys()\n",
    "y = toss_winner.values()\n",
    "\n",
    "fig = plt.figure(figsize = (30,5))\n",
    "\n",
    "plt.bar(x,y, color = 'blue', width =0.4)\n",
    "\n",
    "plt.xlabel('Teams')\n",
    "plt.ylabel('Tosses won')\n",
    "plt.title('No.Tosses won by every team')\n",
    "\n",
    "plt.show()"
   ]
  },
  {
   "cell_type": "markdown",
   "id": "8d29c191",
   "metadata": {},
   "source": [
    "### 6. What does the team decide after winning the toss ?"
   ]
  },
  {
   "cell_type": "code",
   "execution_count": 120,
   "id": "a883b4f3",
   "metadata": {},
   "outputs": [],
   "source": [
    "# finding the decisions made after a toss.\n",
    "\n",
    "toss_des = {}\n",
    "\n",
    "for i in df_m.values:\n",
    "    if i[9] not in toss_winner:\n",
    "        toss_des[i[9]] = 0"
   ]
  },
  {
   "cell_type": "code",
   "execution_count": 122,
   "id": "4bc0e24a",
   "metadata": {},
   "outputs": [],
   "source": [
    "# Finding which decision was made after winning the toss\n",
    "\n",
    "for i in toss_des.keys():\n",
    "    c = 0\n",
    "    for j in df_m.values:\n",
    "        if i == j[9]:\n",
    "            c += 1\n",
    "    toss_des[i] = c"
   ]
  },
  {
   "cell_type": "code",
   "execution_count": 124,
   "id": "ea5918f4",
   "metadata": {},
   "outputs": [
    {
     "data": {
      "text/plain": [
       "{'field': 496, 'bat': 320}"
      ]
     },
     "execution_count": 124,
     "metadata": {},
     "output_type": "execute_result"
    }
   ],
   "source": [
    "toss_des"
   ]
  },
  {
   "cell_type": "code",
   "execution_count": 126,
   "id": "917153f0",
   "metadata": {},
   "outputs": [
    {
     "data": {
      "image/png": "[encoded data removed]",
      "text/plain": [
       "<Figure size 1000x500 with 1 Axes>"
      ]
     },
     "metadata": {},
     "output_type": "display_data"
    }
   ],
   "source": [
    "# Visualizing the decision made after the toss was won.\n",
    "\n",
    "x = toss_des.keys()\n",
    "y = toss_des.values()\n",
    "\n",
    "fig = plt.figure(figsize = (10,5))\n",
    "\n",
    "plt.bar(x,y, color = 'blue', width =0.4)\n",
    "\n",
    "plt.xlabel('Desicion')\n",
    "plt.ylabel('No. of time taken')\n",
    "plt.title('No.of decision taken after winning the toss')\n",
    "\n",
    "plt.show()"
   ]
  },
  {
   "cell_type": "markdown",
   "id": "b3c6d6cb",
   "metadata": {},
   "source": [
    "### 7. Does winning the toss imply winning the game ?"
   ]
  },
  {
   "cell_type": "markdown",
   "id": "e41d9d91",
   "metadata": {},
   "source": [
    "To understand the relation between winning the toss and winning the match we need to find the correlation between the two variables."
   ]
  },
  {
   "cell_type": "code",
   "execution_count": 150,
   "id": "507173f7",
   "metadata": {},
   "outputs": [],
   "source": [
    "# Converting the string datatype into integer in toss winner and winner column.\n",
    "df_m1 = pd.read_csv('IPL Matches 2008-2020.csv')\n",
    "\n",
    "df_m1['toss_winner'] = df_m1['toss_winner'].astype('category').cat.codes\n",
    "df_m1['winner']      = df_m1['winner'].astype('category').cat.codes"
   ]
  },
  {
   "cell_type": "code",
   "execution_count": 151,
   "id": "02c43e31",
   "metadata": {},
   "outputs": [
    {
     "name": "stdout",
     "output_type": "stream",
     "text": [
      "0.47\n"
     ]
    }
   ],
   "source": [
    "# finding the correlation between them.\n",
    "\n",
    "corr_win = df_m1['toss_winner'].corr(df_m1['winner'])\n",
    "print(round(corr_win,2))"
   ]
  },
  {
   "cell_type": "markdown",
   "id": "7b8d7454",
   "metadata": {},
   "source": [
    "Thus, we see a moderate positive correlation between winning the toss and winning the match."
   ]
  },
  {
   "cell_type": "markdown",
   "id": "462006c1",
   "metadata": {},
   "source": [
    "### 8. How many times has the chasing team won the match ?"
   ]
  },
  {
   "cell_type": "markdown",
   "id": "21f78245",
   "metadata": {},
   "source": [
    "To find how many times the chasing team has won the match we need to find the total matches which has df_m['result'] as wickets."
   ]
  },
  {
   "cell_type": "code",
   "execution_count": 144,
   "id": "5e1660ba",
   "metadata": {},
   "outputs": [
    {
     "name": "stdout",
     "output_type": "stream",
     "text": [
      "435\n",
      "That is 53.31 % of the total 816 matches\n"
     ]
    }
   ],
   "source": [
    "chase_win = 0\n",
    "\n",
    "for i in df_m['result']:\n",
    "    if i == 'wickets':\n",
    "        chase_win += 1\n",
    "        \n",
    "print(chase_win)\n",
    "\n",
    "print('That is', round(chase_win/len(df_m)*100, 2), '% of the total',len(df_m), 'matches')"
   ]
  },
  {
   "cell_type": "markdown",
   "id": "02ef9eb2",
   "metadata": {},
   "source": [
    "### 9. Which team has played the most number of matches?"
   ]
  },
  {
   "cell_type": "code",
   "execution_count": 255,
   "id": "021d0929",
   "metadata": {},
   "outputs": [],
   "source": [
    "#finding the no. of teams\n",
    "\n",
    "most_matches = {}\n",
    "\n",
    "for j in (6,7):\n",
    "    for i in df_m.values:\n",
    "        if i[j] not in most_matches:\n",
    "            most_matches[i[j]] = 0"
   ]
  },
  {
   "cell_type": "code",
   "execution_count": 156,
   "id": "3c74e76c",
   "metadata": {},
   "outputs": [],
   "source": [
    "#finding the number of matches played by each team\n",
    "\n",
    "for i in most_matches.keys():\n",
    "    c = 0\n",
    "    for j in (6,7):\n",
    "        for k in df_m.values:\n",
    "            if i == k[j]:\n",
    "                c += 1\n",
    "    most_matches[i] = c"
   ]
  },
  {
   "cell_type": "code",
   "execution_count": 188,
   "id": "499402fb",
   "metadata": {},
   "outputs": [
    {
     "data": {
      "text/html": [
       "<div>\n",
       "<style scoped>\n",
       "    .dataframe tbody tr th:only-of-type {\n",
       "        vertical-align: middle;\n",
       "    }\n",
       "\n",
       "    .dataframe tbody tr th {\n",
       "        vertical-align: top;\n",
       "    }\n",
       "\n",
       "    .dataframe thead th {\n",
       "        text-align: right;\n",
       "    }\n",
       "</style>\n",
       "<table border=\"1\" class=\"dataframe\">\n",
       "  <thead>\n",
       "    <tr style=\"text-align: right;\">\n",
       "      <th></th>\n",
       "      <th>Team</th>\n",
       "      <th>No. of matches played</th>\n",
       "    </tr>\n",
       "  </thead>\n",
       "  <tbody>\n",
       "    <tr>\n",
       "      <th>3</th>\n",
       "      <td>Mumbai Indians</td>\n",
       "      <td>203</td>\n",
       "    </tr>\n",
       "    <tr>\n",
       "      <th>0</th>\n",
       "      <td>Royal Challengers Bangalore</td>\n",
       "      <td>195</td>\n",
       "    </tr>\n",
       "    <tr>\n",
       "      <th>4</th>\n",
       "      <td>Kolkata Knight Riders</td>\n",
       "      <td>192</td>\n",
       "    </tr>\n",
       "    <tr>\n",
       "      <th>1</th>\n",
       "      <td>Kings XI Punjab</td>\n",
       "      <td>190</td>\n",
       "    </tr>\n",
       "    <tr>\n",
       "      <th>7</th>\n",
       "      <td>Chennai Super Kings</td>\n",
       "      <td>178</td>\n",
       "    </tr>\n",
       "    <tr>\n",
       "      <th>2</th>\n",
       "      <td>Delhi Daredevils</td>\n",
       "      <td>161</td>\n",
       "    </tr>\n",
       "    <tr>\n",
       "      <th>5</th>\n",
       "      <td>Rajasthan Royals</td>\n",
       "      <td>161</td>\n",
       "    </tr>\n",
       "    <tr>\n",
       "      <th>10</th>\n",
       "      <td>Sunrisers Hyderabad</td>\n",
       "      <td>124</td>\n",
       "    </tr>\n",
       "    <tr>\n",
       "      <th>6</th>\n",
       "      <td>Deccan Chargers</td>\n",
       "      <td>75</td>\n",
       "    </tr>\n",
       "    <tr>\n",
       "      <th>9</th>\n",
       "      <td>Pune Warriors</td>\n",
       "      <td>46</td>\n",
       "    </tr>\n",
       "    <tr>\n",
       "      <th>14</th>\n",
       "      <td>Delhi Capitals</td>\n",
       "      <td>33</td>\n",
       "    </tr>\n",
       "    <tr>\n",
       "      <th>11</th>\n",
       "      <td>Gujarat Lions</td>\n",
       "      <td>30</td>\n",
       "    </tr>\n",
       "    <tr>\n",
       "      <th>13</th>\n",
       "      <td>Rising Pune Supergiant</td>\n",
       "      <td>16</td>\n",
       "    </tr>\n",
       "    <tr>\n",
       "      <th>8</th>\n",
       "      <td>Kochi Tuskers Kerala</td>\n",
       "      <td>14</td>\n",
       "    </tr>\n",
       "    <tr>\n",
       "      <th>12</th>\n",
       "      <td>Rising Pune Supergiants</td>\n",
       "      <td>14</td>\n",
       "    </tr>\n",
       "  </tbody>\n",
       "</table>\n",
       "</div>"
      ],
      "text/plain": [
       "                           Team  No. of matches played\n",
       "3                Mumbai Indians                    203\n",
       "0   Royal Challengers Bangalore                    195\n",
       "4         Kolkata Knight Riders                    192\n",
       "1               Kings XI Punjab                    190\n",
       "7           Chennai Super Kings                    178\n",
       "2              Delhi Daredevils                    161\n",
       "5              Rajasthan Royals                    161\n",
       "10          Sunrisers Hyderabad                    124\n",
       "6               Deccan Chargers                     75\n",
       "9                 Pune Warriors                     46\n",
       "14               Delhi Capitals                     33\n",
       "11                Gujarat Lions                     30\n",
       "13       Rising Pune Supergiant                     16\n",
       "8          Kochi Tuskers Kerala                     14\n",
       "12      Rising Pune Supergiants                     14"
      ]
     },
     "execution_count": 188,
     "metadata": {},
     "output_type": "execute_result"
    }
   ],
   "source": [
    "#finding the team which played the most matches.\n",
    "\n",
    "lst_m = most_matches.items()\n",
    "df_most_matches = pd.DataFrame(lst_m, columns = ['Team', 'No. of matches played'])\n",
    "df_most_matches.sort_values(by = 'No. of matches played', ascending = False)"
   ]
  },
  {
   "cell_type": "markdown",
   "id": "689f1f2f",
   "metadata": {},
   "source": [
    "Thus, we found out mumbai indians has played the most matches."
   ]
  },
  {
   "cell_type": "markdown",
   "id": "638adc59",
   "metadata": {},
   "source": [
    "### 10. Which team has won the most number of times?"
   ]
  },
  {
   "cell_type": "code",
   "execution_count": 189,
   "id": "6d37ac18",
   "metadata": {},
   "outputs": [],
   "source": [
    "#finding the number of times each team has won.\n",
    "\n",
    "most_wins = {}\n",
    "\n",
    "for i in most_matches.keys():\n",
    "    c=0\n",
    "    for j in df_m.values:\n",
    "        if (i) == (j[10]):\n",
    "            c +=1\n",
    "    \n",
    "    most_wins[(i)] = c"
   ]
  },
  {
   "cell_type": "code",
   "execution_count": 190,
   "id": "136a563c",
   "metadata": {},
   "outputs": [
    {
     "data": {
      "text/html": [
       "<div>\n",
       "<style scoped>\n",
       "    .dataframe tbody tr th:only-of-type {\n",
       "        vertical-align: middle;\n",
       "    }\n",
       "\n",
       "    .dataframe tbody tr th {\n",
       "        vertical-align: top;\n",
       "    }\n",
       "\n",
       "    .dataframe thead th {\n",
       "        text-align: right;\n",
       "    }\n",
       "</style>\n",
       "<table border=\"1\" class=\"dataframe\">\n",
       "  <thead>\n",
       "    <tr style=\"text-align: right;\">\n",
       "      <th></th>\n",
       "      <th>Team</th>\n",
       "      <th>No. of times won</th>\n",
       "    </tr>\n",
       "  </thead>\n",
       "  <tbody>\n",
       "    <tr>\n",
       "      <th>3</th>\n",
       "      <td>Mumbai Indians</td>\n",
       "      <td>120</td>\n",
       "    </tr>\n",
       "    <tr>\n",
       "      <th>7</th>\n",
       "      <td>Chennai Super Kings</td>\n",
       "      <td>106</td>\n",
       "    </tr>\n",
       "    <tr>\n",
       "      <th>4</th>\n",
       "      <td>Kolkata Knight Riders</td>\n",
       "      <td>99</td>\n",
       "    </tr>\n",
       "    <tr>\n",
       "      <th>0</th>\n",
       "      <td>Royal Challengers Bangalore</td>\n",
       "      <td>91</td>\n",
       "    </tr>\n",
       "    <tr>\n",
       "      <th>1</th>\n",
       "      <td>Kings XI Punjab</td>\n",
       "      <td>88</td>\n",
       "    </tr>\n",
       "    <tr>\n",
       "      <th>5</th>\n",
       "      <td>Rajasthan Royals</td>\n",
       "      <td>81</td>\n",
       "    </tr>\n",
       "    <tr>\n",
       "      <th>2</th>\n",
       "      <td>Delhi Daredevils</td>\n",
       "      <td>67</td>\n",
       "    </tr>\n",
       "    <tr>\n",
       "      <th>10</th>\n",
       "      <td>Sunrisers Hyderabad</td>\n",
       "      <td>66</td>\n",
       "    </tr>\n",
       "    <tr>\n",
       "      <th>6</th>\n",
       "      <td>Deccan Chargers</td>\n",
       "      <td>29</td>\n",
       "    </tr>\n",
       "    <tr>\n",
       "      <th>14</th>\n",
       "      <td>Delhi Capitals</td>\n",
       "      <td>19</td>\n",
       "    </tr>\n",
       "    <tr>\n",
       "      <th>11</th>\n",
       "      <td>Gujarat Lions</td>\n",
       "      <td>13</td>\n",
       "    </tr>\n",
       "    <tr>\n",
       "      <th>9</th>\n",
       "      <td>Pune Warriors</td>\n",
       "      <td>12</td>\n",
       "    </tr>\n",
       "    <tr>\n",
       "      <th>13</th>\n",
       "      <td>Rising Pune Supergiant</td>\n",
       "      <td>10</td>\n",
       "    </tr>\n",
       "    <tr>\n",
       "      <th>8</th>\n",
       "      <td>Kochi Tuskers Kerala</td>\n",
       "      <td>6</td>\n",
       "    </tr>\n",
       "    <tr>\n",
       "      <th>12</th>\n",
       "      <td>Rising Pune Supergiants</td>\n",
       "      <td>5</td>\n",
       "    </tr>\n",
       "  </tbody>\n",
       "</table>\n",
       "</div>"
      ],
      "text/plain": [
       "                           Team  No. of times won\n",
       "3                Mumbai Indians               120\n",
       "7           Chennai Super Kings               106\n",
       "4         Kolkata Knight Riders                99\n",
       "0   Royal Challengers Bangalore                91\n",
       "1               Kings XI Punjab                88\n",
       "5              Rajasthan Royals                81\n",
       "2              Delhi Daredevils                67\n",
       "10          Sunrisers Hyderabad                66\n",
       "6               Deccan Chargers                29\n",
       "14               Delhi Capitals                19\n",
       "11                Gujarat Lions                13\n",
       "9                 Pune Warriors                12\n",
       "13       Rising Pune Supergiant                10\n",
       "8          Kochi Tuskers Kerala                 6\n",
       "12      Rising Pune Supergiants                 5"
      ]
     },
     "execution_count": 190,
     "metadata": {},
     "output_type": "execute_result"
    }
   ],
   "source": [
    "#Finding which team has won the most.\n",
    "\n",
    "lst_mw = most_wins.items()\n",
    "df_most_wins = pd.DataFrame(lst_mw, columns = ['Team', 'No. of times won'])\n",
    "df_most_wins.sort_values(by = 'No. of times won', ascending = False)"
   ]
  },
  {
   "cell_type": "markdown",
   "id": "d8cd12e3",
   "metadata": {},
   "source": [
    "Mumbai Indians have won the most matches that is 120 matches"
   ]
  },
  {
   "cell_type": "markdown",
   "id": "bee7666f",
   "metadata": {},
   "source": [
    "### 11. Which team has the highest winning percentage?"
   ]
  },
  {
   "cell_type": "code",
   "execution_count": 191,
   "id": "98a370be",
   "metadata": {},
   "outputs": [],
   "source": [
    "#To find the highest winning percentage we simply divide the teams no.of wins to no. of matches played.\n",
    "\n",
    "win_perc = {}\n",
    "\n",
    "for i in most_wins.keys():\n",
    "    win_perc[i]= round(most_wins[i]/most_matches[i]*100,2)"
   ]
  },
  {
   "cell_type": "code",
   "execution_count": 192,
   "id": "be0f4bd4",
   "metadata": {},
   "outputs": [
    {
     "data": {
      "text/html": [
       "<div>\n",
       "<style scoped>\n",
       "    .dataframe tbody tr th:only-of-type {\n",
       "        vertical-align: middle;\n",
       "    }\n",
       "\n",
       "    .dataframe tbody tr th {\n",
       "        vertical-align: top;\n",
       "    }\n",
       "\n",
       "    .dataframe thead th {\n",
       "        text-align: right;\n",
       "    }\n",
       "</style>\n",
       "<table border=\"1\" class=\"dataframe\">\n",
       "  <thead>\n",
       "    <tr style=\"text-align: right;\">\n",
       "      <th></th>\n",
       "      <th>Team</th>\n",
       "      <th>Win Percentage</th>\n",
       "    </tr>\n",
       "  </thead>\n",
       "  <tbody>\n",
       "    <tr>\n",
       "      <th>13</th>\n",
       "      <td>Rising Pune Supergiant</td>\n",
       "      <td>62.50</td>\n",
       "    </tr>\n",
       "    <tr>\n",
       "      <th>7</th>\n",
       "      <td>Chennai Super Kings</td>\n",
       "      <td>59.55</td>\n",
       "    </tr>\n",
       "    <tr>\n",
       "      <th>3</th>\n",
       "      <td>Mumbai Indians</td>\n",
       "      <td>59.11</td>\n",
       "    </tr>\n",
       "    <tr>\n",
       "      <th>14</th>\n",
       "      <td>Delhi Capitals</td>\n",
       "      <td>57.58</td>\n",
       "    </tr>\n",
       "    <tr>\n",
       "      <th>10</th>\n",
       "      <td>Sunrisers Hyderabad</td>\n",
       "      <td>53.23</td>\n",
       "    </tr>\n",
       "    <tr>\n",
       "      <th>4</th>\n",
       "      <td>Kolkata Knight Riders</td>\n",
       "      <td>51.56</td>\n",
       "    </tr>\n",
       "    <tr>\n",
       "      <th>5</th>\n",
       "      <td>Rajasthan Royals</td>\n",
       "      <td>50.31</td>\n",
       "    </tr>\n",
       "    <tr>\n",
       "      <th>0</th>\n",
       "      <td>Royal Challengers Bangalore</td>\n",
       "      <td>46.67</td>\n",
       "    </tr>\n",
       "    <tr>\n",
       "      <th>1</th>\n",
       "      <td>Kings XI Punjab</td>\n",
       "      <td>46.32</td>\n",
       "    </tr>\n",
       "    <tr>\n",
       "      <th>11</th>\n",
       "      <td>Gujarat Lions</td>\n",
       "      <td>43.33</td>\n",
       "    </tr>\n",
       "    <tr>\n",
       "      <th>8</th>\n",
       "      <td>Kochi Tuskers Kerala</td>\n",
       "      <td>42.86</td>\n",
       "    </tr>\n",
       "    <tr>\n",
       "      <th>2</th>\n",
       "      <td>Delhi Daredevils</td>\n",
       "      <td>41.61</td>\n",
       "    </tr>\n",
       "    <tr>\n",
       "      <th>6</th>\n",
       "      <td>Deccan Chargers</td>\n",
       "      <td>38.67</td>\n",
       "    </tr>\n",
       "    <tr>\n",
       "      <th>12</th>\n",
       "      <td>Rising Pune Supergiants</td>\n",
       "      <td>35.71</td>\n",
       "    </tr>\n",
       "    <tr>\n",
       "      <th>9</th>\n",
       "      <td>Pune Warriors</td>\n",
       "      <td>26.09</td>\n",
       "    </tr>\n",
       "  </tbody>\n",
       "</table>\n",
       "</div>"
      ],
      "text/plain": [
       "                           Team  Win Percentage\n",
       "13       Rising Pune Supergiant           62.50\n",
       "7           Chennai Super Kings           59.55\n",
       "3                Mumbai Indians           59.11\n",
       "14               Delhi Capitals           57.58\n",
       "10          Sunrisers Hyderabad           53.23\n",
       "4         Kolkata Knight Riders           51.56\n",
       "5              Rajasthan Royals           50.31\n",
       "0   Royal Challengers Bangalore           46.67\n",
       "1               Kings XI Punjab           46.32\n",
       "11                Gujarat Lions           43.33\n",
       "8          Kochi Tuskers Kerala           42.86\n",
       "2              Delhi Daredevils           41.61\n",
       "6               Deccan Chargers           38.67\n",
       "12      Rising Pune Supergiants           35.71\n",
       "9                 Pune Warriors           26.09"
      ]
     },
     "execution_count": 192,
     "metadata": {},
     "output_type": "execute_result"
    }
   ],
   "source": [
    "#finding the team with the highest percentage.\n",
    "\n",
    "lst_wp = win_perc.items()\n",
    "df_win_perc = pd.DataFrame(lst_wp, columns = ['Team', 'Win Percentage'])\n",
    "df_win_perc.sort_values(by = 'Win Percentage', ascending = False)"
   ]
  },
  {
   "cell_type": "markdown",
   "id": "7418252b",
   "metadata": {},
   "source": [
    "Thus, we can see that rising pune super giants has the highest win percentage."
   ]
  },
  {
   "cell_type": "markdown",
   "id": "f00ecda8",
   "metadata": {},
   "source": [
    "### 12. Which is the biggest win in terms of run_margin"
   ]
  },
  {
   "cell_type": "code",
   "execution_count": 194,
   "id": "4de795a4",
   "metadata": {},
   "outputs": [
    {
     "data": {
      "text/html": [
       "<div>\n",
       "<style scoped>\n",
       "    .dataframe tbody tr th:only-of-type {\n",
       "        vertical-align: middle;\n",
       "    }\n",
       "\n",
       "    .dataframe tbody tr th {\n",
       "        vertical-align: top;\n",
       "    }\n",
       "\n",
       "    .dataframe thead th {\n",
       "        text-align: right;\n",
       "    }\n",
       "</style>\n",
       "<table border=\"1\" class=\"dataframe\">\n",
       "  <thead>\n",
       "    <tr style=\"text-align: right;\">\n",
       "      <th></th>\n",
       "      <th>id</th>\n",
       "      <th>city</th>\n",
       "      <th>date</th>\n",
       "      <th>player_of_match</th>\n",
       "      <th>venue</th>\n",
       "      <th>neutral_venue</th>\n",
       "      <th>team1</th>\n",
       "      <th>team2</th>\n",
       "      <th>toss_winner</th>\n",
       "      <th>toss_decision</th>\n",
       "      <th>winner</th>\n",
       "      <th>result</th>\n",
       "      <th>result_margin</th>\n",
       "      <th>eliminator</th>\n",
       "      <th>method</th>\n",
       "      <th>umpire1</th>\n",
       "      <th>umpire2</th>\n",
       "    </tr>\n",
       "  </thead>\n",
       "  <tbody>\n",
       "    <tr>\n",
       "      <th>620</th>\n",
       "      <td>1082635</td>\n",
       "      <td>Delhi</td>\n",
       "      <td>2017-05-06</td>\n",
       "      <td>LMP Simmons</td>\n",
       "      <td>Feroz Shah Kotla</td>\n",
       "      <td>0</td>\n",
       "      <td>Delhi Daredevils</td>\n",
       "      <td>Mumbai Indians</td>\n",
       "      <td>Delhi Daredevils</td>\n",
       "      <td>field</td>\n",
       "      <td>Mumbai Indians</td>\n",
       "      <td>runs</td>\n",
       "      <td>146.0</td>\n",
       "      <td>N</td>\n",
       "      <td>NaN</td>\n",
       "      <td>Nitin Menon</td>\n",
       "      <td>CK Nandan</td>\n",
       "    </tr>\n",
       "  </tbody>\n",
       "</table>\n",
       "</div>"
      ],
      "text/plain": [
       "          id   city        date player_of_match             venue  \\\n",
       "620  1082635  Delhi  2017-05-06     LMP Simmons  Feroz Shah Kotla   \n",
       "\n",
       "     neutral_venue             team1           team2       toss_winner  \\\n",
       "620              0  Delhi Daredevils  Mumbai Indians  Delhi Daredevils   \n",
       "\n",
       "    toss_decision          winner result  result_margin eliminator method  \\\n",
       "620         field  Mumbai Indians   runs          146.0          N    NaN   \n",
       "\n",
       "         umpire1    umpire2  \n",
       "620  Nitin Menon  CK Nandan  "
      ]
     },
     "execution_count": 194,
     "metadata": {},
     "output_type": "execute_result"
    }
   ],
   "source": [
    "df_m.sort_values(by = 'result_margin', ascending = False).head(1)"
   ]
  },
  {
   "cell_type": "markdown",
   "id": "3f73ecc4",
   "metadata": {},
   "source": [
    "The above match is the biggest win in terms of run_margin"
   ]
  },
  {
   "cell_type": "markdown",
   "id": "c738dc32",
   "metadata": {},
   "source": [
    "### 13. Which batsmen has played the most number of balls? "
   ]
  },
  {
   "cell_type": "code",
   "execution_count": 197,
   "id": "759fdaf4",
   "metadata": {},
   "outputs": [],
   "source": [
    "# finding all the batsmen.\n",
    "\n",
    "batsmen = {}\n",
    "\n",
    "for i in df_b.values:\n",
    "    if i[4] not in batsmen:\n",
    "        batsmen[i[4]]=0"
   ]
  },
  {
   "cell_type": "code",
   "execution_count": 201,
   "id": "d24c0396",
   "metadata": {},
   "outputs": [],
   "source": [
    "# finding the number of balls played by each batsmen.\n",
    "\n",
    "for i in batsmen:\n",
    "    c = 0\n",
    "    for j in df_b.values:\n",
    "        if i == j[4]:\n",
    "            c+=1\n",
    "    \n",
    "    batsmen[i] = c"
   ]
  },
  {
   "cell_type": "code",
   "execution_count": 206,
   "id": "d660d91f",
   "metadata": {},
   "outputs": [
    {
     "data": {
      "text/html": [
       "<div>\n",
       "<style scoped>\n",
       "    .dataframe tbody tr th:only-of-type {\n",
       "        vertical-align: middle;\n",
       "    }\n",
       "\n",
       "    .dataframe tbody tr th {\n",
       "        vertical-align: top;\n",
       "    }\n",
       "\n",
       "    .dataframe thead th {\n",
       "        text-align: right;\n",
       "    }\n",
       "</style>\n",
       "<table border=\"1\" class=\"dataframe\">\n",
       "  <thead>\n",
       "    <tr style=\"text-align: right;\">\n",
       "      <th></th>\n",
       "      <th>Batsmen</th>\n",
       "      <th>No. of balls played</th>\n",
       "    </tr>\n",
       "  </thead>\n",
       "  <tbody>\n",
       "    <tr>\n",
       "      <th>15</th>\n",
       "      <td>V Kohli</td>\n",
       "      <td>4609</td>\n",
       "    </tr>\n",
       "    <tr>\n",
       "      <th>31</th>\n",
       "      <td>S Dhawan</td>\n",
       "      <td>4208</td>\n",
       "    </tr>\n",
       "    <tr>\n",
       "      <th>61</th>\n",
       "      <td>RG Sharma</td>\n",
       "      <td>4088</td>\n",
       "    </tr>\n",
       "    <tr>\n",
       "      <th>19</th>\n",
       "      <td>SK Raina</td>\n",
       "      <td>4041</td>\n",
       "    </tr>\n",
       "    <tr>\n",
       "      <th>186</th>\n",
       "      <td>DA Warner</td>\n",
       "      <td>3819</td>\n",
       "    </tr>\n",
       "  </tbody>\n",
       "</table>\n",
       "</div>"
      ],
      "text/plain": [
       "       Batsmen  No. of balls played\n",
       "15     V Kohli                 4609\n",
       "31    S Dhawan                 4208\n",
       "61   RG Sharma                 4088\n",
       "19    SK Raina                 4041\n",
       "186  DA Warner                 3819"
      ]
     },
     "execution_count": 206,
     "metadata": {},
     "output_type": "execute_result"
    }
   ],
   "source": [
    "#Finding the batsmen who has played the most balls.\n",
    "\n",
    "lst_b = batsmen.items()\n",
    "df_mpb = pd.DataFrame(lst_b, columns = ['Batsmen', 'No. of balls played'])\n",
    "df_mpb.sort_values(by = 'No. of balls played', ascending = False).head(5)"
   ]
  },
  {
   "cell_type": "markdown",
   "id": "213f2397",
   "metadata": {},
   "source": [
    "Thus, we see that V Kohli has played the most number of balls in IPL."
   ]
  },
  {
   "cell_type": "markdown",
   "id": "34905a5c",
   "metadata": {},
   "source": [
    "### 14. Who are the leading run scorer of all time?"
   ]
  },
  {
   "cell_type": "code",
   "execution_count": 205,
   "id": "a9ad8497",
   "metadata": {},
   "outputs": [],
   "source": [
    "#finding the total number of runs scored by every batsmen.\n",
    "\n",
    "bats_run = {}\n",
    "\n",
    "for i in batsmen.keys():\n",
    "    c = 0\n",
    "    for j in df_b.values:\n",
    "        if i == j[4]:\n",
    "            c += j[9]\n",
    "    \n",
    "    bats_run[i] = c"
   ]
  },
  {
   "cell_type": "code",
   "execution_count": 207,
   "id": "5478fa97",
   "metadata": {},
   "outputs": [
    {
     "data": {
      "text/html": [
       "<div>\n",
       "<style scoped>\n",
       "    .dataframe tbody tr th:only-of-type {\n",
       "        vertical-align: middle;\n",
       "    }\n",
       "\n",
       "    .dataframe tbody tr th {\n",
       "        vertical-align: top;\n",
       "    }\n",
       "\n",
       "    .dataframe thead th {\n",
       "        text-align: right;\n",
       "    }\n",
       "</style>\n",
       "<table border=\"1\" class=\"dataframe\">\n",
       "  <thead>\n",
       "    <tr style=\"text-align: right;\">\n",
       "      <th></th>\n",
       "      <th>Batsmen</th>\n",
       "      <th>No. of runs</th>\n",
       "    </tr>\n",
       "  </thead>\n",
       "  <tbody>\n",
       "    <tr>\n",
       "      <th>15</th>\n",
       "      <td>V Kohli</td>\n",
       "      <td>6081</td>\n",
       "    </tr>\n",
       "    <tr>\n",
       "      <th>19</th>\n",
       "      <td>SK Raina</td>\n",
       "      <td>5604</td>\n",
       "    </tr>\n",
       "    <tr>\n",
       "      <th>186</th>\n",
       "      <td>DA Warner</td>\n",
       "      <td>5522</td>\n",
       "    </tr>\n",
       "    <tr>\n",
       "      <th>31</th>\n",
       "      <td>S Dhawan</td>\n",
       "      <td>5452</td>\n",
       "    </tr>\n",
       "    <tr>\n",
       "      <th>61</th>\n",
       "      <td>RG Sharma</td>\n",
       "      <td>5394</td>\n",
       "    </tr>\n",
       "  </tbody>\n",
       "</table>\n",
       "</div>"
      ],
      "text/plain": [
       "       Batsmen  No. of runs\n",
       "15     V Kohli         6081\n",
       "19    SK Raina         5604\n",
       "186  DA Warner         5522\n",
       "31    S Dhawan         5452\n",
       "61   RG Sharma         5394"
      ]
     },
     "execution_count": 207,
     "metadata": {},
     "output_type": "execute_result"
    }
   ],
   "source": [
    "#Finding the batsmen who has scored the most.\n",
    "\n",
    "lst_br = bats_run.items()\n",
    "df_br = pd.DataFrame(lst_br, columns = ['Batsmen', 'No. of runs'])\n",
    "df_br.sort_values(by = 'No. of runs', ascending = False).head(5)"
   ]
  },
  {
   "cell_type": "markdown",
   "id": "c78b50b2",
   "metadata": {},
   "source": [
    "Thus, we found that V Kohli has scored the most runs."
   ]
  },
  {
   "cell_type": "markdown",
   "id": "e0dce169",
   "metadata": {},
   "source": [
    "### 15. Which batsmen has scored the most 4's?"
   ]
  },
  {
   "cell_type": "code",
   "execution_count": 210,
   "id": "3ec51840",
   "metadata": {},
   "outputs": [],
   "source": [
    "#finding the no. of fours scored by every batsmen.\n",
    "\n",
    "bats_four = {}\n",
    "\n",
    "for i in batsmen.keys():\n",
    "    c = 0\n",
    "    for j in df_b.values:\n",
    "        if (i == j[4] and j[7] == 4):\n",
    "            c += 1\n",
    "    \n",
    "    bats_four[i] = c"
   ]
  },
  {
   "cell_type": "code",
   "execution_count": 211,
   "id": "28d1926b",
   "metadata": {},
   "outputs": [
    {
     "data": {
      "text/html": [
       "<div>\n",
       "<style scoped>\n",
       "    .dataframe tbody tr th:only-of-type {\n",
       "        vertical-align: middle;\n",
       "    }\n",
       "\n",
       "    .dataframe tbody tr th {\n",
       "        vertical-align: top;\n",
       "    }\n",
       "\n",
       "    .dataframe thead th {\n",
       "        text-align: right;\n",
       "    }\n",
       "</style>\n",
       "<table border=\"1\" class=\"dataframe\">\n",
       "  <thead>\n",
       "    <tr style=\"text-align: right;\">\n",
       "      <th></th>\n",
       "      <th>Batsmen</th>\n",
       "      <th>No. of fours</th>\n",
       "    </tr>\n",
       "  </thead>\n",
       "  <tbody>\n",
       "    <tr>\n",
       "      <th>31</th>\n",
       "      <td>S Dhawan</td>\n",
       "      <td>591</td>\n",
       "    </tr>\n",
       "    <tr>\n",
       "      <th>186</th>\n",
       "      <td>DA Warner</td>\n",
       "      <td>510</td>\n",
       "    </tr>\n",
       "    <tr>\n",
       "      <th>15</th>\n",
       "      <td>V Kohli</td>\n",
       "      <td>504</td>\n",
       "    </tr>\n",
       "    <tr>\n",
       "      <th>19</th>\n",
       "      <td>SK Raina</td>\n",
       "      <td>493</td>\n",
       "    </tr>\n",
       "    <tr>\n",
       "      <th>32</th>\n",
       "      <td>G Gambhir</td>\n",
       "      <td>492</td>\n",
       "    </tr>\n",
       "  </tbody>\n",
       "</table>\n",
       "</div>"
      ],
      "text/plain": [
       "       Batsmen  No. of fours\n",
       "31    S Dhawan           591\n",
       "186  DA Warner           510\n",
       "15     V Kohli           504\n",
       "19    SK Raina           493\n",
       "32   G Gambhir           492"
      ]
     },
     "execution_count": 211,
     "metadata": {},
     "output_type": "execute_result"
    }
   ],
   "source": [
    "#Finding the batsmen who has scored the most fours.\n",
    "\n",
    "lst_bf = bats_four.items()\n",
    "df_bf = pd.DataFrame(lst_bf, columns = ['Batsmen', 'No. of fours'])\n",
    "df_bf.sort_values(by = 'No. of fours', ascending = False).head(5)"
   ]
  },
  {
   "cell_type": "markdown",
   "id": "5ec8ab81",
   "metadata": {},
   "source": [
    "S Dhawan has scored the most number of fours."
   ]
  },
  {
   "cell_type": "markdown",
   "id": "50d55d8c",
   "metadata": {},
   "source": [
    "### 16. Which batsmen has scored the most 6's."
   ]
  },
  {
   "cell_type": "code",
   "execution_count": 212,
   "id": "7162c60a",
   "metadata": {},
   "outputs": [],
   "source": [
    "#finding the no. of sixes scored by every batsmen.\n",
    "\n",
    "bats_six = {}\n",
    "\n",
    "for i in batsmen.keys():\n",
    "    c = 0\n",
    "    for j in df_b.values:\n",
    "        if (i == j[4] and j[7] == 6):\n",
    "            c += 1\n",
    "    \n",
    "    bats_six[i] = c"
   ]
  },
  {
   "cell_type": "code",
   "execution_count": 213,
   "id": "c9fbb493",
   "metadata": {},
   "outputs": [
    {
     "data": {
      "text/html": [
       "<div>\n",
       "<style scoped>\n",
       "    .dataframe tbody tr th:only-of-type {\n",
       "        vertical-align: middle;\n",
       "    }\n",
       "\n",
       "    .dataframe tbody tr th {\n",
       "        vertical-align: top;\n",
       "    }\n",
       "\n",
       "    .dataframe thead th {\n",
       "        text-align: right;\n",
       "    }\n",
       "</style>\n",
       "<table border=\"1\" class=\"dataframe\">\n",
       "  <thead>\n",
       "    <tr style=\"text-align: right;\">\n",
       "      <th></th>\n",
       "      <th>Batsmen</th>\n",
       "      <th>No. of sixes</th>\n",
       "    </tr>\n",
       "  </thead>\n",
       "  <tbody>\n",
       "    <tr>\n",
       "      <th>163</th>\n",
       "      <td>CH Gayle</td>\n",
       "      <td>349</td>\n",
       "    </tr>\n",
       "    <tr>\n",
       "      <th>107</th>\n",
       "      <td>AB de Villiers</td>\n",
       "      <td>235</td>\n",
       "    </tr>\n",
       "    <tr>\n",
       "      <th>24</th>\n",
       "      <td>MS Dhoni</td>\n",
       "      <td>216</td>\n",
       "    </tr>\n",
       "    <tr>\n",
       "      <th>61</th>\n",
       "      <td>RG Sharma</td>\n",
       "      <td>214</td>\n",
       "    </tr>\n",
       "    <tr>\n",
       "      <th>15</th>\n",
       "      <td>V Kohli</td>\n",
       "      <td>202</td>\n",
       "    </tr>\n",
       "  </tbody>\n",
       "</table>\n",
       "</div>"
      ],
      "text/plain": [
       "            Batsmen  No. of sixes\n",
       "163        CH Gayle           349\n",
       "107  AB de Villiers           235\n",
       "24         MS Dhoni           216\n",
       "61        RG Sharma           214\n",
       "15          V Kohli           202"
      ]
     },
     "execution_count": 213,
     "metadata": {},
     "output_type": "execute_result"
    }
   ],
   "source": [
    "#Finding the batsmen who has scored the most sixes.\n",
    "\n",
    "lst_bs = bats_six.items()\n",
    "df_bs = pd.DataFrame(lst_bs, columns = ['Batsmen', 'No. of sixes'])\n",
    "df_bs.sort_values(by = 'No. of sixes', ascending = False).head(5)"
   ]
  },
  {
   "cell_type": "markdown",
   "id": "09981765",
   "metadata": {},
   "source": [
    "CH Gayle has scored the most number of sixes."
   ]
  },
  {
   "cell_type": "markdown",
   "id": "a20511f5",
   "metadata": {},
   "source": [
    "### 17. Who is the leading wicket taker"
   ]
  },
  {
   "cell_type": "code",
   "execution_count": 215,
   "id": "ea5f40c1",
   "metadata": {},
   "outputs": [],
   "source": [
    "# finding all the bowlers \n",
    "\n",
    "bowler = {}\n",
    "\n",
    "for i in df_b.values:\n",
    "    if i[6] not in bowler:\n",
    "        bowler[i[6]] = 0"
   ]
  },
  {
   "cell_type": "code",
   "execution_count": 218,
   "id": "1c855127",
   "metadata": {},
   "outputs": [],
   "source": [
    "# finding the no. of wickets taken by every bowler.\n",
    "\n",
    "for i in bowler.keys():\n",
    "    c=0\n",
    "    for j in df_b.values:\n",
    "        if (i == j[6] and j[11]==1):\n",
    "            c += 1\n",
    "    \n",
    "    bowler[i] = c"
   ]
  },
  {
   "cell_type": "code",
   "execution_count": 219,
   "id": "7aabca30",
   "metadata": {},
   "outputs": [
    {
     "data": {
      "text/html": [
       "<div>\n",
       "<style scoped>\n",
       "    .dataframe tbody tr th:only-of-type {\n",
       "        vertical-align: middle;\n",
       "    }\n",
       "\n",
       "    .dataframe tbody tr th {\n",
       "        vertical-align: top;\n",
       "    }\n",
       "\n",
       "    .dataframe thead th {\n",
       "        text-align: right;\n",
       "    }\n",
       "</style>\n",
       "<table border=\"1\" class=\"dataframe\">\n",
       "  <thead>\n",
       "    <tr style=\"text-align: right;\">\n",
       "      <th></th>\n",
       "      <th>Bowler</th>\n",
       "      <th>No. of wickets</th>\n",
       "    </tr>\n",
       "  </thead>\n",
       "  <tbody>\n",
       "    <tr>\n",
       "      <th>100</th>\n",
       "      <td>SL Malinga</td>\n",
       "      <td>188</td>\n",
       "    </tr>\n",
       "    <tr>\n",
       "      <th>56</th>\n",
       "      <td>DJ Bravo</td>\n",
       "      <td>175</td>\n",
       "    </tr>\n",
       "    <tr>\n",
       "      <th>87</th>\n",
       "      <td>A Mishra</td>\n",
       "      <td>169</td>\n",
       "    </tr>\n",
       "    <tr>\n",
       "      <th>15</th>\n",
       "      <td>PP Chawla</td>\n",
       "      <td>164</td>\n",
       "    </tr>\n",
       "    <tr>\n",
       "      <th>40</th>\n",
       "      <td>Harbhajan Singh</td>\n",
       "      <td>161</td>\n",
       "    </tr>\n",
       "  </tbody>\n",
       "</table>\n",
       "</div>"
      ],
      "text/plain": [
       "              Bowler  No. of wickets\n",
       "100       SL Malinga             188\n",
       "56          DJ Bravo             175\n",
       "87          A Mishra             169\n",
       "15         PP Chawla             164\n",
       "40   Harbhajan Singh             161"
      ]
     },
     "execution_count": 219,
     "metadata": {},
     "output_type": "execute_result"
    }
   ],
   "source": [
    "# finding the most wicket taking bowler.\n",
    "\n",
    "lst_bo = bowler.items()\n",
    "df_bo  = pd.DataFrame(lst_bo, columns = ['Bowler', 'No. of wickets'])\n",
    "df_bo.sort_values(by = 'No. of wickets', ascending = False).head(5)"
   ]
  },
  {
   "cell_type": "markdown",
   "id": "4302d8f3",
   "metadata": {},
   "source": [
    "SL Malinga is the most wicket taking bowler"
   ]
  },
  {
   "cell_type": "markdown",
   "id": "7c608031",
   "metadata": {},
   "source": [
    "### 18. Which stadium has hosted the most number of matches?"
   ]
  },
  {
   "cell_type": "code",
   "execution_count": 224,
   "id": "1e55146d",
   "metadata": {},
   "outputs": [],
   "source": [
    "# Finding all the stadiums.\n",
    "\n",
    "stadiums = {}\n",
    "\n",
    "for i in df_m.values:\n",
    "    if i[4] not in stadiums:\n",
    "        stadiums[i[4]] = 0"
   ]
  },
  {
   "cell_type": "code",
   "execution_count": 227,
   "id": "f13c8c79",
   "metadata": {},
   "outputs": [],
   "source": [
    "#finding the no. of matches played in every stadium.\n",
    "\n",
    "for i in stadiums.keys():\n",
    "    c = 0\n",
    "    for j in df_m.values:\n",
    "        if i == j[4]:\n",
    "            c += 1\n",
    "    \n",
    "    stadiums[i] = c"
   ]
  },
  {
   "cell_type": "code",
   "execution_count": 229,
   "id": "68782bd0",
   "metadata": {},
   "outputs": [
    {
     "data": {
      "text/html": [
       "<div>\n",
       "<style scoped>\n",
       "    .dataframe tbody tr th:only-of-type {\n",
       "        vertical-align: middle;\n",
       "    }\n",
       "\n",
       "    .dataframe tbody tr th {\n",
       "        vertical-align: top;\n",
       "    }\n",
       "\n",
       "    .dataframe thead th {\n",
       "        text-align: right;\n",
       "    }\n",
       "</style>\n",
       "<table border=\"1\" class=\"dataframe\">\n",
       "  <thead>\n",
       "    <tr style=\"text-align: right;\">\n",
       "      <th></th>\n",
       "      <th>Stadium</th>\n",
       "      <th>No. of matches played</th>\n",
       "    </tr>\n",
       "  </thead>\n",
       "  <tbody>\n",
       "    <tr>\n",
       "      <th>4</th>\n",
       "      <td>Eden Gardens</td>\n",
       "      <td>77</td>\n",
       "    </tr>\n",
       "    <tr>\n",
       "      <th>2</th>\n",
       "      <td>Feroz Shah Kotla</td>\n",
       "      <td>74</td>\n",
       "    </tr>\n",
       "    <tr>\n",
       "      <th>3</th>\n",
       "      <td>Wankhede Stadium</td>\n",
       "      <td>73</td>\n",
       "    </tr>\n",
       "    <tr>\n",
       "      <th>0</th>\n",
       "      <td>M Chinnaswamy Stadium</td>\n",
       "      <td>65</td>\n",
       "    </tr>\n",
       "    <tr>\n",
       "      <th>6</th>\n",
       "      <td>Rajiv Gandhi International Stadium, Uppal</td>\n",
       "      <td>64</td>\n",
       "    </tr>\n",
       "  </tbody>\n",
       "</table>\n",
       "</div>"
      ],
      "text/plain": [
       "                                     Stadium  No. of matches played\n",
       "4                               Eden Gardens                     77\n",
       "2                           Feroz Shah Kotla                     74\n",
       "3                           Wankhede Stadium                     73\n",
       "0                      M Chinnaswamy Stadium                     65\n",
       "6  Rajiv Gandhi International Stadium, Uppal                     64"
      ]
     },
     "execution_count": 229,
     "metadata": {},
     "output_type": "execute_result"
    }
   ],
   "source": [
    "lst_st = stadiums.items()\n",
    "df_st = pd.DataFrame(lst_st, columns = ['Stadium', 'No. of matches played'])\n",
    "df_st.sort_values(by = 'No. of matches played', ascending = False).head()"
   ]
  },
  {
   "cell_type": "markdown",
   "id": "1621b57b",
   "metadata": {},
   "source": [
    "Eden gardens has hosted the most number of IPL matches."
   ]
  },
  {
   "cell_type": "markdown",
   "id": "892a33f0",
   "metadata": {},
   "source": [
    "### 19. What is the count of 4's hit in every season?"
   ]
  },
  {
   "cell_type": "code",
   "execution_count": 233,
   "id": "a3cc344a",
   "metadata": {},
   "outputs": [],
   "source": [
    "# finding the number of 4's scored in all matches.\n",
    "\n",
    "m_s = {}\n",
    "\n",
    "for i in matches.keys():\n",
    "    c = 0\n",
    "    for j in df_b.values:\n",
    "        if (i == j[0] and j[7] == 4):\n",
    "            c += 1\n",
    "    m_s[i] = c "
   ]
  },
  {
   "cell_type": "code",
   "execution_count": 250,
   "id": "6c67c6a2",
   "metadata": {},
   "outputs": [],
   "source": [
    "# finding the number of 4's scored in every season.\n",
    "\n",
    "season_4 = {}\n",
    "\n",
    "for i in seasons.keys():\n",
    "    seas = 0\n",
    "    for j in df_m.values:\n",
    "        for k in m_s.keys():\n",
    "            if (i in j[2] and j[0] == k):\n",
    "                seas += m_s[k]\n",
    "    \n",
    "    season_4[i] = seas"
   ]
  },
  {
   "cell_type": "code",
   "execution_count": 251,
   "id": "7710ca2d",
   "metadata": {},
   "outputs": [
    {
     "data": {
      "text/plain": [
       "{'2008': 1703,\n",
       " '2009': 1317,\n",
       " '2010': 1708,\n",
       " '2011': 1916,\n",
       " '2012': 1911,\n",
       " '2013': 2052,\n",
       " '2014': 1562,\n",
       " '2015': 1607,\n",
       " '2016': 1633,\n",
       " '2017': 1611,\n",
       " '2018': 1652,\n",
       " '2019': 1653,\n",
       " '2020': 1583}"
      ]
     },
     "execution_count": 251,
     "metadata": {},
     "output_type": "execute_result"
    }
   ],
   "source": [
    "season_4"
   ]
  },
  {
   "cell_type": "code",
   "execution_count": 252,
   "id": "b51c7205",
   "metadata": {},
   "outputs": [
    {
     "data": {
      "image/png": "[encoded data removed]",
      "text/plain": [
       "<Figure size 1000x500 with 1 Axes>"
      ]
     },
     "metadata": {},
     "output_type": "display_data"
    }
   ],
   "source": [
    "#Visualizing the count of 4's in every season.\n",
    "\n",
    "x = season_4.keys()\n",
    "y = season_4.values()\n",
    "\n",
    "fig = plt.figure(figsize = (10,5))\n",
    "\n",
    "plt.bar(x,y, color = 'blue', width =0.4)\n",
    "\n",
    "plt.xlabel('Seasons')\n",
    "plt.ylabel(\"Count of 4's\")\n",
    "plt.title(\"Count of 4's every season\")\n",
    "\n",
    "plt.show()"
   ]
  },
  {
   "cell_type": "markdown",
   "id": "924a73b9",
   "metadata": {},
   "source": [
    "### 20. What is the count of 6's in every season."
   ]
  },
  {
   "cell_type": "code",
   "execution_count": 245,
   "id": "a4568b8b",
   "metadata": {},
   "outputs": [],
   "source": [
    "# finding the number of 6's scored in all matches.\n",
    "\n",
    "m_ss = {}\n",
    "\n",
    "for i in matches.keys():\n",
    "    c = 0\n",
    "    for j in df_b.values:\n",
    "        if (i == j[0] and j[7] == 6):\n",
    "            c += 1\n",
    "    m_ss[i] = c "
   ]
  },
  {
   "cell_type": "code",
   "execution_count": 247,
   "id": "ab86c38c",
   "metadata": {},
   "outputs": [],
   "source": [
    "# finding the number of 6's scored in every season.\n",
    "\n",
    "season_6 = {}\n",
    "\n",
    "for i in seasons.keys():\n",
    "    seas = 0\n",
    "    for j in df_m.values:\n",
    "        for k in m_ss.keys():\n",
    "            if (i in j[2] and j[0] == k):\n",
    "                seas += m_ss[k]\n",
    "    \n",
    "    season_6[i] = seas"
   ]
  },
  {
   "cell_type": "code",
   "execution_count": 248,
   "id": "183b5bb7",
   "metadata": {},
   "outputs": [
    {
     "data": {
      "text/plain": [
       "{'2008': 623,\n",
       " '2009': 506,\n",
       " '2010': 585,\n",
       " '2011': 639,\n",
       " '2012': 733,\n",
       " '2013': 675,\n",
       " '2014': 714,\n",
       " '2015': 692,\n",
       " '2016': 639,\n",
       " '2017': 705,\n",
       " '2018': 872,\n",
       " '2019': 784,\n",
       " '2020': 735}"
      ]
     },
     "execution_count": 248,
     "metadata": {},
     "output_type": "execute_result"
    }
   ],
   "source": [
    "season_6"
   ]
  },
  {
   "cell_type": "code",
   "execution_count": 253,
   "id": "5ecda147",
   "metadata": {},
   "outputs": [
    {
     "data": {
      "image/png": "[encoded data removed]",
      "text/plain": [
       "<Figure size 1000x500 with 1 Axes>"
      ]
     },
     "metadata": {},
     "output_type": "display_data"
    }
   ],
   "source": [
    "#Visualizing the count of 6's in every season.\n",
    "\n",
    "x = season_6.keys()\n",
    "y = season_6.values()\n",
    "\n",
    "fig = plt.figure(figsize = (10,5))\n",
    "\n",
    "plt.bar(x,y, color = 'blue', width =0.4)\n",
    "\n",
    "plt.xlabel('Seasons')\n",
    "plt.ylabel(\"Count of 6's\")\n",
    "plt.title(\"Count of 6's every season\")\n",
    "\n",
    "plt.show()"
   ]
  },
  {
   "cell_type": "markdown",
   "id": "433edfb0",
   "metadata": {},
   "source": [
    "Therefore, we saw some of the frequently asked questions such as runs scored, number of fours/sixes, best players, best teams and much more being answered by analysing the data of the last 12 to 13 years of IPL data. \n",
    "This concludes my project. Thank you."
   ]
  }
 ],
 "metadata": {
  "kernelspec": {
   "display_name": "Python 3 (ipykernel)",
   "language": "python",
   "name": "python3"
  },
  "language_info": {
   "codemirror_mode": {
    "name": "ipython",
    "version": 3
   },
   "file_extension": ".py",
   "mimetype": "text/x-python",
   "name": "python",
   "nbconvert_exporter": "python",
   "pygments_lexer": "ipython3",
   "version": "3.9.13"
  }
 },
 "nbformat": 4,
 "nbformat_minor": 5
}
