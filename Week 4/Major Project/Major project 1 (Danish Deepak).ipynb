{
 "cells": [
  {
   "cell_type": "markdown",
   "metadata": {
    "id": "sMK_zwogYMti"
   },
   "source": [
    "Danish Deepak\n",
    "\n",
    "# Major Project 1 - Inventory Management\n",
    "\n",
    "## A program to create a dictionary with product id as the key and product details as values for inventory management system."
   ]
  },
  {
   "cell_type": "code",
   "execution_count": 3,
   "metadata": {
    "executionInfo": {
     "elapsed": 642,
     "status": "ok",
     "timestamp": 1668501157520,
     "user": {
      "displayName": "Danish Deepak",
      "userId": "06932712960541358697"
     },
     "user_tz": -330
    },
    "id": "DfJFeW28Yri8"
   },
   "outputs": [],
   "source": [
    "#Initiating two empty dictionary. \n",
    "#Main product I'd and value dictionary\n",
    "\n",
    "main_prod={}"
   ]
  },
  {
   "cell_type": "code",
   "execution_count": 6,
   "metadata": {
    "colab": {
     "base_uri": "https://localhost:8080/"
    },
    "executionInfo": {
     "elapsed": 60340,
     "status": "ok",
     "timestamp": 1668501620881,
     "user": {
      "displayName": "Danish Deepak",
      "userId": "06932712960541358697"
     },
     "user_tz": -330
    },
    "id": "6Bzz0j-Da0Oj",
    "outputId": "e71d2bbd-a2bb-4b27-d2b3-4e776fa953b6"
   },
   "outputs": [
    {
     "name": "stdout",
     "output_type": "stream",
     "text": [
      "Product ID        : 003\n",
      "Product Name      : Ipad\n",
      "Product type      : Smart Tablet\n",
      "Product price     : 95,000\n",
      "Manufacturer      : Apple\n",
      "Stock In inventory: 150\n"
     ]
    }
   ],
   "source": [
    "#Temporary dictionary for inputting product details.\n",
    "temp={}\n",
    "#Now inputting product details\n",
    "\n",
    "id_            = input ('Product ID        : ')\n",
    "temp['name']  = input ('Product Name      : ')\n",
    "temp['type']  = input ('Product type      : ')\n",
    "temp['price'] = input ('Product price     : ')\n",
    "temp['manu']  = input ('Manufacturer      : ')\n",
    "temp['stock'] = input ('Stock In inventory: ')\n",
    "\n",
    "main_prod[id_] = temp"
   ]
  },
  {
   "cell_type": "code",
   "execution_count": 7,
   "metadata": {},
   "outputs": [
    {
     "name": "stdout",
     "output_type": "stream",
     "text": [
      "{'001': {'name': 'Macbook', 'type': 'Laptop', 'price': '1,00,000', 'manu': 'Apple', 'stock': '100'}, '002': {'name': 'Iphone 13', 'type': 'Smartphone', 'price': '90,000', 'manu': 'Apple', 'stock': '200'}, '003': {'name': 'Ipad', 'type': 'Smart Tablet', 'price': '95,000', 'manu': 'Apple', 'stock': '150'}}\n"
     ]
    }
   ],
   "source": [
    "print(main_prod)"
   ]
  },
  {
   "cell_type": "code",
   "execution_count": 10,
   "metadata": {},
   "outputs": [
    {
     "name": "stdout",
     "output_type": "stream",
     "text": [
      "Enter the product ID for details: 002\n",
      "----------------------------------------\n",
      "Product Name        :  Iphone 13\n",
      "Product Type        :  Smartphone\n",
      "Product Price       :  90,000\n",
      "Product Manufacturer:  Apple\n",
      "Stock in Inventory  :  200\n",
      "----------------------------------------\n"
     ]
    }
   ],
   "source": [
    "id_=input('Enter the product ID for details: ')\n",
    "\n",
    "print('-'*40)\n",
    "print('Product Name        : ', main_prod[id_]['name'])\n",
    "print('Product Type        : ', main_prod[id_]['type'])\n",
    "print('Product Price       : ', main_prod[id_]['price'])\n",
    "print('Product Manufacturer: ', main_prod[id_]['manu'])\n",
    "print('Stock in Inventory  : ', main_prod[id_]['stock'])\n",
    "print('-'*40)"
   ]
  },
  {
   "cell_type": "markdown",
   "metadata": {
    "id": "7wuCDGWMcqth"
   },
   "source": [
    "Hence a dictionary with product id as key and product details as values is displayed above."
   ]
  }
 ],
 "metadata": {
  "colab": {
   "authorship_tag": "ABX9TyN6QbEKb3ILtkS9MTCUVtzy",
   "mount_file_id": "1gDHUpdTN3b39E2Sp7c5VObd6VtIM3haw",
   "provenance": []
  },
  "kernelspec": {
   "display_name": "Python 3 (ipykernel)",
   "language": "python",
   "name": "python3"
  },
  "language_info": {
   "codemirror_mode": {
    "name": "ipython",
    "version": 3
   },
   "file_extension": ".py",
   "mimetype": "text/x-python",
   "name": "python",
   "nbconvert_exporter": "python",
   "pygments_lexer": "ipython3",
   "version": "3.9.13"
  }
 },
 "nbformat": 4,
 "nbformat_minor": 1
}
